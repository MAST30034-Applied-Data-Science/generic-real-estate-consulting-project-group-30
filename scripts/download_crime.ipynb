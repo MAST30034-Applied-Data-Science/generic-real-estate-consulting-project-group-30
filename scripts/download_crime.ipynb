{
 "cells": [
  {
   "cell_type": "code",
   "execution_count": 1,
   "id": "50e082b3",
   "metadata": {},
   "outputs": [],
   "source": [
    "import requests\n",
    "import zipfile\n",
    "from io import BytesIO\n",
    "import shutil"
   ]
  },
  {
   "cell_type": "code",
   "execution_count": 11,
   "id": "7e11c242",
   "metadata": {},
   "outputs": [
    {
     "name": "stdout",
     "output_type": "stream",
     "text": [
      "starting download\n",
      "download complete\n"
     ]
    }
   ],
   "source": [
    "#code based on answer in https://stackoverflow.com/questions/7243750/download-file-from-web-in-python-3\n",
    "\n",
    "URL  = \"https://files.crimestatistics.vic.gov.au/2022-06/Data_Tables_LGA_Recorded_Offences_Year_Ending_March_2022.xlsx\"\n",
    "\n",
    "output_dir = \"../data/raw/\"\n",
    "\n",
    "# download zip file\n",
    "print(\"starting download\")\n",
    "req = requests.get(URL)\n",
    "file_name = URL.split('/')[-1]\n",
    "\n",
    "output = output_dir + file_name\n",
    "\n",
    "file = open(output, 'wb')\n",
    "\n",
    "for chunk in req.iter_content(100000):\n",
    "    file.write(chunk)\n",
    "    \n",
    "file.close()\n",
    "\n",
    "print(\"download complete\")\n",
    "\n"
   ]
  },
  {
   "cell_type": "code",
   "execution_count": null,
   "id": "8cb0683b",
   "metadata": {},
   "outputs": [],
   "source": []
  }
 ],
 "metadata": {
  "kernelspec": {
   "display_name": "Python 3 (ipykernel)",
   "language": "python",
   "name": "python3"
  },
  "language_info": {
   "codemirror_mode": {
    "name": "ipython",
    "version": 3
   },
   "file_extension": ".py",
   "mimetype": "text/x-python",
   "name": "python",
   "nbconvert_exporter": "python",
   "pygments_lexer": "ipython3",
   "version": "3.10.4"
  }
 },
 "nbformat": 4,
 "nbformat_minor": 5
}

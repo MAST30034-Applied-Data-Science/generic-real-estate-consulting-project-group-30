{
 "cells": [
  {
   "cell_type": "code",
   "execution_count": 1,
   "metadata": {},
   "outputs": [],
   "source": [
    "import pandas as pd"
   ]
  },
  {
   "cell_type": "code",
   "execution_count": 43,
   "metadata": {},
   "outputs": [],
   "source": [
    "property_df = pd.read_csv(\"../data/curated/property_isochrones.csv\")\n",
    "crime_df = pd.read_csv(\"../data/curated/crime_data.csv\")"
   ]
  },
  {
   "cell_type": "code",
   "execution_count": 64,
   "metadata": {},
   "outputs": [],
   "source": [
    "crime_df_2021 = crime_df[crime_df['Year'] == 2021]"
   ]
  },
  {
   "cell_type": "code",
   "execution_count": 65,
   "metadata": {},
   "outputs": [],
   "source": [
    "crime_df_2021 = crime_df_2021.rename(columns={'SA2_codes': 'SA2_CODE_2021'})\n",
    "crime_df_2021 = crime_df_2021.drop(['Year', 'Postcode'], axis = 1)"
   ]
  },
  {
   "cell_type": "code",
   "execution_count": 70,
   "metadata": {},
   "outputs": [],
   "source": [
    "crime_df_2021 = crime_df_2021.drop_duplicates(subset=['SA2_CODE_2021'], keep='first')"
   ]
  },
  {
   "cell_type": "code",
   "execution_count": 71,
   "metadata": {},
   "outputs": [],
   "source": [
    "combined_df = pd.merge(crime_df_2021, property_df, on = 'SA2_CODE_2021')"
   ]
  },
  {
   "cell_type": "code",
   "execution_count": 72,
   "metadata": {},
   "outputs": [],
   "source": [
    "# move offence count and SA2 codes to end of the df\n",
    "cols = list(combined_df.columns.values)\n",
    "cols.pop(cols.index('SA2_CODE_2021'))\n",
    "cols.pop(cols.index('Offence Count'))\n",
    "combined_df = combined_df[cols+['Offence Count', 'SA2_CODE_2021']]"
   ]
  },
  {
   "cell_type": "code",
   "execution_count": 73,
   "metadata": {},
   "outputs": [],
   "source": [
    "# instances with SA2 codes that are not inside the crime data\n",
    "missing = property_df.loc[~property_df['SA2_CODE_2021'].isin(combined_df['SA2_CODE_2021'])].copy()\n",
    "\n",
    "# fill missing values with average crime rate\n",
    "avg_crime_rate = crime_df_2021['Offence Count'].mean().round()\n",
    "missing['Offence Count'] = avg_crime_rate"
   ]
  },
  {
   "cell_type": "code",
   "execution_count": 74,
   "metadata": {},
   "outputs": [],
   "source": [
    "# move SA2 codes to end of the df\n",
    "cols = list(missing.columns.values)\n",
    "cols.pop(cols.index('SA2_CODE_2021'))\n",
    "missing = missing[cols+['SA2_CODE_2021']]"
   ]
  },
  {
   "cell_type": "code",
   "execution_count": 75,
   "metadata": {},
   "outputs": [],
   "source": [
    "combined_df = pd.concat([missing, combined_df])"
   ]
  },
  {
   "cell_type": "code",
   "execution_count": 76,
   "metadata": {},
   "outputs": [
    {
     "data": {
      "text/plain": [
       "(10864, 20)"
      ]
     },
     "execution_count": 76,
     "metadata": {},
     "output_type": "execute_result"
    }
   ],
   "source": [
    "combined_df.shape"
   ]
  },
  {
   "cell_type": "code",
   "execution_count": 77,
   "metadata": {},
   "outputs": [],
   "source": [
    "combined_df.to_csv('../data/curated/full_data.csv', index=False)"
   ]
  }
 ],
 "metadata": {
  "kernelspec": {
   "display_name": "Python 3 (ipykernel)",
   "language": "python",
   "name": "python3"
  },
  "language_info": {
   "codemirror_mode": {
    "name": "ipython",
    "version": 3
   },
   "file_extension": ".py",
   "mimetype": "text/x-python",
   "name": "python",
   "nbconvert_exporter": "python",
   "pygments_lexer": "ipython3",
   "version": "3.9.12"
  },
  "vscode": {
   "interpreter": {
    "hash": "916dbcbb3f70747c44a77c7bcd40155683ae19c65e1c03b4aa3499c5328201f1"
   }
  }
 },
 "nbformat": 4,
 "nbformat_minor": 2
}

{
 "cells": [
  {
   "cell_type": "code",
   "execution_count": 17,
   "id": "bef662fd",
   "metadata": {},
   "outputs": [],
   "source": [
    "import pandas as pd\n",
    "import matplotlib.pyplot as plt\n",
    "import numpy as np\n",
    "from sklearn import datasets, linear_model, metrics\n",
    "from sklearn.metrics import accuracy_score"
   ]
  },
  {
   "cell_type": "code",
   "execution_count": 8,
   "id": "97b1d34c",
   "metadata": {},
   "outputs": [],
   "source": [
    "income= pd.read_csv(\"../data/raw/income_and_pop.csv\")\n",
    "crime = pd.read_csv(\"../data/curated/crime_data.csv\")"
   ]
  },
  {
   "cell_type": "code",
   "execution_count": 9,
   "id": "fba556c3",
   "metadata": {},
   "outputs": [],
   "source": [
    "crime = crime.rename({'Offence Count': 'offence_count'}, axis=1)"
   ]
  },
  {
   "cell_type": "code",
   "execution_count": 10,
   "id": "d446ed48",
   "metadata": {},
   "outputs": [
    {
     "data": {
      "text/html": [
       "<div>\n",
       "<style scoped>\n",
       "    .dataframe tbody tr th:only-of-type {\n",
       "        vertical-align: middle;\n",
       "    }\n",
       "\n",
       "    .dataframe tbody tr th {\n",
       "        vertical-align: top;\n",
       "    }\n",
       "\n",
       "    .dataframe thead th {\n",
       "        text-align: right;\n",
       "    }\n",
       "</style>\n",
       "<table border=\"1\" class=\"dataframe\">\n",
       "  <thead>\n",
       "    <tr style=\"text-align: right;\">\n",
       "      <th></th>\n",
       "      <th>Year</th>\n",
       "      <th>SA2_codes</th>\n",
       "      <th>Postcode</th>\n",
       "      <th>offence_count</th>\n",
       "    </tr>\n",
       "  </thead>\n",
       "  <tbody>\n",
       "    <tr>\n",
       "      <th>0</th>\n",
       "      <td>2013</td>\n",
       "      <td>206011106</td>\n",
       "      <td>3057</td>\n",
       "      <td>156</td>\n",
       "    </tr>\n",
       "    <tr>\n",
       "      <th>1</th>\n",
       "      <td>2013</td>\n",
       "      <td>206011107</td>\n",
       "      <td>3052</td>\n",
       "      <td>552</td>\n",
       "    </tr>\n",
       "    <tr>\n",
       "      <th>2</th>\n",
       "      <td>2013</td>\n",
       "      <td>206011107</td>\n",
       "      <td>3055</td>\n",
       "      <td>229</td>\n",
       "    </tr>\n",
       "    <tr>\n",
       "      <th>3</th>\n",
       "      <td>2013</td>\n",
       "      <td>206011109</td>\n",
       "      <td>3044</td>\n",
       "      <td>514</td>\n",
       "    </tr>\n",
       "    <tr>\n",
       "      <th>4</th>\n",
       "      <td>2013</td>\n",
       "      <td>206011495</td>\n",
       "      <td>3056</td>\n",
       "      <td>732</td>\n",
       "    </tr>\n",
       "    <tr>\n",
       "      <th>...</th>\n",
       "      <td>...</td>\n",
       "      <td>...</td>\n",
       "      <td>...</td>\n",
       "      <td>...</td>\n",
       "    </tr>\n",
       "    <tr>\n",
       "      <th>1795</th>\n",
       "      <td>2022</td>\n",
       "      <td>214011370</td>\n",
       "      <td>3201</td>\n",
       "      <td>675</td>\n",
       "    </tr>\n",
       "    <tr>\n",
       "      <th>1796</th>\n",
       "      <td>2022</td>\n",
       "      <td>214011371</td>\n",
       "      <td>3199</td>\n",
       "      <td>2994</td>\n",
       "    </tr>\n",
       "    <tr>\n",
       "      <th>1797</th>\n",
       "      <td>2022</td>\n",
       "      <td>214011372</td>\n",
       "      <td>3200</td>\n",
       "      <td>437</td>\n",
       "    </tr>\n",
       "    <tr>\n",
       "      <th>1798</th>\n",
       "      <td>2022</td>\n",
       "      <td>214011374</td>\n",
       "      <td>3910</td>\n",
       "      <td>344</td>\n",
       "    </tr>\n",
       "    <tr>\n",
       "      <th>1799</th>\n",
       "      <td>2022</td>\n",
       "      <td>214011375</td>\n",
       "      <td>3198</td>\n",
       "      <td>800</td>\n",
       "    </tr>\n",
       "  </tbody>\n",
       "</table>\n",
       "<p>1800 rows × 4 columns</p>\n",
       "</div>"
      ],
      "text/plain": [
       "      Year  SA2_codes  Postcode  offence_count\n",
       "0     2013  206011106      3057            156\n",
       "1     2013  206011107      3052            552\n",
       "2     2013  206011107      3055            229\n",
       "3     2013  206011109      3044            514\n",
       "4     2013  206011495      3056            732\n",
       "...    ...        ...       ...            ...\n",
       "1795  2022  214011370      3201            675\n",
       "1796  2022  214011371      3199           2994\n",
       "1797  2022  214011372      3200            437\n",
       "1798  2022  214011374      3910            344\n",
       "1799  2022  214011375      3198            800\n",
       "\n",
       "[1800 rows x 4 columns]"
      ]
     },
     "execution_count": 10,
     "metadata": {},
     "output_type": "execute_result"
    }
   ],
   "source": [
    "crime"
   ]
  },
  {
   "cell_type": "code",
   "execution_count": 11,
   "id": "4faaca95",
   "metadata": {},
   "outputs": [],
   "source": [
    "income = income.drop('geometry', axis=1)"
   ]
  },
  {
   "cell_type": "code",
   "execution_count": 14,
   "id": "6c8483aa",
   "metadata": {},
   "outputs": [
    {
     "data": {
      "image/png": "[encoded data removed]",
      "text/plain": [
       "<Figure size 432x288 with 1 Axes>"
      ]
     },
     "metadata": {
      "needs_background": "light"
     },
     "output_type": "display_data"
    }
   ],
   "source": [
    "plt.hist(y_crime)\n",
    "plt.show()"
   ]
  },
  {
   "cell_type": "code",
   "execution_count": 12,
   "id": "3f8f4fac",
   "metadata": {},
   "outputs": [],
   "source": [
    "X_crime = crime.drop('offence_count', axis=1) \n",
    "y_crime = crime['offence_count']\n",
    "\n",
    "\n"
   ]
  },
  {
   "cell_type": "code",
   "execution_count": 13,
   "id": "d9f596d7",
   "metadata": {},
   "outputs": [
    {
     "data": {
      "text/plain": [
       "LinearRegression()"
      ]
     },
     "execution_count": 13,
     "metadata": {},
     "output_type": "execute_result"
    }
   ],
   "source": [
    "# splitting X and y into training and testing sets\n",
    "from sklearn.model_selection import train_test_split\n",
    "X_train, X_test, y_train, y_test = train_test_split(X_crime, y_crime, test_size=0.2,\n",
    "                                                    random_state=42)\n",
    "  \n",
    "# create linear regression object\n",
    "reg = linear_model.LinearRegression()\n",
    "  \n",
    "# train the model using the training sets\n",
    "reg.fit(X_train, y_train)"
   ]
  },
  {
   "cell_type": "code",
   "execution_count": 19,
   "id": "fc79058a",
   "metadata": {},
   "outputs": [
    {
     "data": {
      "text/plain": [
       "array([ 951.86216961,  615.88625549,  888.37994144,  895.32857943,\n",
       "        597.20809215,  585.72133003,  601.29423967,  837.83441345,\n",
       "        677.07648247,  798.72952857,  677.20595629,  565.49869805,\n",
       "        916.79018283,  562.92821548,  582.20812114,  601.22733915,\n",
       "        538.28597575,  973.38233057,  928.35510949,  861.52071993,\n",
       "        547.03070546,  516.70779499,  888.34619307,  991.38081764,\n",
       "        783.92121127,  811.37779445,  980.88855095,  928.24706464,\n",
       "        947.08666705,  949.11698361,  861.28011491,  645.17318465,\n",
       "        792.66977915,  766.43662456,  733.31932193,  893.97675013,\n",
       "        633.0223592 ,  702.91260252, 1007.95058799,  814.59724486,\n",
       "        663.5994416 ,  695.50994281,  909.982305  ,  912.00137059,\n",
       "        533.61805206,  584.05752418,  765.5057819 ,  837.51057007,\n",
       "        630.11703206,  612.33124726,  602.15941366,  768.79142505,\n",
       "        633.4138601 ,  874.96783455,  781.69925665,  702.88355131,\n",
       "        766.50264261,  476.75479608,  629.05981786,  795.78759181,\n",
       "        752.12619122,  808.56728918,  619.83238629,  781.82261623,\n",
       "        678.02565182,  617.77352586,  659.31752005,  645.90620608,\n",
       "        538.5246008 , 1021.70938721,  503.40499171,  895.9957575 ,\n",
       "        717.42181191,  533.00736818,  964.99104093, 1022.83314353,\n",
       "        846.90896372,  885.20310014,  601.10179185,  760.87475911,\n",
       "        679.34676352,  615.59809173,  582.09984337,  781.04236524,\n",
       "        469.25365705,  894.60149379, 1039.63767965, 1028.58108102,\n",
       "        924.37870463,  617.73243977,  811.48642161,  840.57959945,\n",
       "        502.77342433,  860.80618384,  501.0486771 ,  686.79882811,\n",
       "       1037.60689723,  582.31616599,  501.21234814,  552.16668334,\n",
       "        485.15116707,  687.0150925 , 1060.70070145,  781.42705026,\n",
       "        909.87426015,  581.82089615,  904.06056885,  799.606528  ,\n",
       "        991.94514958,  652.29570538,  798.59168999,  854.43730115,\n",
       "        613.89486342,  664.99244107,  633.95443371,  717.18868287,\n",
       "        928.46303787,  599.90135666,  632.68054752,  763.48041326,\n",
       "        853.09803744,  530.72337673,  912.34955462,  878.70398376,\n",
       "        860.52991536,  908.55349783,  904.06142001,  862.18173008,\n",
       "        600.12488267,  911.55057337, 1037.39069108,  847.73648331,\n",
       "        944.14457467,  911.22608945,  858.75742856,  798.49424317,\n",
       "        959.39317508,  838.30949309,  751.95744002,  767.70346311,\n",
       "        531.99813651,  631.91234994,  534.4073133 ,  860.86096776,\n",
       "        620.08277253,  941.91156152,  750.06467544, 1035.76931964,\n",
       "        959.69390066,  750.53911454,  713.44198383, 1039.74560803,\n",
       "        795.2421678 ,  964.4827129 ,  548.03494989,  655.00380807,\n",
       "        957.48482055,  639.40155607,  566.52699196,  585.61340165,\n",
       "        702.37214537,  585.93741972, 1023.84809801,  696.27058761,\n",
       "        647.64756427,  648.90230854,  895.31176805,  687.0995537 ,\n",
       "        831.18551659,  831.29350321,  885.1093801 ,  831.22783454,\n",
       "        594.3989263 ,  591.60098115,  711.23760436,  615.54016789,\n",
       "        780.88682604,  587.79903234,  648.47007093,  827.95429898,\n",
       "        699.57032264,  941.58731052,  989.80661347,  943.2376068 ,\n",
       "        696.162601  ,  485.31483811,  696.48685199,  618.16263018,\n",
       "        633.90966094,  513.89502405,  567.90556166,  847.12534456,\n",
       "        863.40876139,  933.69455323,  718.44312972,  681.49636806,\n",
       "        572.00980008,  633.26133364,  581.39620807,  815.71623132,\n",
       "        648.98676974,  894.39791146,  613.6159162 ,  501.32056767,\n",
       "        846.42205864,  901.20865501,  862.21175675,  798.69973483,\n",
       "        950.02453379,  610.08017194,  910.82325481,  485.42305765,\n",
       "        569.67129355,  749.74054091,  616.67505088,  610.29643633,\n",
       "        814.51922668,  647.80985996,  563.79315655,  497.10997936,\n",
       "        668.1932154 ,  845.51510683,  671.20204368,  536.5272898 ,\n",
       "        517.72054204,  584.09123544,  613.16230784,  781.69110016,\n",
       "        501.21644035,  920.14121312,  798.62171665,  601.20977847,\n",
       "        585.20428183,  916.68807754,  565.68563454,  733.71076186,\n",
       "        603.93487626,  513.00748938,  894.08479497,  783.31892362,\n",
       "        612.26015253,  596.36264251,  767.81150796,  598.10563117,\n",
       "        607.60653602,  783.49298652,  846.18677324,  869.6294335 ,\n",
       "        631.54572276,  888.05483929,  628.39652054,  830.95742677,\n",
       "        612.38704815,  813.82818986, 1037.49914354,  779.48620106,\n",
       "        840.47052876,  513.76432738, 1044.69485543,  846.31424672,\n",
       "        877.30087233,  911.78504798,  585.39672965,  578.2851519 ,\n",
       "       1023.06761814,  535.33024258,  598.15848447,  906.55800347,\n",
       "        517.00198801,  553.53480908,  721.09889498,  766.58710382,\n",
       "        783.70901798,  579.82996993,  879.76674606, 1006.93563351,\n",
       "        712.49234863,  768.24893319,  783.71559977,  548.79700805,\n",
       "        765.89505477,  927.57486255,  543.08938163,  669.60425587,\n",
       "        578.4159068 ,  600.77754086,  744.19861707,  784.70599515,\n",
       "        580.69989825,  667.7753026 ,  831.33570469,  616.6515837 ,\n",
       "        586.26190364,  500.81028496,  671.11758247,  534.51559107,\n",
       "        522.38846572,  910.31906336,  927.89888062,  917.53811149,\n",
       "        646.01454208,  974.05952447,  906.66628124,  909.77681334,\n",
       "        974.01685714,  919.95893003,  613.37816461,  661.69567126,\n",
       "        615.85254422,  748.46674887,  784.02919788,  831.40154805,\n",
       "        845.62320991,  927.59815503,  822.15305135,  663.34074281,\n",
       "        701.93950014,  731.56699111,  815.6172705 ,  617.40842169,\n",
       "        797.58861018,  672.43302961,  498.92835669,  598.5381017 ,\n",
       "        602.00881795,  596.43373724,  973.88546158,  598.68165762,\n",
       "        845.50585228,  663.49139675,  660.85483791,  561.58755412,\n",
       "        636.39819535,  964.38060761,  647.39311177,  601.61884005,\n",
       "        783.82225045,  812.83738529,  596.59740828,  874.65493858,\n",
       "        911.67735252,  902.33200372,  702.69633814,  701.91574181,\n",
       "        847.23321471,  647.68127553,  616.45855358,  796.93987526,\n",
       "        896.4520446 ,  894.92574478,  563.93245991, 1005.17735062,\n",
       "        782.80222481, 1036.97237066,  566.31061112,  599.79307889,\n",
       "        598.92028267,  906.87148175,  597.29371809,  601.87601584])"
      ]
     },
     "execution_count": 19,
     "metadata": {},
     "output_type": "execute_result"
    }
   ],
   "source": [
    "y_pred = reg.predict(X_test) \n",
    "y_pred"
   ]
  },
  {
   "cell_type": "code",
   "execution_count": 20,
   "id": "ae09fdd4",
   "metadata": {},
   "outputs": [
    {
     "data": {
      "text/plain": [
       "348555.8195716297"
      ]
     },
     "execution_count": 20,
     "metadata": {},
     "output_type": "execute_result"
    }
   ],
   "source": [
    "from sklearn.metrics import mean_squared_error\n",
    "mean_squared_error(y_test, y_pred)"
   ]
  },
  {
   "cell_type": "code",
   "execution_count": 25,
   "id": "78d2691e",
   "metadata": {},
   "outputs": [],
   "source": [
    "np.mean(y_test)\n",
    "ypred = np.mean(y_test)"
   ]
  },
  {
   "cell_type": "code",
   "execution_count": 26,
   "id": "b4e4c91d",
   "metadata": {},
   "outputs": [
    {
     "ename": "TypeError",
     "evalue": "Expected sequence or array-like, got <class 'float'>",
     "output_type": "error",
     "traceback": [
      "\u001b[0;31m---------------------------------------------------------------------------\u001b[0m",
      "\u001b[0;31mTypeError\u001b[0m                                 Traceback (most recent call last)",
      "\u001b[0;32m/var/folders/b3/mqwrtgbd6ksd_59nr64r5p6r0000gn/T/ipykernel_26180/3946128418.py\u001b[0m in \u001b[0;36m<module>\u001b[0;34m\u001b[0m\n\u001b[0;32m----> 1\u001b[0;31m \u001b[0mmean_squared_error\u001b[0m\u001b[0;34m(\u001b[0m\u001b[0my_test\u001b[0m\u001b[0;34m,\u001b[0m \u001b[0mypred\u001b[0m\u001b[0;34m)\u001b[0m\u001b[0;34m\u001b[0m\u001b[0;34m\u001b[0m\u001b[0m\n\u001b[0m",
      "\u001b[0;32m/opt/anaconda3/lib/python3.9/site-packages/sklearn/utils/validation.py\u001b[0m in \u001b[0;36minner_f\u001b[0;34m(*args, **kwargs)\u001b[0m\n\u001b[1;32m     61\u001b[0m             \u001b[0mextra_args\u001b[0m \u001b[0;34m=\u001b[0m \u001b[0mlen\u001b[0m\u001b[0;34m(\u001b[0m\u001b[0margs\u001b[0m\u001b[0;34m)\u001b[0m \u001b[0;34m-\u001b[0m \u001b[0mlen\u001b[0m\u001b[0;34m(\u001b[0m\u001b[0mall_args\u001b[0m\u001b[0;34m)\u001b[0m\u001b[0;34m\u001b[0m\u001b[0;34m\u001b[0m\u001b[0m\n\u001b[1;32m     62\u001b[0m             \u001b[0;32mif\u001b[0m \u001b[0mextra_args\u001b[0m \u001b[0;34m<=\u001b[0m \u001b[0;36m0\u001b[0m\u001b[0;34m:\u001b[0m\u001b[0;34m\u001b[0m\u001b[0;34m\u001b[0m\u001b[0m\n\u001b[0;32m---> 63\u001b[0;31m                 \u001b[0;32mreturn\u001b[0m \u001b[0mf\u001b[0m\u001b[0;34m(\u001b[0m\u001b[0;34m*\u001b[0m\u001b[0margs\u001b[0m\u001b[0;34m,\u001b[0m \u001b[0;34m**\u001b[0m\u001b[0mkwargs\u001b[0m\u001b[0;34m)\u001b[0m\u001b[0;34m\u001b[0m\u001b[0;34m\u001b[0m\u001b[0m\n\u001b[0m\u001b[1;32m     64\u001b[0m \u001b[0;34m\u001b[0m\u001b[0m\n\u001b[1;32m     65\u001b[0m             \u001b[0;31m# extra_args > 0\u001b[0m\u001b[0;34m\u001b[0m\u001b[0;34m\u001b[0m\u001b[0m\n",
      "\u001b[0;32m/opt/anaconda3/lib/python3.9/site-packages/sklearn/metrics/_regression.py\u001b[0m in \u001b[0;36mmean_squared_error\u001b[0;34m(y_true, y_pred, sample_weight, multioutput, squared)\u001b[0m\n\u001b[1;32m    333\u001b[0m     \u001b[0;36m0.825\u001b[0m\u001b[0;34m...\u001b[0m\u001b[0;34m\u001b[0m\u001b[0;34m\u001b[0m\u001b[0m\n\u001b[1;32m    334\u001b[0m     \"\"\"\n\u001b[0;32m--> 335\u001b[0;31m     y_type, y_true, y_pred, multioutput = _check_reg_targets(\n\u001b[0m\u001b[1;32m    336\u001b[0m         y_true, y_pred, multioutput)\n\u001b[1;32m    337\u001b[0m     \u001b[0mcheck_consistent_length\u001b[0m\u001b[0;34m(\u001b[0m\u001b[0my_true\u001b[0m\u001b[0;34m,\u001b[0m \u001b[0my_pred\u001b[0m\u001b[0;34m,\u001b[0m \u001b[0msample_weight\u001b[0m\u001b[0;34m)\u001b[0m\u001b[0;34m\u001b[0m\u001b[0;34m\u001b[0m\u001b[0m\n",
      "\u001b[0;32m/opt/anaconda3/lib/python3.9/site-packages/sklearn/metrics/_regression.py\u001b[0m in \u001b[0;36m_check_reg_targets\u001b[0;34m(y_true, y_pred, multioutput, dtype)\u001b[0m\n\u001b[1;32m     86\u001b[0m         \u001b[0mthe\u001b[0m \u001b[0mdtype\u001b[0m \u001b[0margument\u001b[0m \u001b[0mpassed\u001b[0m \u001b[0mto\u001b[0m \u001b[0mcheck_array\u001b[0m\u001b[0;34m.\u001b[0m\u001b[0;34m\u001b[0m\u001b[0;34m\u001b[0m\u001b[0m\n\u001b[1;32m     87\u001b[0m     \"\"\"\n\u001b[0;32m---> 88\u001b[0;31m     \u001b[0mcheck_consistent_length\u001b[0m\u001b[0;34m(\u001b[0m\u001b[0my_true\u001b[0m\u001b[0;34m,\u001b[0m \u001b[0my_pred\u001b[0m\u001b[0;34m)\u001b[0m\u001b[0;34m\u001b[0m\u001b[0;34m\u001b[0m\u001b[0m\n\u001b[0m\u001b[1;32m     89\u001b[0m     \u001b[0my_true\u001b[0m \u001b[0;34m=\u001b[0m \u001b[0mcheck_array\u001b[0m\u001b[0;34m(\u001b[0m\u001b[0my_true\u001b[0m\u001b[0;34m,\u001b[0m \u001b[0mensure_2d\u001b[0m\u001b[0;34m=\u001b[0m\u001b[0;32mFalse\u001b[0m\u001b[0;34m,\u001b[0m \u001b[0mdtype\u001b[0m\u001b[0;34m=\u001b[0m\u001b[0mdtype\u001b[0m\u001b[0;34m)\u001b[0m\u001b[0;34m\u001b[0m\u001b[0;34m\u001b[0m\u001b[0m\n\u001b[1;32m     90\u001b[0m     \u001b[0my_pred\u001b[0m \u001b[0;34m=\u001b[0m \u001b[0mcheck_array\u001b[0m\u001b[0;34m(\u001b[0m\u001b[0my_pred\u001b[0m\u001b[0;34m,\u001b[0m \u001b[0mensure_2d\u001b[0m\u001b[0;34m=\u001b[0m\u001b[0;32mFalse\u001b[0m\u001b[0;34m,\u001b[0m \u001b[0mdtype\u001b[0m\u001b[0;34m=\u001b[0m\u001b[0mdtype\u001b[0m\u001b[0;34m)\u001b[0m\u001b[0;34m\u001b[0m\u001b[0;34m\u001b[0m\u001b[0m\n",
      "\u001b[0;32m/opt/anaconda3/lib/python3.9/site-packages/sklearn/utils/validation.py\u001b[0m in \u001b[0;36mcheck_consistent_length\u001b[0;34m(*arrays)\u001b[0m\n\u001b[1;32m    314\u001b[0m     \"\"\"\n\u001b[1;32m    315\u001b[0m \u001b[0;34m\u001b[0m\u001b[0m\n\u001b[0;32m--> 316\u001b[0;31m     \u001b[0mlengths\u001b[0m \u001b[0;34m=\u001b[0m \u001b[0;34m[\u001b[0m\u001b[0m_num_samples\u001b[0m\u001b[0;34m(\u001b[0m\u001b[0mX\u001b[0m\u001b[0;34m)\u001b[0m \u001b[0;32mfor\u001b[0m \u001b[0mX\u001b[0m \u001b[0;32min\u001b[0m \u001b[0marrays\u001b[0m \u001b[0;32mif\u001b[0m \u001b[0mX\u001b[0m \u001b[0;32mis\u001b[0m \u001b[0;32mnot\u001b[0m \u001b[0;32mNone\u001b[0m\u001b[0;34m]\u001b[0m\u001b[0;34m\u001b[0m\u001b[0;34m\u001b[0m\u001b[0m\n\u001b[0m\u001b[1;32m    317\u001b[0m     \u001b[0muniques\u001b[0m \u001b[0;34m=\u001b[0m \u001b[0mnp\u001b[0m\u001b[0;34m.\u001b[0m\u001b[0munique\u001b[0m\u001b[0;34m(\u001b[0m\u001b[0mlengths\u001b[0m\u001b[0;34m)\u001b[0m\u001b[0;34m\u001b[0m\u001b[0;34m\u001b[0m\u001b[0m\n\u001b[1;32m    318\u001b[0m     \u001b[0;32mif\u001b[0m \u001b[0mlen\u001b[0m\u001b[0;34m(\u001b[0m\u001b[0muniques\u001b[0m\u001b[0;34m)\u001b[0m \u001b[0;34m>\u001b[0m \u001b[0;36m1\u001b[0m\u001b[0;34m:\u001b[0m\u001b[0;34m\u001b[0m\u001b[0;34m\u001b[0m\u001b[0m\n",
      "\u001b[0;32m/opt/anaconda3/lib/python3.9/site-packages/sklearn/utils/validation.py\u001b[0m in \u001b[0;36m<listcomp>\u001b[0;34m(.0)\u001b[0m\n\u001b[1;32m    314\u001b[0m     \"\"\"\n\u001b[1;32m    315\u001b[0m \u001b[0;34m\u001b[0m\u001b[0m\n\u001b[0;32m--> 316\u001b[0;31m     \u001b[0mlengths\u001b[0m \u001b[0;34m=\u001b[0m \u001b[0;34m[\u001b[0m\u001b[0m_num_samples\u001b[0m\u001b[0;34m(\u001b[0m\u001b[0mX\u001b[0m\u001b[0;34m)\u001b[0m \u001b[0;32mfor\u001b[0m \u001b[0mX\u001b[0m \u001b[0;32min\u001b[0m \u001b[0marrays\u001b[0m \u001b[0;32mif\u001b[0m \u001b[0mX\u001b[0m \u001b[0;32mis\u001b[0m \u001b[0;32mnot\u001b[0m \u001b[0;32mNone\u001b[0m\u001b[0;34m]\u001b[0m\u001b[0;34m\u001b[0m\u001b[0;34m\u001b[0m\u001b[0m\n\u001b[0m\u001b[1;32m    317\u001b[0m     \u001b[0muniques\u001b[0m \u001b[0;34m=\u001b[0m \u001b[0mnp\u001b[0m\u001b[0;34m.\u001b[0m\u001b[0munique\u001b[0m\u001b[0;34m(\u001b[0m\u001b[0mlengths\u001b[0m\u001b[0;34m)\u001b[0m\u001b[0;34m\u001b[0m\u001b[0;34m\u001b[0m\u001b[0m\n\u001b[1;32m    318\u001b[0m     \u001b[0;32mif\u001b[0m \u001b[0mlen\u001b[0m\u001b[0;34m(\u001b[0m\u001b[0muniques\u001b[0m\u001b[0;34m)\u001b[0m \u001b[0;34m>\u001b[0m \u001b[0;36m1\u001b[0m\u001b[0;34m:\u001b[0m\u001b[0;34m\u001b[0m\u001b[0;34m\u001b[0m\u001b[0m\n",
      "\u001b[0;32m/opt/anaconda3/lib/python3.9/site-packages/sklearn/utils/validation.py\u001b[0m in \u001b[0;36m_num_samples\u001b[0;34m(x)\u001b[0m\n\u001b[1;32m    253\u001b[0m             \u001b[0mx\u001b[0m \u001b[0;34m=\u001b[0m \u001b[0mnp\u001b[0m\u001b[0;34m.\u001b[0m\u001b[0masarray\u001b[0m\u001b[0;34m(\u001b[0m\u001b[0mx\u001b[0m\u001b[0;34m)\u001b[0m\u001b[0;34m\u001b[0m\u001b[0;34m\u001b[0m\u001b[0m\n\u001b[1;32m    254\u001b[0m         \u001b[0;32melse\u001b[0m\u001b[0;34m:\u001b[0m\u001b[0;34m\u001b[0m\u001b[0;34m\u001b[0m\u001b[0m\n\u001b[0;32m--> 255\u001b[0;31m             \u001b[0;32mraise\u001b[0m \u001b[0mTypeError\u001b[0m\u001b[0;34m(\u001b[0m\u001b[0mmessage\u001b[0m\u001b[0;34m)\u001b[0m\u001b[0;34m\u001b[0m\u001b[0;34m\u001b[0m\u001b[0m\n\u001b[0m\u001b[1;32m    256\u001b[0m \u001b[0;34m\u001b[0m\u001b[0m\n\u001b[1;32m    257\u001b[0m     \u001b[0;32mif\u001b[0m \u001b[0mhasattr\u001b[0m\u001b[0;34m(\u001b[0m\u001b[0mx\u001b[0m\u001b[0;34m,\u001b[0m \u001b[0;34m'shape'\u001b[0m\u001b[0;34m)\u001b[0m \u001b[0;32mand\u001b[0m \u001b[0mx\u001b[0m\u001b[0;34m.\u001b[0m\u001b[0mshape\u001b[0m \u001b[0;32mis\u001b[0m \u001b[0;32mnot\u001b[0m \u001b[0;32mNone\u001b[0m\u001b[0;34m:\u001b[0m\u001b[0;34m\u001b[0m\u001b[0;34m\u001b[0m\u001b[0m\n",
      "\u001b[0;31mTypeError\u001b[0m: Expected sequence or array-like, got <class 'float'>"
     ]
    }
   ],
   "source": [
    "mean_squared_error(y_test, ypred)"
   ]
  },
  {
   "cell_type": "code",
   "execution_count": null,
   "id": "9fa54f83",
   "metadata": {},
   "outputs": [],
   "source": []
  }
 ],
 "metadata": {
  "kernelspec": {
   "display_name": "Python 3 (ipykernel)",
   "language": "python",
   "name": "python3"
  },
  "language_info": {
   "codemirror_mode": {
    "name": "ipython",
    "version": 3
   },
   "file_extension": ".py",
   "mimetype": "text/x-python",
   "name": "python",
   "nbconvert_exporter": "python",
   "pygments_lexer": "ipython3",
   "version": "3.9.7"
  },
  "vscode": {
   "interpreter": {
    "hash": "916dbcbb3f70747c44a77c7bcd40155683ae19c65e1c03b4aa3499c5328201f1"
   }
  }
 },
 "nbformat": 4,
 "nbformat_minor": 5
}

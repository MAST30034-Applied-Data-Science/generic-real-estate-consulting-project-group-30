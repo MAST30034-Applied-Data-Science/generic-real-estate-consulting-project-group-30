{
 "cells": [
  {
   "cell_type": "code",
   "execution_count": 60,
   "id": "bef662fd",
   "metadata": {},
   "outputs": [],
   "source": [
    "import pandas as pd\n",
    "import matplotlib.pyplot as plt\n",
    "import numpy as np\n",
    "from sklearn import datasets, linear_model, metrics\n",
    "from sklearn.metrics import accuracy_score"
   ]
  },
  {
   "cell_type": "code",
   "execution_count": 61,
   "id": "97b1d34c",
   "metadata": {},
   "outputs": [],
   "source": [
    "income= pd.read_csv(\"../data/raw/income_and_pop.csv\")\n",
    "crime = pd.read_csv(\"../data/curated/crime_data.csv\")"
   ]
  },
  {
   "cell_type": "code",
   "execution_count": 62,
   "id": "fba556c3",
   "metadata": {},
   "outputs": [],
   "source": [
    "crime = crime.rename({'Offence Count': 'offence_count'}, axis=1)"
   ]
  },
  {
   "cell_type": "code",
   "execution_count": 63,
   "id": "d446ed48",
   "metadata": {},
   "outputs": [
    {
     "data": {
      "text/html": [
       "<div>\n",
       "<style scoped>\n",
       "    .dataframe tbody tr th:only-of-type {\n",
       "        vertical-align: middle;\n",
       "    }\n",
       "\n",
       "    .dataframe tbody tr th {\n",
       "        vertical-align: top;\n",
       "    }\n",
       "\n",
       "    .dataframe thead th {\n",
       "        text-align: right;\n",
       "    }\n",
       "</style>\n",
       "<table border=\"1\" class=\"dataframe\">\n",
       "  <thead>\n",
       "    <tr style=\"text-align: right;\">\n",
       "      <th></th>\n",
       "      <th>Year</th>\n",
       "      <th>SA2_codes</th>\n",
       "      <th>Postcode</th>\n",
       "      <th>offence_count</th>\n",
       "    </tr>\n",
       "  </thead>\n",
       "  <tbody>\n",
       "    <tr>\n",
       "      <th>0</th>\n",
       "      <td>2013</td>\n",
       "      <td>206011106</td>\n",
       "      <td>3057</td>\n",
       "      <td>156</td>\n",
       "    </tr>\n",
       "    <tr>\n",
       "      <th>1</th>\n",
       "      <td>2013</td>\n",
       "      <td>206011107</td>\n",
       "      <td>3052</td>\n",
       "      <td>552</td>\n",
       "    </tr>\n",
       "    <tr>\n",
       "      <th>2</th>\n",
       "      <td>2013</td>\n",
       "      <td>206011107</td>\n",
       "      <td>3055</td>\n",
       "      <td>229</td>\n",
       "    </tr>\n",
       "    <tr>\n",
       "      <th>3</th>\n",
       "      <td>2013</td>\n",
       "      <td>206011109</td>\n",
       "      <td>3044</td>\n",
       "      <td>514</td>\n",
       "    </tr>\n",
       "    <tr>\n",
       "      <th>4</th>\n",
       "      <td>2013</td>\n",
       "      <td>206011495</td>\n",
       "      <td>3056</td>\n",
       "      <td>732</td>\n",
       "    </tr>\n",
       "    <tr>\n",
       "      <th>...</th>\n",
       "      <td>...</td>\n",
       "      <td>...</td>\n",
       "      <td>...</td>\n",
       "      <td>...</td>\n",
       "    </tr>\n",
       "    <tr>\n",
       "      <th>1795</th>\n",
       "      <td>2022</td>\n",
       "      <td>214011370</td>\n",
       "      <td>3201</td>\n",
       "      <td>675</td>\n",
       "    </tr>\n",
       "    <tr>\n",
       "      <th>1796</th>\n",
       "      <td>2022</td>\n",
       "      <td>214011371</td>\n",
       "      <td>3199</td>\n",
       "      <td>2994</td>\n",
       "    </tr>\n",
       "    <tr>\n",
       "      <th>1797</th>\n",
       "      <td>2022</td>\n",
       "      <td>214011372</td>\n",
       "      <td>3200</td>\n",
       "      <td>437</td>\n",
       "    </tr>\n",
       "    <tr>\n",
       "      <th>1798</th>\n",
       "      <td>2022</td>\n",
       "      <td>214011374</td>\n",
       "      <td>3910</td>\n",
       "      <td>344</td>\n",
       "    </tr>\n",
       "    <tr>\n",
       "      <th>1799</th>\n",
       "      <td>2022</td>\n",
       "      <td>214011375</td>\n",
       "      <td>3198</td>\n",
       "      <td>800</td>\n",
       "    </tr>\n",
       "  </tbody>\n",
       "</table>\n",
       "<p>1800 rows × 4 columns</p>\n",
       "</div>"
      ],
      "text/plain": [
       "      Year  SA2_codes  Postcode  offence_count\n",
       "0     2013  206011106      3057            156\n",
       "1     2013  206011107      3052            552\n",
       "2     2013  206011107      3055            229\n",
       "3     2013  206011109      3044            514\n",
       "4     2013  206011495      3056            732\n",
       "...    ...        ...       ...            ...\n",
       "1795  2022  214011370      3201            675\n",
       "1796  2022  214011371      3199           2994\n",
       "1797  2022  214011372      3200            437\n",
       "1798  2022  214011374      3910            344\n",
       "1799  2022  214011375      3198            800\n",
       "\n",
       "[1800 rows x 4 columns]"
      ]
     },
     "execution_count": 63,
     "metadata": {},
     "output_type": "execute_result"
    }
   ],
   "source": [
    "crime"
   ]
  },
  {
   "cell_type": "code",
   "execution_count": 64,
   "id": "4faaca95",
   "metadata": {},
   "outputs": [],
   "source": [
    "income = income.drop('geometry', axis=1)"
   ]
  },
  {
   "cell_type": "code",
   "execution_count": 65,
   "id": "6c8483aa",
   "metadata": {},
   "outputs": [
    {
     "data": {
      "image/png": "[encoded data removed]",
      "text/plain": [
       "<Figure size 432x288 with 1 Axes>"
      ]
     },
     "metadata": {
      "needs_background": "light"
     },
     "output_type": "display_data"
    }
   ],
   "source": [
    "plt.hist(y_crime)\n",
    "plt.show()"
   ]
  },
  {
   "cell_type": "code",
   "execution_count": 66,
   "id": "3f8f4fac",
   "metadata": {},
   "outputs": [],
   "source": [
    "X_crime = crime.drop('offence_count', axis=1) \n",
    "y_crime = crime['offence_count']\n",
    "\n",
    "\n",
    "# splitting X and y into training and testing sets\n",
    "from sklearn.model_selection import train_test_split\n",
    "X_train, X_test, y_train, y_test = train_test_split(X_crime, y_crime, test_size=0.2,\n",
    "                                                    random_state=42)\n",
    "  \n",
    "# create linear regression object\n",
    "reg = linear_model.LinearRegression()\n",
    "  \n",
    "# train the model using the training sets\n",
    "reg.fit(X_train, y_train)\n",
    "\n",
    "y_pred = reg.predict(X_test) \n"
   ]
  },
  {
   "cell_type": "code",
   "execution_count": 67,
   "id": "d5b0e156",
   "metadata": {},
   "outputs": [
    {
     "data": {
      "text/plain": [
       "348555.8195716297"
      ]
     },
     "execution_count": 67,
     "metadata": {},
     "output_type": "execute_result"
    }
   ],
   "source": [
    "from sklearn.metrics import mean_squared_error\n",
    "mean_squared_error(y_test, y_pred)"
   ]
  },
  {
   "cell_type": "code",
   "execution_count": 68,
   "id": "356cdb64",
   "metadata": {},
   "outputs": [],
   "source": [
    "from sklearn.dummy import DummyRegressor\n",
    "dummy = DummyRegressor(strategy=\"mean\")\n",
    "dummy.fit(X_train, y_train)\n",
    "y_pred_dummy = dummy.predict(X_test)"
   ]
  },
  {
   "cell_type": "code",
   "execution_count": 69,
   "id": "4485fb80",
   "metadata": {},
   "outputs": [
    {
     "name": "stdout",
     "output_type": "stream",
     "text": [
      "lm 590.3861613991555\n",
      "dummy 614.8282385802795\n"
     ]
    }
   ],
   "source": [
    "from sklearn.metrics import mean_squared_error\n",
    "import math\n",
    "print(\"lm\", math.sqrt(mean_squared_error(y_test, y_pred)))\n",
    "print(\"dummy\", math.sqrt(mean_squared_error(y_test, y_pred_dummy)))"
   ]
  },
  {
   "cell_type": "code",
   "execution_count": 70,
   "id": "a8a7ff56",
   "metadata": {},
   "outputs": [
    {
     "name": "stdout",
     "output_type": "stream",
     "text": [
      "734.3243184498476\n",
      "364677.52114272997\n",
      "RMSE = 208.55454951448374\n"
     ]
    }
   ],
   "source": [
    "# linear model performed poorly because the data is not normal\n",
    "# doing random forest\n",
    "from sklearn.ensemble import RandomForestRegressor\n",
    "rfr = RandomForestRegressor(n_estimators=500, max_depth=10, random_state=0)\n",
    "rfr.fit(X_train, y_train)\n",
    "y_pred_rf = rfr.predict(X_test)\n",
    "\n",
    "\n",
    "print(np.mean(y_pred_rf))\n",
    "print(np.var(y_pred_rf))\n",
    "print(f\"RMSE = {np.sqrt(mean_squared_error(y_test, y_pred_rf))}\")\n",
    "#print(F\"MAE  = {mean_absolute_error(y_test, y_pred)}\")"
   ]
  },
  {
   "cell_type": "code",
   "execution_count": 71,
   "id": "3f489748",
   "metadata": {},
   "outputs": [
    {
     "name": "stdout",
     "output_type": "stream",
     "text": [
      "[[2013]\n",
      " [2014]\n",
      " [2015]\n",
      " [2016]\n",
      " [2017]\n",
      " [2018]\n",
      " [2019]\n",
      " [2020]\n",
      " [2021]]\n",
      "[[108802]\n",
      " [114858]\n",
      " [123436]\n",
      " [135534]\n",
      " [137742]\n",
      " [137217]\n",
      " [138485]\n",
      " [139221]\n",
      " [150832]]\n"
     ]
    }
   ],
   "source": [
    "# future year forecast\n",
    "# group by year\n",
    "df = crime.groupby([\"Year\"]).sum().reset_index()\n",
    "year = df[[\"Year\"]].to_numpy()\n",
    "year = year[:-1]  # remove 2022 cos it's not complete yet\n",
    "print(year)\n",
    "count = df[[\"offence_count\"]].to_numpy()\n",
    "count = count[:-1]\n",
    "print(count)"
   ]
  },
  {
   "cell_type": "code",
   "execution_count": 72,
   "id": "c4e9c1da",
   "metadata": {},
   "outputs": [
    {
     "data": {
      "text/plain": [
       "<matplotlib.collections.PathCollection at 0x7fd603a65160>"
      ]
     },
     "execution_count": 72,
     "metadata": {},
     "output_type": "execute_result"
    },
    {
     "data": {
      "image/png": "[encoded data removed]",
      "text/plain": [
       "<Figure size 432x288 with 1 Axes>"
      ]
     },
     "metadata": {
      "needs_background": "light"
     },
     "output_type": "display_data"
    }
   ],
   "source": [
    "plt.scatter(year,count )"
   ]
  },
  {
   "cell_type": "code",
   "execution_count": 73,
   "id": "8e081ba4",
   "metadata": {},
   "outputs": [
    {
     "data": {
      "text/plain": [
       "array([[159090.88888889],\n",
       "       [163640.72222222],\n",
       "       [168190.55555556]])"
      ]
     },
     "execution_count": 73,
     "metadata": {},
     "output_type": "execute_result"
    }
   ],
   "source": [
    "reg = linear_model.LinearRegression()\n",
    "reg.fit(year, count)\n",
    "reg.predict([[2023], [2024], [2025]])"
   ]
  },
  {
   "cell_type": "code",
   "execution_count": null,
   "id": "3d6354b7",
   "metadata": {},
   "outputs": [],
   "source": []
  },
  {
   "cell_type": "code",
   "execution_count": null,
   "id": "e6b573ab",
   "metadata": {},
   "outputs": [],
   "source": []
  }
 ],
 "metadata": {
  "kernelspec": {
   "display_name": "Python 3 (ipykernel)",
   "language": "python",
   "name": "python3"
  },
  "language_info": {
   "codemirror_mode": {
    "name": "ipython",
    "version": 3
   },
   "file_extension": ".py",
   "mimetype": "text/x-python",
   "name": "python",
   "nbconvert_exporter": "python",
   "pygments_lexer": "ipython3",
   "version": "3.9.7"
  },
  "vscode": {
   "interpreter": {
    "hash": "916dbcbb3f70747c44a77c7bcd40155683ae19c65e1c03b4aa3499c5328201f1"
   }
  }
 },
 "nbformat": 4,
 "nbformat_minor": 5
}

{
 "cells": [
  {
   "cell_type": "markdown",
   "metadata": {},
   "source": [
    "# Top 10 Most Liveable Suburbs"
   ]
  },
  {
   "cell_type": "code",
   "execution_count": null,
   "metadata": {},
   "outputs": [],
   "source": [
    "import pandas as pd\n",
    "import numpy as np"
   ]
  },
  {
   "cell_type": "code",
   "execution_count": 23,
   "metadata": {},
   "outputs": [],
   "source": [
    "property_df = pd.read_csv(\"../data/curated/full_data.csv\")"
   ]
  },
  {
   "cell_type": "code",
   "execution_count": 82,
   "metadata": {},
   "outputs": [],
   "source": [
    "# select mean values for each suburb\n",
    "suburb_data = property_df.groupby('SA2_NAME21',  as_index=False).agg(med_personal_inc_weekly=('Median_tot_prsnl_inc_weekly', 'mean'),\n",
    "                                                   med_rent_weekly=('Median_rent_weekly', 'mean'),\n",
    "                                                   med_fam_inc_weekly=('Median_tot_fam_inc_weekly', 'mean'),\n",
    "                                                   offence_count = ('Offence Count', 'mean'))"
   ]
  },
  {
   "cell_type": "code",
   "execution_count": 69,
   "metadata": {},
   "outputs": [
    {
     "data": {
      "text/html": [
       "<div>\n",
       "<style scoped>\n",
       "    .dataframe tbody tr th:only-of-type {\n",
       "        vertical-align: middle;\n",
       "    }\n",
       "\n",
       "    .dataframe tbody tr th {\n",
       "        vertical-align: top;\n",
       "    }\n",
       "\n",
       "    .dataframe thead th {\n",
       "        text-align: right;\n",
       "    }\n",
       "</style>\n",
       "<table border=\"1\" class=\"dataframe\">\n",
       "  <thead>\n",
       "    <tr style=\"text-align: right;\">\n",
       "      <th></th>\n",
       "      <th>SA2_NAME21</th>\n",
       "      <th>med_personal_inc_weekly</th>\n",
       "      <th>med_rent_weekly</th>\n",
       "      <th>med_fam_inc_weekly</th>\n",
       "      <th>offence_count</th>\n",
       "    </tr>\n",
       "  </thead>\n",
       "  <tbody>\n",
       "    <tr>\n",
       "      <th>0</th>\n",
       "      <td>Airport West</td>\n",
       "      <td>883.0</td>\n",
       "      <td>401.0</td>\n",
       "      <td>2292.0</td>\n",
       "      <td>519.0</td>\n",
       "    </tr>\n",
       "    <tr>\n",
       "      <th>1</th>\n",
       "      <td>Alphington - Fairfield</td>\n",
       "      <td>1098.0</td>\n",
       "      <td>381.0</td>\n",
       "      <td>3138.0</td>\n",
       "      <td>435.0</td>\n",
       "    </tr>\n",
       "  </tbody>\n",
       "</table>\n",
       "</div>"
      ],
      "text/plain": [
       "               SA2_NAME21  med_personal_inc_weekly  med_rent_weekly  \\\n",
       "0            Airport West                    883.0            401.0   \n",
       "1  Alphington - Fairfield                   1098.0            381.0   \n",
       "\n",
       "   med_fam_inc_weekly  offence_count  \n",
       "0              2292.0          519.0  \n",
       "1              3138.0          435.0  "
      ]
     },
     "execution_count": 69,
     "metadata": {},
     "output_type": "execute_result"
    }
   ],
   "source": [
    "suburb_data.head(2)"
   ]
  },
  {
   "cell_type": "code",
   "execution_count": 85,
   "metadata": {},
   "outputs": [],
   "source": [
    "# select mode value for walking distance to each train station of each suburb\n",
    "mode_duration_mins = property_df.groupby('SA2_NAME21',  as_index=False)['duration_mins'].agg(pd.Series.mode)"
   ]
  },
  {
   "cell_type": "code",
   "execution_count": 73,
   "metadata": {},
   "outputs": [
    {
     "data": {
      "text/html": [
       "<div>\n",
       "<style scoped>\n",
       "    .dataframe tbody tr th:only-of-type {\n",
       "        vertical-align: middle;\n",
       "    }\n",
       "\n",
       "    .dataframe tbody tr th {\n",
       "        vertical-align: top;\n",
       "    }\n",
       "\n",
       "    .dataframe thead th {\n",
       "        text-align: right;\n",
       "    }\n",
       "</style>\n",
       "<table border=\"1\" class=\"dataframe\">\n",
       "  <thead>\n",
       "    <tr style=\"text-align: right;\">\n",
       "      <th></th>\n",
       "      <th>SA2_NAME21</th>\n",
       "      <th>duration_mins</th>\n",
       "    </tr>\n",
       "  </thead>\n",
       "  <tbody>\n",
       "    <tr>\n",
       "      <th>0</th>\n",
       "      <td>Airport West</td>\n",
       "      <td>&gt;50.0</td>\n",
       "    </tr>\n",
       "    <tr>\n",
       "      <th>1</th>\n",
       "      <td>Alphington - Fairfield</td>\n",
       "      <td>20.0</td>\n",
       "    </tr>\n",
       "    <tr>\n",
       "      <th>2</th>\n",
       "      <td>Altona</td>\n",
       "      <td>10.0</td>\n",
       "    </tr>\n",
       "  </tbody>\n",
       "</table>\n",
       "</div>"
      ],
      "text/plain": [
       "               SA2_NAME21 duration_mins\n",
       "0            Airport West         >50.0\n",
       "1  Alphington - Fairfield          20.0\n",
       "2                  Altona          10.0"
      ]
     },
     "execution_count": 73,
     "metadata": {},
     "output_type": "execute_result"
    }
   ],
   "source": [
    "mode_duration_mins.head(3)"
   ]
  },
  {
   "cell_type": "code",
   "execution_count": 125,
   "metadata": {},
   "outputs": [],
   "source": [
    "# merge two dataframes together\n",
    "full_suburb_data = suburb_data.merge(mode_duration_mins, how='inner', on='SA2_NAME21')"
   ]
  },
  {
   "cell_type": "markdown",
   "metadata": {},
   "source": [
    "#### Finding \"liveable\" suburbs"
   ]
  },
  {
   "cell_type": "code",
   "execution_count": 126,
   "metadata": {},
   "outputs": [],
   "source": [
    "# suburbs that are at most a 20 min walk from the train station\n",
    "full_suburb_data_20mins = full_suburb_data[full_suburb_data.duration_mins.isin(['10.0', '20.0'])].reset_index()\n",
    "full_suburb_data_20mins = full_suburb_data_20mins.drop(['index'], axis=1)"
   ]
  },
  {
   "cell_type": "code",
   "execution_count": 127,
   "metadata": {},
   "outputs": [
    {
     "data": {
      "text/html": [
       "<div>\n",
       "<style scoped>\n",
       "    .dataframe tbody tr th:only-of-type {\n",
       "        vertical-align: middle;\n",
       "    }\n",
       "\n",
       "    .dataframe tbody tr th {\n",
       "        vertical-align: top;\n",
       "    }\n",
       "\n",
       "    .dataframe thead th {\n",
       "        text-align: right;\n",
       "    }\n",
       "</style>\n",
       "<table border=\"1\" class=\"dataframe\">\n",
       "  <thead>\n",
       "    <tr style=\"text-align: right;\">\n",
       "      <th></th>\n",
       "      <th>SA2_NAME21</th>\n",
       "      <th>med_personal_inc_weekly</th>\n",
       "      <th>med_rent_weekly</th>\n",
       "      <th>med_fam_inc_weekly</th>\n",
       "      <th>offence_count</th>\n",
       "      <th>duration_mins</th>\n",
       "    </tr>\n",
       "  </thead>\n",
       "  <tbody>\n",
       "    <tr>\n",
       "      <th>0</th>\n",
       "      <td>Alphington - Fairfield</td>\n",
       "      <td>1098.0</td>\n",
       "      <td>381.0</td>\n",
       "      <td>3138.0</td>\n",
       "      <td>435.0</td>\n",
       "      <td>20.0</td>\n",
       "    </tr>\n",
       "    <tr>\n",
       "      <th>1</th>\n",
       "      <td>Altona</td>\n",
       "      <td>945.0</td>\n",
       "      <td>390.0</td>\n",
       "      <td>2475.0</td>\n",
       "      <td>403.0</td>\n",
       "      <td>10.0</td>\n",
       "    </tr>\n",
       "  </tbody>\n",
       "</table>\n",
       "</div>"
      ],
      "text/plain": [
       "               SA2_NAME21  med_personal_inc_weekly  med_rent_weekly  \\\n",
       "0  Alphington - Fairfield                   1098.0            381.0   \n",
       "1                  Altona                    945.0            390.0   \n",
       "\n",
       "   med_fam_inc_weekly  offence_count duration_mins  \n",
       "0              3138.0          435.0          20.0  \n",
       "1              2475.0          403.0          10.0  "
      ]
     },
     "execution_count": 127,
     "metadata": {},
     "output_type": "execute_result"
    }
   ],
   "source": [
    "full_suburb_data_20mins.head(2)"
   ]
  },
  {
   "cell_type": "code",
   "execution_count": 142,
   "metadata": {},
   "outputs": [],
   "source": [
    "# 25th percentile for offence_count\n",
    "p_25 = np.percentile(full_suburb_data_20mins['offence_count'], 25)"
   ]
  },
  {
   "cell_type": "code",
   "execution_count": 151,
   "metadata": {},
   "outputs": [
    {
     "data": {
      "text/plain": [
       "(31, 6)"
      ]
     },
     "execution_count": 151,
     "metadata": {},
     "output_type": "execute_result"
    }
   ],
   "source": [
    "suburb_lesscrime = full_suburb_data_20mins.loc[full_suburb_data_20mins['offence_count'] <= p_25]\n",
    "suburb_lesscrime.shape"
   ]
  },
  {
   "cell_type": "code",
   "execution_count": 160,
   "metadata": {},
   "outputs": [],
   "source": [
    "# mean weekly family income\n",
    "inc_mean = suburb_lesscrime['med_fam_inc_weekly'].mean()"
   ]
  },
  {
   "cell_type": "code",
   "execution_count": 161,
   "metadata": {},
   "outputs": [
    {
     "data": {
      "text/plain": [
       "(15, 6)"
      ]
     },
     "execution_count": 161,
     "metadata": {},
     "output_type": "execute_result"
    }
   ],
   "source": [
    "rich_suburb = suburb_lesscrime.loc[suburb_lesscrime['med_fam_inc_weekly'] >= inc_mean]\n",
    "rich_suburb.shape"
   ]
  },
  {
   "cell_type": "code",
   "execution_count": 166,
   "metadata": {},
   "outputs": [],
   "source": [
    "# sort on weekly rent and median personal weekly income\n",
    "final_df = suburb_lesscrime.sort_values(by=['med_rent_weekly', 'med_personal_inc_weekly'], ascending=[True, False])"
   ]
  },
  {
   "cell_type": "code",
   "execution_count": 167,
   "metadata": {},
   "outputs": [
    {
     "data": {
      "text/html": [
       "<div>\n",
       "<style scoped>\n",
       "    .dataframe tbody tr th:only-of-type {\n",
       "        vertical-align: middle;\n",
       "    }\n",
       "\n",
       "    .dataframe tbody tr th {\n",
       "        vertical-align: top;\n",
       "    }\n",
       "\n",
       "    .dataframe thead th {\n",
       "        text-align: right;\n",
       "    }\n",
       "</style>\n",
       "<table border=\"1\" class=\"dataframe\">\n",
       "  <thead>\n",
       "    <tr style=\"text-align: right;\">\n",
       "      <th></th>\n",
       "      <th>SA2_NAME21</th>\n",
       "      <th>med_personal_inc_weekly</th>\n",
       "      <th>med_rent_weekly</th>\n",
       "      <th>med_fam_inc_weekly</th>\n",
       "      <th>offence_count</th>\n",
       "      <th>duration_mins</th>\n",
       "    </tr>\n",
       "  </thead>\n",
       "  <tbody>\n",
       "    <tr>\n",
       "      <th>16</th>\n",
       "      <td>Campbellfield - Coolaroo</td>\n",
       "      <td>437.0</td>\n",
       "      <td>330.0</td>\n",
       "      <td>1245.0</td>\n",
       "      <td>424.0</td>\n",
       "      <td>20.0</td>\n",
       "    </tr>\n",
       "    <tr>\n",
       "      <th>113</th>\n",
       "      <td>Upwey - Tecoma</td>\n",
       "      <td>902.0</td>\n",
       "      <td>375.0</td>\n",
       "      <td>2477.0</td>\n",
       "      <td>125.0</td>\n",
       "      <td>20.0</td>\n",
       "    </tr>\n",
       "    <tr>\n",
       "      <th>57</th>\n",
       "      <td>Laverton</td>\n",
       "      <td>875.0</td>\n",
       "      <td>380.0</td>\n",
       "      <td>2241.0</td>\n",
       "      <td>241.0</td>\n",
       "      <td>10.0</td>\n",
       "    </tr>\n",
       "    <tr>\n",
       "      <th>99</th>\n",
       "      <td>South Morang - South</td>\n",
       "      <td>781.0</td>\n",
       "      <td>380.0</td>\n",
       "      <td>2147.0</td>\n",
       "      <td>416.0</td>\n",
       "      <td>20.0</td>\n",
       "    </tr>\n",
       "    <tr>\n",
       "      <th>38</th>\n",
       "      <td>Fawkner</td>\n",
       "      <td>594.0</td>\n",
       "      <td>380.0</td>\n",
       "      <td>1691.0</td>\n",
       "      <td>307.0</td>\n",
       "      <td>20.0</td>\n",
       "    </tr>\n",
       "    <tr>\n",
       "      <th>0</th>\n",
       "      <td>Alphington - Fairfield</td>\n",
       "      <td>1098.0</td>\n",
       "      <td>381.0</td>\n",
       "      <td>3138.0</td>\n",
       "      <td>435.0</td>\n",
       "      <td>20.0</td>\n",
       "    </tr>\n",
       "    <tr>\n",
       "      <th>24</th>\n",
       "      <td>Clayton South</td>\n",
       "      <td>685.0</td>\n",
       "      <td>381.0</td>\n",
       "      <td>1743.0</td>\n",
       "      <td>507.0</td>\n",
       "      <td>20.0</td>\n",
       "    </tr>\n",
       "    <tr>\n",
       "      <th>36</th>\n",
       "      <td>Essendon (West) - Aberfeldie</td>\n",
       "      <td>1019.0</td>\n",
       "      <td>382.0</td>\n",
       "      <td>2926.0</td>\n",
       "      <td>497.0</td>\n",
       "      <td>20.0</td>\n",
       "    </tr>\n",
       "    <tr>\n",
       "      <th>118</th>\n",
       "      <td>West Melbourne - Residential</td>\n",
       "      <td>1047.0</td>\n",
       "      <td>390.0</td>\n",
       "      <td>2397.0</td>\n",
       "      <td>428.0</td>\n",
       "      <td>10.0</td>\n",
       "    </tr>\n",
       "    <tr>\n",
       "      <th>1</th>\n",
       "      <td>Altona</td>\n",
       "      <td>945.0</td>\n",
       "      <td>390.0</td>\n",
       "      <td>2475.0</td>\n",
       "      <td>403.0</td>\n",
       "      <td>10.0</td>\n",
       "    </tr>\n",
       "  </tbody>\n",
       "</table>\n",
       "</div>"
      ],
      "text/plain": [
       "                       SA2_NAME21  med_personal_inc_weekly  med_rent_weekly  \\\n",
       "16       Campbellfield - Coolaroo                    437.0            330.0   \n",
       "113                Upwey - Tecoma                    902.0            375.0   \n",
       "57                       Laverton                    875.0            380.0   \n",
       "99           South Morang - South                    781.0            380.0   \n",
       "38                        Fawkner                    594.0            380.0   \n",
       "0          Alphington - Fairfield                   1098.0            381.0   \n",
       "24                  Clayton South                    685.0            381.0   \n",
       "36   Essendon (West) - Aberfeldie                   1019.0            382.0   \n",
       "118  West Melbourne - Residential                   1047.0            390.0   \n",
       "1                          Altona                    945.0            390.0   \n",
       "\n",
       "     med_fam_inc_weekly  offence_count duration_mins  \n",
       "16               1245.0          424.0          20.0  \n",
       "113              2477.0          125.0          20.0  \n",
       "57               2241.0          241.0          10.0  \n",
       "99               2147.0          416.0          20.0  \n",
       "38               1691.0          307.0          20.0  \n",
       "0                3138.0          435.0          20.0  \n",
       "24               1743.0          507.0          20.0  \n",
       "36               2926.0          497.0          20.0  \n",
       "118              2397.0          428.0          10.0  \n",
       "1                2475.0          403.0          10.0  "
      ]
     },
     "execution_count": 167,
     "metadata": {},
     "output_type": "execute_result"
    }
   ],
   "source": [
    "final_df.head(10)"
   ]
  }
 ],
 "metadata": {
  "kernelspec": {
   "display_name": "Python 3.8.10 64-bit",
   "language": "python",
   "name": "python3"
  },
  "language_info": {
   "codemirror_mode": {
    "name": "ipython",
    "version": 3
   },
   "file_extension": ".py",
   "mimetype": "text/x-python",
   "name": "python",
   "nbconvert_exporter": "python",
   "pygments_lexer": "ipython3",
   "version": "3.8.10"
  },
  "orig_nbformat": 4,
  "vscode": {
   "interpreter": {
    "hash": "916dbcbb3f70747c44a77c7bcd40155683ae19c65e1c03b4aa3499c5328201f1"
   }
  }
 },
 "nbformat": 4,
 "nbformat_minor": 2
}

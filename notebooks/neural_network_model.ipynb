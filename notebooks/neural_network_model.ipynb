{
 "cells": [
  {
   "cell_type": "code",
   "execution_count": 1,
   "id": "6e885bfc",
   "metadata": {},
   "outputs": [],
   "source": [
    "%matplotlib inline\n",
    "import numpy as np\n",
    "import matplotlib.pyplot as plt\n",
    "np.random.seed(0)\n",
    "\n",
    "from sklearn.model_selection import train_test_split\n",
    "\n",
    "from sklearn.mixture import GaussianMixture\n",
    "from sklearn.cluster import KMeans\n",
    "from sklearn.neighbors import KernelDensity\n",
    "from sklearn.ensemble import RandomForestRegressor\n",
    "import pandas as pd\n",
    "\n",
    "import numpy as np\n",
    "from sklearn import datasets\n",
    "from sklearn.model_selection import cross_val_score\n",
    "from sklearn.neural_network import MLPClassifier, MLPRegressor\n",
    "from collections import Counter\n"
   ]
  },
  {
   "cell_type": "code",
   "execution_count": 2,
   "id": "4024ce48",
   "metadata": {},
   "outputs": [],
   "source": [
    "property_df = pd.read_csv(\"../data/curated/property_isochrones.csv\")"
   ]
  },
  {
   "cell_type": "code",
   "execution_count": 3,
   "id": "fea50a19",
   "metadata": {},
   "outputs": [
    {
     "data": {
      "text/html": [
       "<div>\n",
       "<style scoped>\n",
       "    .dataframe tbody tr th:only-of-type {\n",
       "        vertical-align: middle;\n",
       "    }\n",
       "\n",
       "    .dataframe tbody tr th {\n",
       "        vertical-align: top;\n",
       "    }\n",
       "\n",
       "    .dataframe thead th {\n",
       "        text-align: right;\n",
       "    }\n",
       "</style>\n",
       "<table border=\"1\" class=\"dataframe\">\n",
       "  <thead>\n",
       "    <tr style=\"text-align: right;\">\n",
       "      <th></th>\n",
       "      <th>index</th>\n",
       "      <th>address</th>\n",
       "      <th>cost_text</th>\n",
       "      <th>Bed</th>\n",
       "      <th>Bath</th>\n",
       "      <th>Park</th>\n",
       "      <th>property_type</th>\n",
       "      <th>desc_head</th>\n",
       "      <th>LocID</th>\n",
       "      <th>longitude</th>\n",
       "      <th>latitude</th>\n",
       "      <th>SA2_CODE_2021</th>\n",
       "      <th>Median_tot_prsnl_inc_weekly</th>\n",
       "      <th>Median_rent_weekly</th>\n",
       "      <th>Median_tot_fam_inc_weekly</th>\n",
       "      <th>Median_tot_hhd_inc_weekly</th>\n",
       "      <th>total_population</th>\n",
       "      <th>SA2_NAME21</th>\n",
       "      <th>duration_mins</th>\n",
       "    </tr>\n",
       "  </thead>\n",
       "  <tbody>\n",
       "    <tr>\n",
       "      <th>0</th>\n",
       "      <td>https://www.domain.com.au/71-newmans-rd-temple...</td>\n",
       "      <td>71 Newmans Rd Templestowe VIC 3106</td>\n",
       "      <td>1250.0</td>\n",
       "      <td>4</td>\n",
       "      <td>2</td>\n",
       "      <td>2</td>\n",
       "      <td>House</td>\n",
       "      <td>enviabl acr contain eleg tranquil life style t...</td>\n",
       "      <td>207021159</td>\n",
       "      <td>145.154614</td>\n",
       "      <td>-37.749678</td>\n",
       "      <td>207021159.0</td>\n",
       "      <td>781.0</td>\n",
       "      <td>513.0</td>\n",
       "      <td>2419.0</td>\n",
       "      <td>2163.0</td>\n",
       "      <td>15071.0</td>\n",
       "      <td>Templestowe</td>\n",
       "      <td>&gt;50.0</td>\n",
       "    </tr>\n",
       "  </tbody>\n",
       "</table>\n",
       "</div>"
      ],
      "text/plain": [
       "                                               index  \\\n",
       "0  https://www.domain.com.au/71-newmans-rd-temple...   \n",
       "\n",
       "                              address  cost_text  Bed  Bath  Park  \\\n",
       "0  71 Newmans Rd Templestowe VIC 3106     1250.0    4     2     2   \n",
       "\n",
       "  property_type                                          desc_head      LocID  \\\n",
       "0         House  enviabl acr contain eleg tranquil life style t...  207021159   \n",
       "\n",
       "    longitude   latitude  SA2_CODE_2021  Median_tot_prsnl_inc_weekly  \\\n",
       "0  145.154614 -37.749678    207021159.0                        781.0   \n",
       "\n",
       "   Median_rent_weekly  Median_tot_fam_inc_weekly  Median_tot_hhd_inc_weekly  \\\n",
       "0               513.0                     2419.0                     2163.0   \n",
       "\n",
       "   total_population   SA2_NAME21 duration_mins  \n",
       "0           15071.0  Templestowe         >50.0  "
      ]
     },
     "execution_count": 3,
     "metadata": {},
     "output_type": "execute_result"
    }
   ],
   "source": [
    "property_df.head(1)"
   ]
  },
  {
   "cell_type": "code",
   "execution_count": 4,
   "id": "0823e2d7",
   "metadata": {},
   "outputs": [
    {
     "data": {
      "text/html": [
       "<div>\n",
       "<style scoped>\n",
       "    .dataframe tbody tr th:only-of-type {\n",
       "        vertical-align: middle;\n",
       "    }\n",
       "\n",
       "    .dataframe tbody tr th {\n",
       "        vertical-align: top;\n",
       "    }\n",
       "\n",
       "    .dataframe thead th {\n",
       "        text-align: right;\n",
       "    }\n",
       "</style>\n",
       "<table border=\"1\" class=\"dataframe\">\n",
       "  <thead>\n",
       "    <tr style=\"text-align: right;\">\n",
       "      <th></th>\n",
       "      <th>index</th>\n",
       "      <th>address</th>\n",
       "      <th>cost_text</th>\n",
       "      <th>Bed</th>\n",
       "      <th>Bath</th>\n",
       "      <th>Park</th>\n",
       "      <th>property_type</th>\n",
       "      <th>desc_head</th>\n",
       "      <th>LocID</th>\n",
       "      <th>longitude</th>\n",
       "      <th>latitude</th>\n",
       "      <th>SA2_CODE_2021</th>\n",
       "      <th>Median_tot_prsnl_inc_weekly</th>\n",
       "      <th>Median_rent_weekly</th>\n",
       "      <th>Median_tot_fam_inc_weekly</th>\n",
       "      <th>Median_tot_hhd_inc_weekly</th>\n",
       "      <th>total_population</th>\n",
       "      <th>SA2_NAME21</th>\n",
       "      <th>duration_mins</th>\n",
       "    </tr>\n",
       "  </thead>\n",
       "  <tbody>\n",
       "    <tr>\n",
       "      <th>0</th>\n",
       "      <td>https://www.domain.com.au/71-newmans-rd-temple...</td>\n",
       "      <td>71 Newmans Rd Templestowe VIC 3106</td>\n",
       "      <td>1250.0</td>\n",
       "      <td>4</td>\n",
       "      <td>2</td>\n",
       "      <td>2</td>\n",
       "      <td>House</td>\n",
       "      <td>enviabl acr contain eleg tranquil life style t...</td>\n",
       "      <td>207021159</td>\n",
       "      <td>145.154614</td>\n",
       "      <td>-37.749678</td>\n",
       "      <td>207021159.0</td>\n",
       "      <td>781.0</td>\n",
       "      <td>513.0</td>\n",
       "      <td>2419.0</td>\n",
       "      <td>2163.0</td>\n",
       "      <td>15071.0</td>\n",
       "      <td>Templestowe</td>\n",
       "      <td>&gt;50.0</td>\n",
       "    </tr>\n",
       "  </tbody>\n",
       "</table>\n",
       "</div>"
      ],
      "text/plain": [
       "                                               index  \\\n",
       "0  https://www.domain.com.au/71-newmans-rd-temple...   \n",
       "\n",
       "                              address  cost_text  Bed  Bath  Park  \\\n",
       "0  71 Newmans Rd Templestowe VIC 3106     1250.0    4     2     2   \n",
       "\n",
       "  property_type                                          desc_head      LocID  \\\n",
       "0         House  enviabl acr contain eleg tranquil life style t...  207021159   \n",
       "\n",
       "    longitude   latitude  SA2_CODE_2021  Median_tot_prsnl_inc_weekly  \\\n",
       "0  145.154614 -37.749678    207021159.0                        781.0   \n",
       "\n",
       "   Median_rent_weekly  Median_tot_fam_inc_weekly  Median_tot_hhd_inc_weekly  \\\n",
       "0               513.0                     2419.0                     2163.0   \n",
       "\n",
       "   total_population   SA2_NAME21 duration_mins  \n",
       "0           15071.0  Templestowe         >50.0  "
      ]
     },
     "execution_count": 4,
     "metadata": {},
     "output_type": "execute_result"
    }
   ],
   "source": [
    "X = property_df\n",
    "X2 = X[['SA2_NAME21']].groupby(by=\"SA2_NAME21\")[\"SA2_NAME21\"].count()\n",
    "X2 = pd.DataFrame(X2)\n",
    "X2.columns=[\"count\"]\n",
    "single_counts = X2[X2['count']==1].reset_index()['SA2_NAME21'].tolist() # can improve this later with bootstrapping\n",
    "X = X[~X[\"SA2_NAME21\"].isin(single_counts)]\n",
    "X.head(1)"
   ]
  },
  {
   "cell_type": "code",
   "execution_count": 5,
   "id": "a207925c",
   "metadata": {},
   "outputs": [
    {
     "name": "stdout",
     "output_type": "stream",
     "text": [
      "[(4, <class 'numpy.int64'>), (2, <class 'numpy.int64'>), (2, <class 'numpy.int64'>), ('House', <class 'str'>), (781.0, <class 'numpy.float64'>), (513.0, <class 'numpy.float64'>), (2419.0, <class 'numpy.float64'>), (2163.0, <class 'numpy.float64'>), (15071.0, <class 'numpy.float64'>), ('Templestowe', <class 'str'>), ('>50.0', <class 'str'>)]\n"
     ]
    },
    {
     "name": "stderr",
     "output_type": "stream",
     "text": [
      "/tmp/ipykernel_18581/941513204.py:5: SettingWithCopyWarning: \n",
      "A value is trying to be set on a copy of a slice from a DataFrame\n",
      "\n",
      "See the caveats in the documentation: https://pandas.pydata.org/pandas-docs/stable/user_guide/indexing.html#returning-a-view-versus-a-copy\n",
      "  X.drop([\"index\", \"address\", \"desc_head\", \"latitude\", \"longitude\", \"LocID\", \"SA2_CODE_2021\", \"cost_text\"], axis=1,\n"
     ]
    },
    {
     "data": {
      "text/html": [
       "<div>\n",
       "<style scoped>\n",
       "    .dataframe tbody tr th:only-of-type {\n",
       "        vertical-align: middle;\n",
       "    }\n",
       "\n",
       "    .dataframe tbody tr th {\n",
       "        vertical-align: top;\n",
       "    }\n",
       "\n",
       "    .dataframe thead th {\n",
       "        text-align: right;\n",
       "    }\n",
       "</style>\n",
       "<table border=\"1\" class=\"dataframe\">\n",
       "  <thead>\n",
       "    <tr style=\"text-align: right;\">\n",
       "      <th></th>\n",
       "      <th>Bed</th>\n",
       "      <th>Bath</th>\n",
       "      <th>Park</th>\n",
       "      <th>property_type</th>\n",
       "      <th>Median_tot_prsnl_inc_weekly</th>\n",
       "      <th>Median_rent_weekly</th>\n",
       "      <th>Median_tot_fam_inc_weekly</th>\n",
       "      <th>Median_tot_hhd_inc_weekly</th>\n",
       "      <th>total_population</th>\n",
       "      <th>SA2_NAME21</th>\n",
       "      <th>duration_mins</th>\n",
       "    </tr>\n",
       "  </thead>\n",
       "  <tbody>\n",
       "    <tr>\n",
       "      <th>0</th>\n",
       "      <td>4</td>\n",
       "      <td>2</td>\n",
       "      <td>2</td>\n",
       "      <td>House</td>\n",
       "      <td>781.0</td>\n",
       "      <td>513.0</td>\n",
       "      <td>2419.0</td>\n",
       "      <td>2163.0</td>\n",
       "      <td>15071.0</td>\n",
       "      <td>Templestowe</td>\n",
       "      <td>&gt;50.0</td>\n",
       "    </tr>\n",
       "  </tbody>\n",
       "</table>\n",
       "</div>"
      ],
      "text/plain": [
       "   Bed  Bath  Park property_type  Median_tot_prsnl_inc_weekly  \\\n",
       "0    4     2     2         House                        781.0   \n",
       "\n",
       "   Median_rent_weekly  Median_tot_fam_inc_weekly  Median_tot_hhd_inc_weekly  \\\n",
       "0               513.0                     2419.0                     2163.0   \n",
       "\n",
       "   total_population   SA2_NAME21 duration_mins  \n",
       "0           15071.0  Templestowe         >50.0  "
      ]
     },
     "execution_count": 5,
     "metadata": {},
     "output_type": "execute_result"
    }
   ],
   "source": [
    "y = X['cost_text'].tolist()\n",
    "type(y[0])\n",
    "# note: dropping desc head for now since it is not valuable yet\n",
    "# SA2 CODE covered by SA2 Name\n",
    "X.drop([\"index\", \"address\", \"desc_head\", \"latitude\", \"longitude\", \"LocID\", \"SA2_CODE_2021\", \"cost_text\"], axis=1, \n",
    "       inplace=True)\n",
    "X.astype({ \n",
    "          \"Median_tot_prsnl_inc_weekly\":\"float\", \n",
    "          \"Median_rent_weekly\":\"float\",\n",
    "          \"Median_tot_fam_inc_weekly\":\"float\", \n",
    "          \"Median_tot_hhd_inc_weekly\":\"float\", \n",
    "          \"total_population\": \"int64\",\n",
    "          \"duration_mins\": \"category\", \n",
    "          \"Bed\":\"int32\", \n",
    "          \"Bath\":\"int32\", \n",
    "          \"Park\":\"int32\",\n",
    "          \"property_type\":\"category\",\n",
    "          \"SA2_NAME21\": \"category\"}).dtypes\n",
    "\n",
    "l = [(elem, type(elem)) for elem in X.loc[0]]\n",
    "print(l)\n",
    "X.head(1)"
   ]
  },
  {
   "cell_type": "code",
   "execution_count": 6,
   "id": "5bda826d",
   "metadata": {},
   "outputs": [
    {
     "data": {
      "text/plain": [
       "float"
      ]
     },
     "execution_count": 6,
     "metadata": {},
     "output_type": "execute_result"
    }
   ],
   "source": [
    "type(y[0])"
   ]
  },
  {
   "cell_type": "code",
   "execution_count": 7,
   "id": "7fd0ffba",
   "metadata": {},
   "outputs": [],
   "source": [
    "from sklearn.pipeline import Pipeline\n",
    "from sklearn.preprocessing import StandardScaler\n",
    "from sklearn.decomposition import PCA\n",
    "scaler = StandardScaler()\n",
    "from sklearn.compose import ColumnTransformer\n",
    "\n",
    "numeric_features = [ \n",
    "                  \"Median_tot_prsnl_inc_weekly\", \n",
    "                  \"Median_rent_weekly\",\n",
    "                  \"Median_tot_fam_inc_weekly\", \n",
    "                  \"Median_tot_hhd_inc_weekly\", \n",
    "                  \"total_population\",\n",
    "                  \"Bed\", \n",
    "                  \"Bath\", \n",
    "                  \"Park\"]\n",
    "numeric_transformer = Pipeline(steps=[\n",
    "    ('scaler', StandardScaler())])\n",
    "\n",
    "preprocessor = ColumnTransformer(\n",
    "    transformers=[\n",
    "        ('num', scaler, numeric_features)])\n",
    "\n",
    "clf = MLPRegressor(max_iter=5000)\n",
    "#this way we don't cheat. Read more on pipelines https://scikit-learn.org/stable/modules/compose.html\n",
    "pipeline = Pipeline([('transformer', preprocessor), ('estimator', clf)]) # ('reduce_dim', PCA()),\n",
    "\n"
   ]
  },
  {
   "cell_type": "code",
   "execution_count": null,
   "id": "995c7157",
   "metadata": {},
   "outputs": [],
   "source": [
    "print('Cross-val standardised features acc:', np.mean(cross_val_score(pipeline, X, y, cv=10)))\n",
    "# 36%... not good. might need to perform PCA to improve, and further feature selection.\n",
    "# can try grid search to tune hyperparams. "
   ]
  },
  {
   "cell_type": "code",
   "execution_count": 152,
   "id": "2dc95dd6",
   "metadata": {},
   "outputs": [
    {
     "name": "stdout",
     "output_type": "stream",
     "text": [
      "parameter shapes: [(8, 100), (100, 1)]\n",
      "num layers: 3\n",
      "acc these params: 0.34004274008874225\n"
     ]
    },
    {
     "name": "stderr",
     "output_type": "stream",
     "text": [
      "/home/sesshah/anaconda3/lib/python3.9/site-packages/sklearn/neural_network/_multilayer_perceptron.py:692: ConvergenceWarning: Stochastic Optimizer: Maximum iterations (2000) reached and the optimization hasn't converged yet.\n",
      "  warnings.warn(\n"
     ]
    }
   ],
   "source": [
    "X_train, X_test, y_train, y_test = train_test_split(X, y, random_state=0, test_size=0.1, stratify=X[['SA2_NAME21']])\n",
    "\n",
    "\n",
    "clf.fit(preprocessor.fit_transform(X_train),y_train) # need to perform a train test split here\n",
    "# need to do balanced split- i.e. one of the bootstrapping methods or something to make sure all suburbs have\n",
    "# a good amount of representation. \n",
    "\n",
    "\n",
    "#print(clf.coefs_)\n",
    "print('parameter shapes:',[p.shape for p in clf.coefs_])\n",
    "print('num layers:', clf.n_layers_)\n",
    "print('acc these params:', clf.score(preprocessor.fit_transform(X_test), y_test)) # 34%\n",
    "# next steps:\n",
    "# build growth models for crime, income, pop, etc by suburb \n",
    "# predict these rates in a certain year\n",
    "# input it into a model along with a suburb for a \"Standard\" house with however many beds/parking/baths etc.\n",
    "# predict. "
   ]
  },
  {
   "cell_type": "code",
   "execution_count": 8,
   "id": "d3542528",
   "metadata": {},
   "outputs": [
    {
     "name": "stdout",
     "output_type": "stream",
     "text": [
      "MLP acc without tuning: 0.4401443392068761\n",
      "Fitting 3 folds for each of 18 candidates, totalling 54 fits\n",
      "best_params {'alpha': 1e-06, 'hidden_layer_sizes': [100]}\n"
     ]
    },
    {
     "ename": "ValueError",
     "evalue": "Unknown label type: (array([550., 430., 440., ..., 220., 455., 355.]),)",
     "output_type": "error",
     "traceback": [
      "\u001b[0;31m---------------------------------------------------------------------------\u001b[0m",
      "\u001b[0;31mValueError\u001b[0m                                Traceback (most recent call last)",
      "Input \u001b[0;32mIn [8]\u001b[0m, in \u001b[0;36m<cell line: 32>\u001b[0;34m()\u001b[0m\n\u001b[1;32m     29\u001b[0m \u001b[38;5;28mprint\u001b[39m(\u001b[38;5;124m'\u001b[39m\u001b[38;5;124mbest_params\u001b[39m\u001b[38;5;124m'\u001b[39m, best_params)\n\u001b[1;32m     31\u001b[0m clf \u001b[38;5;241m=\u001b[39m MLPClassifier(max_iter\u001b[38;5;241m=\u001b[39m\u001b[38;5;241m2000\u001b[39m, \u001b[38;5;241m*\u001b[39m\u001b[38;5;241m*\u001b[39mbest_params)\n\u001b[0;32m---> 32\u001b[0m \u001b[43mclf\u001b[49m\u001b[38;5;241;43m.\u001b[39;49m\u001b[43mfit\u001b[49m\u001b[43m(\u001b[49m\u001b[43mpreprocessor\u001b[49m\u001b[38;5;241;43m.\u001b[39;49m\u001b[43mfit_transform\u001b[49m\u001b[43m(\u001b[49m\u001b[43mX_train\u001b[49m\u001b[43m)\u001b[49m\u001b[43m,\u001b[49m\u001b[43m \u001b[49m\u001b[43my_train\u001b[49m\u001b[43m)\u001b[49m\n\u001b[1;32m     33\u001b[0m \u001b[38;5;28mprint\u001b[39m(\u001b[38;5;124m'\u001b[39m\u001b[38;5;124macc with best params:\u001b[39m\u001b[38;5;124m'\u001b[39m, clf\u001b[38;5;241m.\u001b[39mscore(preprocessor\u001b[38;5;241m.\u001b[39mfit_transform(X_test), y_test))\n",
      "File \u001b[0;32m~/anaconda3/lib/python3.9/site-packages/sklearn/neural_network/_multilayer_perceptron.py:752\u001b[0m, in \u001b[0;36mBaseMultilayerPerceptron.fit\u001b[0;34m(self, X, y)\u001b[0m\n\u001b[1;32m    735\u001b[0m \u001b[38;5;28;01mdef\u001b[39;00m \u001b[38;5;21mfit\u001b[39m(\u001b[38;5;28mself\u001b[39m, X, y):\n\u001b[1;32m    736\u001b[0m     \u001b[38;5;124;03m\"\"\"Fit the model to data matrix X and target(s) y.\u001b[39;00m\n\u001b[1;32m    737\u001b[0m \n\u001b[1;32m    738\u001b[0m \u001b[38;5;124;03m    Parameters\u001b[39;00m\n\u001b[0;32m   (...)\u001b[0m\n\u001b[1;32m    750\u001b[0m \u001b[38;5;124;03m        Returns a trained MLP model.\u001b[39;00m\n\u001b[1;32m    751\u001b[0m \u001b[38;5;124;03m    \"\"\"\u001b[39;00m\n\u001b[0;32m--> 752\u001b[0m     \u001b[38;5;28;01mreturn\u001b[39;00m \u001b[38;5;28;43mself\u001b[39;49m\u001b[38;5;241;43m.\u001b[39;49m\u001b[43m_fit\u001b[49m\u001b[43m(\u001b[49m\u001b[43mX\u001b[49m\u001b[43m,\u001b[49m\u001b[43m \u001b[49m\u001b[43my\u001b[49m\u001b[43m,\u001b[49m\u001b[43m \u001b[49m\u001b[43mincremental\u001b[49m\u001b[38;5;241;43m=\u001b[39;49m\u001b[38;5;28;43;01mFalse\u001b[39;49;00m\u001b[43m)\u001b[49m\n",
      "File \u001b[0;32m~/anaconda3/lib/python3.9/site-packages/sklearn/neural_network/_multilayer_perceptron.py:393\u001b[0m, in \u001b[0;36mBaseMultilayerPerceptron._fit\u001b[0;34m(self, X, y, incremental)\u001b[0m\n\u001b[1;32m    386\u001b[0m     \u001b[38;5;28;01mraise\u001b[39;00m \u001b[38;5;167;01mValueError\u001b[39;00m(\n\u001b[1;32m    387\u001b[0m         \u001b[38;5;124m\"\u001b[39m\u001b[38;5;124mhidden_layer_sizes must be > 0, got \u001b[39m\u001b[38;5;132;01m%s\u001b[39;00m\u001b[38;5;124m.\u001b[39m\u001b[38;5;124m\"\u001b[39m \u001b[38;5;241m%\u001b[39m hidden_layer_sizes\n\u001b[1;32m    388\u001b[0m     )\n\u001b[1;32m    389\u001b[0m first_pass \u001b[38;5;241m=\u001b[39m \u001b[38;5;129;01mnot\u001b[39;00m \u001b[38;5;28mhasattr\u001b[39m(\u001b[38;5;28mself\u001b[39m, \u001b[38;5;124m\"\u001b[39m\u001b[38;5;124mcoefs_\u001b[39m\u001b[38;5;124m\"\u001b[39m) \u001b[38;5;129;01mor\u001b[39;00m (\n\u001b[1;32m    390\u001b[0m     \u001b[38;5;129;01mnot\u001b[39;00m \u001b[38;5;28mself\u001b[39m\u001b[38;5;241m.\u001b[39mwarm_start \u001b[38;5;129;01mand\u001b[39;00m \u001b[38;5;129;01mnot\u001b[39;00m incremental\n\u001b[1;32m    391\u001b[0m )\n\u001b[0;32m--> 393\u001b[0m X, y \u001b[38;5;241m=\u001b[39m \u001b[38;5;28;43mself\u001b[39;49m\u001b[38;5;241;43m.\u001b[39;49m\u001b[43m_validate_input\u001b[49m\u001b[43m(\u001b[49m\u001b[43mX\u001b[49m\u001b[43m,\u001b[49m\u001b[43m \u001b[49m\u001b[43my\u001b[49m\u001b[43m,\u001b[49m\u001b[43m \u001b[49m\u001b[43mincremental\u001b[49m\u001b[43m,\u001b[49m\u001b[43m \u001b[49m\u001b[43mreset\u001b[49m\u001b[38;5;241;43m=\u001b[39;49m\u001b[43mfirst_pass\u001b[49m\u001b[43m)\u001b[49m\n\u001b[1;32m    395\u001b[0m n_samples, n_features \u001b[38;5;241m=\u001b[39m X\u001b[38;5;241m.\u001b[39mshape\n\u001b[1;32m    397\u001b[0m \u001b[38;5;66;03m# Ensure y is 2D\u001b[39;00m\n",
      "File \u001b[0;32m~/anaconda3/lib/python3.9/site-packages/sklearn/neural_network/_multilayer_perceptron.py:1131\u001b[0m, in \u001b[0;36mMLPClassifier._validate_input\u001b[0;34m(self, X, y, incremental, reset)\u001b[0m\n\u001b[1;32m   1129\u001b[0m \u001b[38;5;28;01mif\u001b[39;00m (\u001b[38;5;129;01mnot\u001b[39;00m \u001b[38;5;28mhasattr\u001b[39m(\u001b[38;5;28mself\u001b[39m, \u001b[38;5;124m\"\u001b[39m\u001b[38;5;124mclasses_\u001b[39m\u001b[38;5;124m\"\u001b[39m)) \u001b[38;5;129;01mor\u001b[39;00m (\u001b[38;5;129;01mnot\u001b[39;00m \u001b[38;5;28mself\u001b[39m\u001b[38;5;241m.\u001b[39mwarm_start \u001b[38;5;129;01mand\u001b[39;00m \u001b[38;5;129;01mnot\u001b[39;00m incremental):\n\u001b[1;32m   1130\u001b[0m     \u001b[38;5;28mself\u001b[39m\u001b[38;5;241m.\u001b[39m_label_binarizer \u001b[38;5;241m=\u001b[39m LabelBinarizer()\n\u001b[0;32m-> 1131\u001b[0m     \u001b[38;5;28;43mself\u001b[39;49m\u001b[38;5;241;43m.\u001b[39;49m\u001b[43m_label_binarizer\u001b[49m\u001b[38;5;241;43m.\u001b[39;49m\u001b[43mfit\u001b[49m\u001b[43m(\u001b[49m\u001b[43my\u001b[49m\u001b[43m)\u001b[49m\n\u001b[1;32m   1132\u001b[0m     \u001b[38;5;28mself\u001b[39m\u001b[38;5;241m.\u001b[39mclasses_ \u001b[38;5;241m=\u001b[39m \u001b[38;5;28mself\u001b[39m\u001b[38;5;241m.\u001b[39m_label_binarizer\u001b[38;5;241m.\u001b[39mclasses_\n\u001b[1;32m   1133\u001b[0m \u001b[38;5;28;01melse\u001b[39;00m:\n",
      "File \u001b[0;32m~/anaconda3/lib/python3.9/site-packages/sklearn/preprocessing/_label.py:301\u001b[0m, in \u001b[0;36mLabelBinarizer.fit\u001b[0;34m(self, y)\u001b[0m\n\u001b[1;32m    298\u001b[0m     \u001b[38;5;28;01mraise\u001b[39;00m \u001b[38;5;167;01mValueError\u001b[39;00m(\u001b[38;5;124m\"\u001b[39m\u001b[38;5;124my has 0 samples: \u001b[39m\u001b[38;5;132;01m%r\u001b[39;00m\u001b[38;5;124m\"\u001b[39m \u001b[38;5;241m%\u001b[39m y)\n\u001b[1;32m    300\u001b[0m \u001b[38;5;28mself\u001b[39m\u001b[38;5;241m.\u001b[39msparse_input_ \u001b[38;5;241m=\u001b[39m sp\u001b[38;5;241m.\u001b[39missparse(y)\n\u001b[0;32m--> 301\u001b[0m \u001b[38;5;28mself\u001b[39m\u001b[38;5;241m.\u001b[39mclasses_ \u001b[38;5;241m=\u001b[39m \u001b[43munique_labels\u001b[49m\u001b[43m(\u001b[49m\u001b[43my\u001b[49m\u001b[43m)\u001b[49m\n\u001b[1;32m    302\u001b[0m \u001b[38;5;28;01mreturn\u001b[39;00m \u001b[38;5;28mself\u001b[39m\n",
      "File \u001b[0;32m~/anaconda3/lib/python3.9/site-packages/sklearn/utils/multiclass.py:101\u001b[0m, in \u001b[0;36munique_labels\u001b[0;34m(*ys)\u001b[0m\n\u001b[1;32m     99\u001b[0m _unique_labels \u001b[38;5;241m=\u001b[39m _FN_UNIQUE_LABELS\u001b[38;5;241m.\u001b[39mget(label_type, \u001b[38;5;28;01mNone\u001b[39;00m)\n\u001b[1;32m    100\u001b[0m \u001b[38;5;28;01mif\u001b[39;00m \u001b[38;5;129;01mnot\u001b[39;00m _unique_labels:\n\u001b[0;32m--> 101\u001b[0m     \u001b[38;5;28;01mraise\u001b[39;00m \u001b[38;5;167;01mValueError\u001b[39;00m(\u001b[38;5;124m\"\u001b[39m\u001b[38;5;124mUnknown label type: \u001b[39m\u001b[38;5;132;01m%s\u001b[39;00m\u001b[38;5;124m\"\u001b[39m \u001b[38;5;241m%\u001b[39m \u001b[38;5;28mrepr\u001b[39m(ys))\n\u001b[1;32m    103\u001b[0m ys_labels \u001b[38;5;241m=\u001b[39m \u001b[38;5;28mset\u001b[39m(chain\u001b[38;5;241m.\u001b[39mfrom_iterable(_unique_labels(y) \u001b[38;5;28;01mfor\u001b[39;00m y \u001b[38;5;129;01min\u001b[39;00m ys))\n\u001b[1;32m    105\u001b[0m \u001b[38;5;66;03m# Check that we don't mix string type with number type\u001b[39;00m\n",
      "\u001b[0;31mValueError\u001b[0m: Unknown label type: (array([550., 430., 440., ..., 220., 455., 355.]),)"
     ]
    }
   ],
   "source": [
    "from sklearn.model_selection import GridSearchCV\n",
    "from sklearn.model_selection import train_test_split\n",
    "\n",
    "alphas = [np.power(10.0, i) for i in range(-7, 2)]\n",
    "\n",
    "X_train, X_test, y_train, y_test = train_test_split(X, y, test_size=0.1, random_state=42, \n",
    "                                                          stratify=X[['SA2_NAME21']])\n",
    "\n",
    "\n",
    "clf.fit(preprocessor.fit_transform(X_train), y_train)\n",
    "print('MLP acc without tuning:', clf.score(preprocessor.fit_transform(X_test), y_test))\n",
    "\n",
    "hidden_sizes = [[100], [10, 10]]\n",
    "#arguments of MLPClassifier and a list of values for them to search and find the best.\n",
    "param_grid = {'alpha': alphas, 'hidden_layer_sizes':hidden_sizes}\n",
    "\n",
    "# Make an appropriate scoring function\n",
    "\n",
    "gs = GridSearchCV(estimator=clf,\n",
    "                  param_grid=param_grid,\n",
    "                  scoring='neg_mean_squared_error',\n",
    "                  cv=3,\n",
    "                  n_jobs=1, # Somehow verbose will not print if you do multithread\n",
    "                  verbose=1 # More verbose = More detailed print\n",
    "                  )\n",
    "\n",
    "gs.fit(preprocessor.fit_transform(X_train), y_train)\n",
    "best_params = gs.best_params_\n",
    "print('best_params', best_params)\n",
    "\n",
    "clf = MLPClassifier(max_iter=2000, **best_params)\n",
    "clf.fit(preprocessor.fit_transform(X_train), y_train)\n",
    "print('acc with best params:', clf.score(preprocessor.fit_transform(X_test), y_test))"
   ]
  },
  {
   "cell_type": "code",
   "execution_count": null,
   "id": "d816de2b",
   "metadata": {},
   "outputs": [],
   "source": []
  },
  {
   "cell_type": "code",
   "execution_count": null,
   "id": "bf1f4b56",
   "metadata": {},
   "outputs": [],
   "source": []
  },
  {
   "cell_type": "code",
   "execution_count": null,
   "id": "eb9b6ff8",
   "metadata": {},
   "outputs": [],
   "source": []
  },
  {
   "cell_type": "code",
   "execution_count": null,
   "id": "de462569",
   "metadata": {},
   "outputs": [],
   "source": []
  }
 ],
 "metadata": {
  "kernelspec": {
   "display_name": "Python 3 (ipykernel)",
   "language": "python",
   "name": "python3"
  },
  "language_info": {
   "codemirror_mode": {
    "name": "ipython",
    "version": 3
   },
   "file_extension": ".py",
   "mimetype": "text/x-python",
   "name": "python",
   "nbconvert_exporter": "python",
   "pygments_lexer": "ipython3",
   "version": "3.9.12"
  }
 },
 "nbformat": 4,
 "nbformat_minor": 5
}

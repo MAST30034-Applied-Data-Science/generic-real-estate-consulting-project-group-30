{
 "cells": [
  {
   "cell_type": "markdown",
   "id": "6161376d",
   "metadata": {},
   "source": [
    "# code based on open route services example\n",
    "\n",
    "## please read: \n",
    "https://openrouteservice.org/2187-2/\n",
    "https://saralgyaan.com/posts/set-passwords-and-secret-keys-in-environment-variables-maclinuxwindows-python-quicktip/\n",
    "https://openrouteservice.org/dev/#/api-docs/optimization/post"
   ]
  },
  {
   "cell_type": "code",
   "execution_count": 1,
   "id": "3e46d84f",
   "metadata": {},
   "outputs": [],
   "source": [
    "import folium\n",
    "import pandas as pd\n",
    "import geopandas as gpd \n",
    "from openrouteservice import client\n",
    "import json\n",
    "import time\n",
    "import glob\n",
    "import rtree"
   ]
  },
  {
   "cell_type": "code",
   "execution_count": 2,
   "id": "436ccb64",
   "metadata": {},
   "outputs": [
    {
     "name": "stdout",
     "output_type": "stream",
     "text": [
      "True\n"
     ]
    }
   ],
   "source": [
    "import os\n",
    "\n",
    "create_isochromes = False\n",
    "\n",
    "# in .bashrc add export API_KEY=\"[api key here]\"\n",
    "# so do this:\n",
    "# nano .bashrc\n",
    "# export API_KEY=\"[api key here]\"\n",
    "# ctrl+X, Y\n",
    "\n",
    "# load jupyter notebook with:\n",
    "# env API_KEY=$API_KEY jupyter notebook\n",
    "\n",
    "api_key = os.environ.get('API_KEY') # Provide your personal API key\n",
    "# you need to make one on the openrouteservices website. \n",
    "\n",
    "print(api_key != None) # DO NOT PRINT YOUR API KEY, OR PUSH IT TO GITHUB!!!!"
   ]
  },
  {
   "cell_type": "markdown",
   "id": "219e59d2",
   "metadata": {},
   "source": [
    "### Part 1 - adapted from https://www.linkedin.com/pulse/isochrones-geopandas-paul-whiteside/"
   ]
  },
  {
   "cell_type": "code",
   "execution_count": 3,
   "id": "7806eb14",
   "metadata": {},
   "outputs": [],
   "source": [
    "australia_sf = gpd.read_file(\"../data/raw/shapefiles/Statistical_area_level2/SA2_2021_AUST_GDA2020.shp\")\n",
    "vic_sf = australia_sf[australia_sf['STE_NAME21'] == 'Victoria']"
   ]
  },
  {
   "cell_type": "markdown",
   "id": "1a5bb46e",
   "metadata": {},
   "source": [
    "Join Metro and Regional Train Datasets"
   ]
  },
  {
   "cell_type": "code",
   "execution_count": 4,
   "id": "03904a7e",
   "metadata": {},
   "outputs": [],
   "source": [
    "train_sf = gpd.read_file(\"../data/raw/shapefiles/Train_station_location/PTV_train/PTV_METRO_TRAIN_STATION.shp\")\n",
    "trainreg_sf = gpd.read_file(\"../data/raw/shapefiles/Train_station_location_reg/PTV_train_reg/PTV_REGIONAL_TRAIN_STATION.shp\")"
   ]
  },
  {
   "cell_type": "code",
   "execution_count": 5,
   "id": "da4008e3",
   "metadata": {},
   "outputs": [
    {
     "data": {
      "text/plain": [
       "(220, 3)"
      ]
     },
     "execution_count": 5,
     "metadata": {},
     "output_type": "execute_result"
    }
   ],
   "source": [
    "train_df = pd.DataFrame(train_sf)\n",
    "train_df = train_df.drop(['STOP_NAME', 'TICKETZONE', 'ROUTEUSSP', 'geometry'], axis=1)\n",
    "train_df.shape"
   ]
  },
  {
   "cell_type": "code",
   "execution_count": 6,
   "id": "890886f8",
   "metadata": {},
   "outputs": [
    {
     "data": {
      "text/plain": [
       "(110, 3)"
      ]
     },
     "execution_count": 6,
     "metadata": {},
     "output_type": "execute_result"
    }
   ],
   "source": [
    "trainreg_df = pd.DataFrame(trainreg_sf)\n",
    "trainreg_df = trainreg_df.drop(['STOP_NAME', 'geometry'], axis=1)\n",
    "trainreg_df.shape"
   ]
  },
  {
   "cell_type": "code",
   "execution_count": 7,
   "id": "33c2276a",
   "metadata": {},
   "outputs": [
    {
     "name": "stderr",
     "output_type": "stream",
     "text": [
      "/tmp/ipykernel_4265/2273636930.py:1: FutureWarning: The frame.append method is deprecated and will be removed from pandas in a future version. Use pandas.concat instead.\n",
      "  train_jointdf = train_df.append(trainreg_df,ignore_index=True)\n"
     ]
    },
    {
     "data": {
      "text/plain": [
       "(330, 3)"
      ]
     },
     "execution_count": 7,
     "metadata": {},
     "output_type": "execute_result"
    }
   ],
   "source": [
    "train_jointdf = train_df.append(trainreg_df,ignore_index=True)\n",
    "train_jointdf.shape"
   ]
  },
  {
   "cell_type": "markdown",
   "id": "6bf35f64",
   "metadata": {},
   "source": [
    "#### Create Isochromes using Openrouteservice"
   ]
  },
  {
   "cell_type": "code",
   "execution_count": 8,
   "id": "d88da37a",
   "metadata": {},
   "outputs": [],
   "source": [
    "l_processed = []\n",
    "def get_isochrones():\n",
    "    \n",
    "    for STOP_ID, LATITUDE, LONGITUDE in train_jointdf.values:\n",
    "\n",
    "        if not STOP_ID in l_processed:\n",
    "            point = [LATITUDE, LONGITUDE]\n",
    "            params_iso = {'profile': 'foot-walking',\n",
    "              'range': [600, 1200, 1800, 2400, 3000],  # 10, 20, 30, 40 and 50 mins\n",
    "              'segments': 600,\n",
    "              'attributes': ['total_pop'],  # Get population count for isochrones\n",
    "              'locations':[point[::-1]]\n",
    "              }\n",
    "\n",
    "            try:\n",
    "                clnt = client.Client(key=api_key)\n",
    "                r = clnt.isochrones(**params_iso)\n",
    "\n",
    "                for feature in r['features']:\n",
    "                    feature['properties']['name'] = STOP_ID\n",
    "\n",
    "                with open(f'../data/curated/isochrones/{STOP_ID}.json', 'w') as f:\n",
    "                    f.write(json.dumps(r))\n",
    "                    l_processed.append(STOP_ID)\n",
    "            except:\n",
    "                print(f\"Problem processing {STOP_ID}\")\n",
    "\n",
    "            \n",
    "            time.sleep(2)"
   ]
  },
  {
   "cell_type": "code",
   "execution_count": null,
   "id": "f6874ceb",
   "metadata": {},
   "outputs": [],
   "source": [
    "# Call function to find isochrones - not required to call again\n",
    "if not create_isochromes: \n",
    "    get_isochrones()\n",
    "    create_isochromes = True"
   ]
  },
  {
   "cell_type": "markdown",
   "id": "d19d9040",
   "metadata": {},
   "source": [
    "#### Join Each Individual Isochrome into a Geopandas Dataframe"
   ]
  },
  {
   "cell_type": "code",
   "execution_count": 10,
   "id": "99afae20",
   "metadata": {},
   "outputs": [],
   "source": [
    "l_dfs = []\n",
    "\n",
    "for file in glob.glob('../data/curated/isochrones/*'):\n",
    "    with open(file) as json_file:\n",
    "        data = json.load(json_file)\n",
    "\n",
    "        gdf = gpd.GeoDataFrame.from_features(data)\n",
    "        l_dfs.append(gdf)"
   ]
  },
  {
   "cell_type": "code",
   "execution_count": 11,
   "id": "19ecfb0b",
   "metadata": {},
   "outputs": [],
   "source": [
    "gdf_isochrones = pd.concat(l_dfs)"
   ]
  },
  {
   "cell_type": "code",
   "execution_count": 12,
   "id": "d7573d86",
   "metadata": {},
   "outputs": [
    {
     "data": {
      "text/plain": [
       "(1650, 6)"
      ]
     },
     "execution_count": 12,
     "metadata": {},
     "output_type": "execute_result"
    }
   ],
   "source": [
    "gdf_isochrones.shape"
   ]
  },
  {
   "cell_type": "markdown",
   "id": "3439f08b",
   "metadata": {},
   "source": [
    "#### Join Suburb Data and Isochromes for Visualisation"
   ]
  },
  {
   "cell_type": "code",
   "execution_count": 13,
   "id": "aa2d04c1",
   "metadata": {},
   "outputs": [
    {
     "name": "stderr",
     "output_type": "stream",
     "text": [
      "/home/sesshah/anaconda3/lib/python3.9/site-packages/geopandas/geodataframe.py:1472: SettingWithCopyWarning: \n",
      "A value is trying to be set on a copy of a slice from a DataFrame.\n",
      "Try using .loc[row_indexer,col_indexer] = value instead\n",
      "\n",
      "See the caveats in the documentation: https://pandas.pydata.org/pandas-docs/stable/user_guide/indexing.html#returning-a-view-versus-a-copy\n",
      "  super().__setitem__(key, value)\n"
     ]
    }
   ],
   "source": [
    "# create centroids for each suburbs\n",
    "vic_centroid_sf = vic_sf\n",
    "vic_centroid_sf['geometry'] = vic_sf['geometry'].to_crs('+proj=cea').centroid.to_crs(vic_sf['geometry'].crs)"
   ]
  },
  {
   "cell_type": "code",
   "execution_count": 14,
   "id": "564ed748",
   "metadata": {},
   "outputs": [
    {
     "name": "stderr",
     "output_type": "stream",
     "text": [
      "/home/sesshah/anaconda3/lib/python3.9/site-packages/IPython/core/interactiveshell.py:3309: FutureWarning: The `op` parameter is deprecated and will be removed in a future release. Please use the `predicate` parameter instead.\n",
      "  if await self.run_code(code, result, async_=asy):\n"
     ]
    }
   ],
   "source": [
    "gdf_isochrones.set_crs(epsg=7844, inplace=True)\n",
    "\n",
    "matrix = gpd.sjoin(gdf_isochrones, vic_centroid_sf, how='inner', op='contains')\\\n",
    "    .loc[:,['SA2_NAME21', 'value', 'name']]\\\n",
    "    .set_index(['SA2_NAME21', 'value'])\n",
    "\n",
    "matrix = matrix.reset_index()\n",
    "matrix.columns = ['suburb', 'duration_mins', 'train_station_id']\n",
    "matrix['duration_mins'] = matrix.duration_mins/60\n",
    "matrix = matrix.groupby(['suburb', 'train_station_id']).duration_mins.min().to_frame().reset_index()"
   ]
  },
  {
   "cell_type": "code",
   "execution_count": 15,
   "id": "f86d6d7c",
   "metadata": {},
   "outputs": [
    {
     "data": {
      "text/html": [
       "<div>\n",
       "<style scoped>\n",
       "    .dataframe tbody tr th:only-of-type {\n",
       "        vertical-align: middle;\n",
       "    }\n",
       "\n",
       "    .dataframe tbody tr th {\n",
       "        vertical-align: top;\n",
       "    }\n",
       "\n",
       "    .dataframe thead th {\n",
       "        text-align: right;\n",
       "    }\n",
       "</style>\n",
       "<table border=\"1\" class=\"dataframe\">\n",
       "  <thead>\n",
       "    <tr style=\"text-align: right;\">\n",
       "      <th></th>\n",
       "      <th>suburb</th>\n",
       "      <th>train_station_id</th>\n",
       "      <th>duration_mins</th>\n",
       "    </tr>\n",
       "  </thead>\n",
       "  <tbody>\n",
       "    <tr>\n",
       "      <th>0</th>\n",
       "      <td>Abbotsford</td>\n",
       "      <td>19842</td>\n",
       "      <td>50.0</td>\n",
       "    </tr>\n",
       "    <tr>\n",
       "      <th>1</th>\n",
       "      <td>Abbotsford</td>\n",
       "      <td>19843</td>\n",
       "      <td>40.0</td>\n",
       "    </tr>\n",
       "    <tr>\n",
       "      <th>2</th>\n",
       "      <td>Abbotsford</td>\n",
       "      <td>19854</td>\n",
       "      <td>50.0</td>\n",
       "    </tr>\n",
       "    <tr>\n",
       "      <th>3</th>\n",
       "      <td>Abbotsford</td>\n",
       "      <td>19905</td>\n",
       "      <td>50.0</td>\n",
       "    </tr>\n",
       "    <tr>\n",
       "      <th>4</th>\n",
       "      <td>Abbotsford</td>\n",
       "      <td>19906</td>\n",
       "      <td>50.0</td>\n",
       "    </tr>\n",
       "    <tr>\n",
       "      <th>...</th>\n",
       "      <td>...</td>\n",
       "      <td>...</td>\n",
       "      <td>...</td>\n",
       "    </tr>\n",
       "    <tr>\n",
       "      <th>1725</th>\n",
       "      <td>Yarraville</td>\n",
       "      <td>20022</td>\n",
       "      <td>50.0</td>\n",
       "    </tr>\n",
       "    <tr>\n",
       "      <th>1726</th>\n",
       "      <td>Yarraville</td>\n",
       "      <td>20023</td>\n",
       "      <td>30.0</td>\n",
       "    </tr>\n",
       "    <tr>\n",
       "      <th>1727</th>\n",
       "      <td>Yarraville</td>\n",
       "      <td>20024</td>\n",
       "      <td>30.0</td>\n",
       "    </tr>\n",
       "    <tr>\n",
       "      <th>1728</th>\n",
       "      <td>Yarraville</td>\n",
       "      <td>20025</td>\n",
       "      <td>40.0</td>\n",
       "    </tr>\n",
       "    <tr>\n",
       "      <th>1729</th>\n",
       "      <td>Yarraville</td>\n",
       "      <td>22240</td>\n",
       "      <td>40.0</td>\n",
       "    </tr>\n",
       "  </tbody>\n",
       "</table>\n",
       "<p>1730 rows × 3 columns</p>\n",
       "</div>"
      ],
      "text/plain": [
       "          suburb train_station_id  duration_mins\n",
       "0     Abbotsford            19842           50.0\n",
       "1     Abbotsford            19843           40.0\n",
       "2     Abbotsford            19854           50.0\n",
       "3     Abbotsford            19905           50.0\n",
       "4     Abbotsford            19906           50.0\n",
       "...          ...              ...            ...\n",
       "1725  Yarraville            20022           50.0\n",
       "1726  Yarraville            20023           30.0\n",
       "1727  Yarraville            20024           30.0\n",
       "1728  Yarraville            20025           40.0\n",
       "1729  Yarraville            22240           40.0\n",
       "\n",
       "[1730 rows x 3 columns]"
      ]
     },
     "execution_count": 15,
     "metadata": {},
     "output_type": "execute_result"
    }
   ],
   "source": [
    "matrix"
   ]
  },
  {
   "cell_type": "markdown",
   "id": "ed9de4d7",
   "metadata": {},
   "source": [
    "#### Visualisation of Isochromes and Suburbs"
   ]
  },
  {
   "cell_type": "markdown",
   "id": "9ebb1d77",
   "metadata": {},
   "source": [
    "The blue circles represent the location of suburb centeroids within a 20 minute walk of the inputted train stations. The markers represent the location of the train stations. The coloured shapes represent the borders of the respective isochromes of the train stations (i.e. the maximum time taken to walk to the respective train stations of any points inside the blue borders will be 10 minutes, 20 minutes for the green border and so on)."
   ]
  },
  {
   "cell_type": "code",
   "execution_count": 16,
   "id": "5fc211b2",
   "metadata": {},
   "outputs": [
    {
     "data": {
      "text/html": [
       "<div style=\"width:100%;\"><div style=\"position:relative;width:100%;height:0;padding-bottom:60%;\"><span style=\"color:#565656\">Make this Notebook Trusted to load map: File -> Trust Notebook</span><iframe srcdoc=\"&lt;!DOCTYPE html&gt;\n",
       "&lt;head&gt;    \n",
       "    &lt;meta http-equiv=&quot;content-type&quot; content=&quot;text/html; charset=UTF-8&quot; /&gt;\n",
       "    \n",
       "        &lt;script&gt;\n",
       "            L_NO_TOUCH = false;\n",
       "            L_DISABLE_3D = false;\n",
       "        &lt;/script&gt;\n",
       "    \n",
       "    &lt;style&gt;html, body {width: 100%;height: 100%;margin: 0;padding: 0;}&lt;/style&gt;\n",
       "    &lt;style&gt;#map {position:absolute;top:0;bottom:0;right:0;left:0;}&lt;/style&gt;\n",
       "    &lt;script src=&quot;https://cdn.jsdelivr.net/npm/leaflet@1.6.0/dist/leaflet.js&quot;&gt;&lt;/script&gt;\n",
       "    &lt;script src=&quot;https://code.jquery.com/jquery-1.12.4.min.js&quot;&gt;&lt;/script&gt;\n",
       "    &lt;script src=&quot;https://maxcdn.bootstrapcdn.com/bootstrap/3.2.0/js/bootstrap.min.js&quot;&gt;&lt;/script&gt;\n",
       "    &lt;script src=&quot;https://cdnjs.cloudflare.com/ajax/libs/Leaflet.awesome-markers/2.0.2/leaflet.awesome-markers.js&quot;&gt;&lt;/script&gt;\n",
       "    &lt;link rel=&quot;stylesheet&quot; href=&quot;https://cdn.jsdelivr.net/npm/leaflet@1.6.0/dist/leaflet.css&quot;/&gt;\n",
       "    &lt;link rel=&quot;stylesheet&quot; href=&quot;https://maxcdn.bootstrapcdn.com/bootstrap/3.2.0/css/bootstrap.min.css&quot;/&gt;\n",
       "    &lt;link rel=&quot;stylesheet&quot; href=&quot;https://maxcdn.bootstrapcdn.com/bootstrap/3.2.0/css/bootstrap-theme.min.css&quot;/&gt;\n",
       "    &lt;link rel=&quot;stylesheet&quot; href=&quot;https://maxcdn.bootstrapcdn.com/font-awesome/4.6.3/css/font-awesome.min.css&quot;/&gt;\n",
       "    &lt;link rel=&quot;stylesheet&quot; href=&quot;https://cdnjs.cloudflare.com/ajax/libs/Leaflet.awesome-markers/2.0.2/leaflet.awesome-markers.css&quot;/&gt;\n",
       "    &lt;link rel=&quot;stylesheet&quot; href=&quot;https://cdn.jsdelivr.net/gh/python-visualization/folium/folium/templates/leaflet.awesome.rotate.min.css&quot;/&gt;\n",
       "    \n",
       "            &lt;meta name=&quot;viewport&quot; content=&quot;width=device-width,\n",
       "                initial-scale=1.0, maximum-scale=1.0, user-scalable=no&quot; /&gt;\n",
       "            &lt;style&gt;\n",
       "                #map_8045a151a371d0cc6bac0605f2be1698 {\n",
       "                    position: relative;\n",
       "                    width: 100.0%;\n",
       "                    height: 100.0%;\n",
       "                    left: 0.0%;\n",
       "                    top: 0.0%;\n",
       "                }\n",
       "            &lt;/style&gt;\n",
       "        \n",
       "&lt;/head&gt;\n",
       "&lt;body&gt;    \n",
       "    \n",
       "            &lt;div class=&quot;folium-map&quot; id=&quot;map_8045a151a371d0cc6bac0605f2be1698&quot; &gt;&lt;/div&gt;\n",
       "        \n",
       "&lt;/body&gt;\n",
       "&lt;script&gt;    \n",
       "    \n",
       "            var map_8045a151a371d0cc6bac0605f2be1698 = L.map(\n",
       "                &quot;map_8045a151a371d0cc6bac0605f2be1698&quot;,\n",
       "                {\n",
       "                    center: [-37.78, 145.29],\n",
       "                    crs: L.CRS.EPSG3857,\n",
       "                    zoom: 9,\n",
       "                    zoomControl: true,\n",
       "                    preferCanvas: false,\n",
       "                }\n",
       "            );\n",
       "\n",
       "            \n",
       "\n",
       "        \n",
       "    \n",
       "            var tile_layer_c98d1117216d2daa8fe259bba9adf980 = L.tileLayer(\n",
       "                &quot;https://{s}.tile.openstreetmap.org/{z}/{x}/{y}.png&quot;,\n",
       "                {&quot;attribution&quot;: &quot;Data by \\u0026copy; \\u003ca href=\\&quot;http://openstreetmap.org\\&quot;\\u003eOpenStreetMap\\u003c/a\\u003e, under \\u003ca href=\\&quot;http://www.openstreetmap.org/copyright\\&quot;\\u003eODbL\\u003c/a\\u003e.&quot;, &quot;detectRetina&quot;: false, &quot;maxNativeZoom&quot;: 18, &quot;maxZoom&quot;: 18, &quot;minZoom&quot;: 0, &quot;noWrap&quot;: false, &quot;opacity&quot;: 1, &quot;subdomains&quot;: &quot;abc&quot;, &quot;tms&quot;: false}\n",
       "            ).addTo(map_8045a151a371d0cc6bac0605f2be1698);\n",
       "        \n",
       "    \n",
       "        function geo_json_61532964f463ad3777c7c17d7b2b2919_styler(feature) {\n",
       "            switch(feature.id) {\n",
       "                case &quot;0&quot;: \n",
       "                    return {&quot;color&quot;: &quot;blue&quot;, &quot;fillColor&quot;: &quot;none&quot;, &quot;weight&quot;: 5};\n",
       "                case &quot;1&quot;: \n",
       "                    return {&quot;color&quot;: &quot;green&quot;, &quot;fillColor&quot;: &quot;none&quot;, &quot;weight&quot;: 5};\n",
       "                case &quot;3&quot;: \n",
       "                    return {&quot;color&quot;: &quot;orange&quot;, &quot;fillColor&quot;: &quot;none&quot;, &quot;weight&quot;: 5};\n",
       "                case &quot;4&quot;: \n",
       "                    return {&quot;color&quot;: &quot;red&quot;, &quot;fillColor&quot;: &quot;none&quot;, &quot;weight&quot;: 5};\n",
       "                default:\n",
       "                    return {&quot;color&quot;: &quot;yellow&quot;, &quot;fillColor&quot;: &quot;none&quot;, &quot;weight&quot;: 5};\n",
       "            }\n",
       "        }\n",
       "\n",
       "        function geo_json_61532964f463ad3777c7c17d7b2b2919_onEachFeature(feature, layer) {\n",
       "            layer.on({\n",
       "            });\n",
       "        };\n",
       "        var geo_json_61532964f463ad3777c7c17d7b2b2919 = L.geoJson(null, {\n",
       "                onEachFeature: geo_json_61532964f463ad3777c7c17d7b2b2919_onEachFeature,\n",
       "            \n",
       "                style: geo_json_61532964f463ad3777c7c17d7b2b2919_styler,\n",
       "        });\n",
       "\n",
       "        function geo_json_61532964f463ad3777c7c17d7b2b2919_add (data) {\n",
       "            geo_json_61532964f463ad3777c7c17d7b2b2919\n",
       "                .addData(data)\n",
       "                .addTo(map_8045a151a371d0cc6bac0605f2be1698);\n",
       "        }\n",
       "            geo_json_61532964f463ad3777c7c17d7b2b2919_add({&quot;bbox&quot;: [145.208316, -38.090292, 145.287246, -38.027053], &quot;features&quot;: [{&quot;geometry&quot;: {&quot;coordinates&quot;: [[[145.242413, -38.055397], [145.242895, -38.058191], [145.243294, -38.060284], [145.243336, -38.0605], [145.244122, -38.061206], [145.246849, -38.063039], [145.246939, -38.063081], [145.247296, -38.063125], [145.251289, -38.063467], [145.251398, -38.063458], [145.25172, -38.063298], [145.254051, -38.061939], [145.254355, -38.061746], [145.257081, -38.059122], [145.257165, -38.058994], [145.25717, -38.058966], [145.257124, -38.058765], [145.255792, -38.056216], [145.25267, -38.053293], [145.252556, -38.053277], [145.251092, -38.053214], [145.24633, -38.052064], [145.246155, -38.052041], [145.245998, -38.052088], [145.242457, -38.055039], [145.242413, -38.055397]]], &quot;type&quot;: &quot;Polygon&quot;}, &quot;id&quot;: &quot;0&quot;, &quot;properties&quot;: {&quot;center&quot;: [145.24929074374768, -38.05733612506512], &quot;group_index&quot;: 0, &quot;name&quot;: &quot;45793&quot;, &quot;total_pop&quot;: 2250.0, &quot;value&quot;: 600.0}, &quot;type&quot;: &quot;Feature&quot;}, {&quot;geometry&quot;: {&quot;coordinates&quot;: [[[145.232784, -38.054393], [145.233105, -38.054429], [145.233425, -38.054466], [145.233698, -38.054492], [145.233967, -38.054517], [145.23422, -38.054526], [145.234463, -38.054534], [145.235301, -38.054626], [145.236152, -38.054718], [145.23647, -38.054736], [145.23678, -38.054754], [145.240269, -38.059353], [145.236794, -38.061991], [145.235424, -38.061821], [145.235379, -38.062178], [145.236749, -38.062349], [145.23812, -38.062519], [145.241478, -38.066982], [145.241214, -38.068341], [145.243946, -38.069033], [145.247766, -38.069378], [145.248126, -38.069291], [145.251949, -38.06824], [145.252281, -38.068103], [145.258177, -38.06722], [145.258533, -38.067165], [145.261134, -38.065883], [145.262068, -38.064742], [145.263774, -38.060521], [145.263213, -38.056821], [145.263093, -38.056019], [145.26274, -38.055948], [145.260358, -38.050658], [145.260376, -38.050314], [145.260368, -38.049219], [145.260228, -38.048887], [145.258498, -38.048419], [145.255515, -38.047733], [145.254663, -38.047537], [145.249758, -38.047432], [145.245836, -38.046252], [145.245482, -38.046184], [145.245058, -38.04689], [145.244916, -38.047646], [145.244774, -38.048401], [145.239726, -38.051376], [145.239388, -38.051251], [145.234458, -38.053146], [145.232825, -38.054035], [145.232784, -38.054393]]], &quot;type&quot;: &quot;Polygon&quot;}, &quot;id&quot;: &quot;1&quot;, &quot;properties&quot;: {&quot;center&quot;: [145.24929074374768, -38.05733612506512], &quot;group_index&quot;: 0, &quot;name&quot;: &quot;45793&quot;, &quot;total_pop&quot;: 8199.0, &quot;value&quot;: 1200.0}, &quot;type&quot;: &quot;Feature&quot;}, {&quot;geometry&quot;: {&quot;coordinates&quot;: [[[145.226004, -38.053938], [145.227051, -38.054219], [145.227909, -38.054708], [145.22995, -38.057495], [145.226658, -38.060739], [145.226614, -38.061096], [145.228626, -38.062579], [145.22898, -38.062643], [145.233309, -38.06192], [145.233502, -38.061944], [145.233709, -38.06197], [145.233916, -38.061995], [145.234137, -38.062023], [145.234358, -38.062051], [145.234579, -38.062078], [145.234801, -38.062106], [145.235022, -38.062133], [145.235243, -38.062161], [145.235379, -38.062178], [145.235464, -38.062188], [145.235686, -38.062216], [145.235907, -38.062244], [145.236128, -38.062271], [145.236383, -38.062305], [145.236571, -38.062326], [145.236749, -38.062349], [145.236792, -38.062354], [145.237013, -38.062381], [145.237234, -38.062409], [145.237456, -38.062437], [145.237677, -38.062464], [145.237898, -38.062492], [145.241409, -38.067337], [145.241376, -38.067508], [145.241343, -38.06768], [145.241309, -38.067851], [145.241293, -38.067937], [145.241276, -38.068022], [145.241243, -38.068194], [145.241214, -38.068341], [145.24121, -38.068365], [145.241176, -38.068537], [145.240569, -38.070217], [145.240396, -38.07111], [145.240223, -38.072002], [145.239973, -38.073295], [145.239724, -38.074588], [145.240135, -38.075251], [145.240489, -38.075318], [145.242636, -38.075621], [145.242993, -38.075666], [145.244652, -38.075875], [145.244882, -38.075894], [145.244999, -38.075859], [145.248214, -38.074747], [145.254023, -38.074655], [145.254972, -38.074784], [145.255278, -38.074764], [145.259377, -38.074016], [145.260952, -38.07233], [145.26219, -38.070915], [145.266639, -38.067669], [145.266843, -38.067551], [145.267148, -38.06736], [145.267453, -38.067079], [145.268218, -38.06609], [145.268263, -38.065733], [145.268195, -38.065632], [145.26454, -38.062223], [145.264466, -38.062059], [145.264393, -38.061894], [145.264319, -38.06173], [145.264245, -38.061566], [145.264171, -38.061402], [145.264097, -38.061238], [145.264023, -38.061073], [145.263774, -38.060521], [145.263054, -38.058107], [145.267114, -38.054113], [145.267345, -38.053968], [145.267711, -38.053061], [145.269399, -38.048189], [145.269407, -38.048147], [145.269301, -38.047983], [145.269133, -38.047779], [145.267134, -38.045484], [145.26564, -38.044083], [145.265287, -38.044012], [145.259807, -38.042405], [145.255273, -38.041315], [145.253049, -38.041226], [145.247541, -38.040434], [145.247188, -38.040365], [145.24314, -38.039585], [145.242827, -38.039763], [145.24373, -38.044935], [145.243728, -38.045402], [145.244712, -38.048728], [145.239726, -38.051376], [145.239388, -38.051251], [145.23471, -38.050617], [145.233299, -38.050375], [145.230901, -38.05243], [145.226603, -38.053417], [145.226004, -38.053938]]], &quot;type&quot;: &quot;Polygon&quot;}, &quot;id&quot;: &quot;2&quot;, &quot;properties&quot;: {&quot;center&quot;: [145.24929074374768, -38.05733612506512], &quot;group_index&quot;: 0, &quot;name&quot;: &quot;45793&quot;, &quot;total_pop&quot;: 14751.0, &quot;value&quot;: 1800.0}, &quot;type&quot;: &quot;Feature&quot;}, {&quot;geometry&quot;: {&quot;coordinates&quot;: [[[145.217295, -38.059963], [145.218362, -38.060098], [145.21943, -38.060232], [145.219753, -38.06027], [145.225206, -38.062473], [145.226926, -38.063419], [145.227866, -38.063531], [145.228603, -38.063624], [145.229704, -38.063029], [145.234358, -38.062051], [145.234579, -38.062078], [145.234801, -38.062106], [145.235022, -38.062133], [145.235243, -38.062161], [145.235379, -38.062178], [145.235464, -38.062188], [145.235686, -38.062216], [145.235907, -38.062244], [145.236128, -38.062271], [145.236383, -38.062305], [145.236571, -38.062326], [145.236749, -38.062349], [145.236792, -38.062354], [145.237013, -38.062381], [145.237234, -38.062409], [145.237456, -38.062437], [145.237677, -38.062464], [145.237898, -38.062492], [145.241409, -38.067337], [145.241376, -38.067508], [145.241343, -38.06768], [145.241309, -38.067851], [145.241293, -38.067937], [145.241276, -38.068022], [145.241243, -38.068194], [145.241214, -38.068341], [145.24121, -38.068365], [145.241176, -38.068537], [145.240569, -38.070217], [145.240538, -38.07038], [145.240506, -38.070542], [145.240475, -38.070704], [145.240443, -38.070866], [145.240412, -38.071029], [145.240396, -38.07111], [145.24038, -38.071191], [145.240349, -38.071353], [145.240318, -38.071515], [145.240286, -38.071678], [145.240255, -38.07184], [145.240223, -38.072002], [145.24019, -38.072175], [145.240156, -38.072348], [145.240123, -38.072521], [145.239928, -38.073273], [145.235267, -38.076572], [145.234423, -38.076469], [145.233569, -38.076365], [145.233034, -38.076332], [145.2325, -38.076298], [145.232478, -38.076658], [145.232807, -38.077096], [145.233678, -38.077196], [145.234549, -38.077296], [145.234953, -38.077334], [145.235354, -38.077372], [145.238477, -38.082403], [145.238243, -38.083606], [145.238597, -38.083675], [145.243111, -38.083199], [145.245382, -38.082119], [145.250934, -38.081016], [145.253727, -38.079491], [145.257825, -38.080839], [145.258179, -38.080905], [145.259543, -38.080371], [145.262125, -38.078685], [145.262285, -38.078521], [145.262342, -38.078317], [145.262399, -38.078113], [145.262429, -38.077954], [145.262397, -38.077795], [145.264123, -38.073416], [145.268314, -38.073143], [145.270994, -38.074232], [145.271181, -38.074283], [145.271402, -38.074058], [145.271509, -38.073896], [145.274155, -38.070556], [145.278825, -38.067361], [145.278866, -38.067003], [145.277028, -38.066792], [145.275189, -38.06658], [145.27422, -38.066461], [145.273248, -38.066342], [145.272871, -38.066289], [145.272491, -38.066236], [145.2713, -38.066094], [145.270112, -38.065953], [145.269172, -38.065794], [145.26454, -38.062223], [145.264466, -38.062059], [145.264393, -38.061894], [145.264319, -38.06173], [145.264245, -38.061566], [145.264171, -38.061402], [145.264097, -38.061238], [145.264023, -38.061073], [145.263774, -38.060521], [145.263054, -38.058107], [145.267114, -38.054113], [145.267392, -38.05398], [145.272534, -38.051559], [145.276035, -38.051067], [145.277995, -38.050019], [145.278633, -38.04954], [145.278688, -38.049447], [145.278704, -38.049087], [145.277942, -38.048232], [145.274793, -38.044071], [145.27204, -38.040805], [145.271069, -38.039759], [145.268035, -38.037085], [145.267324, -38.036676], [145.267162, -38.036585], [145.266811, -38.036509], [145.260992, -38.035663], [145.260639, -38.035588], [145.255951, -38.035017], [145.252681, -38.034901], [145.2481, -38.034534], [145.247742, -38.034577], [145.245977, -38.03503], [145.241104, -38.033332], [145.24076, -38.033436], [145.238686, -38.03478], [145.238641, -38.035138], [145.241733, -38.037965], [145.241831, -38.038119], [145.241929, -38.038274], [145.242028, -38.038428], [145.242126, -38.038582], [145.242224, -38.038737], [145.242415, -38.039045], [145.242599, -38.039361], [145.242691, -38.039523], [145.242783, -38.039685], [145.242827, -38.039763], [145.242874, -38.039847], [145.24373, -38.044935], [145.243728, -38.045402], [145.244712, -38.048728], [145.239726, -38.051376], [145.239388, -38.051251], [145.23471, -38.050617], [145.233299, -38.050375], [145.230901, -38.05243], [145.226603, -38.053417], [145.226004, -38.053938], [145.22412, -38.059434], [145.220117, -38.059951], [145.219795, -38.059913], [145.219475, -38.059875], [145.218407, -38.059741], [145.21734, -38.059606], [145.217295, -38.059963]]], &quot;type&quot;: &quot;Polygon&quot;}, &quot;id&quot;: &quot;3&quot;, &quot;properties&quot;: {&quot;center&quot;: [145.24929074374768, -38.05733612506512], &quot;group_index&quot;: 0, &quot;name&quot;: &quot;45793&quot;, &quot;total_pop&quot;: 25586.0, &quot;value&quot;: 2400.0}, &quot;type&quot;: &quot;Feature&quot;}, {&quot;geometry&quot;: {&quot;coordinates&quot;: [[[145.208316, -38.058845], [145.212178, -38.059325], [145.21604, -38.059806], [145.216358, -38.059847], [145.216677, -38.059888], [145.216963, -38.059922], [145.217295, -38.059963], [145.217411, -38.059978], [145.217635, -38.060006], [145.21786, -38.060035], [145.218084, -38.060063], [145.218196, -38.060077], [145.218308, -38.060091], [145.218362, -38.060098], [145.218533, -38.060119], [145.218757, -38.060147], [145.218981, -38.060176], [145.219206, -38.060204], [145.21943, -38.060232], [145.219645, -38.060258], [145.219753, -38.06027], [145.219861, -38.060283], [145.220075, -38.060308], [145.220299, -38.060335], [145.220522, -38.060362], [145.220746, -38.060389], [145.225206, -38.062473], [145.226926, -38.063419], [145.227866, -38.063531], [145.228603, -38.063624], [145.229704, -38.063029], [145.233916, -38.061995], [145.234137, -38.062023], [145.234358, -38.062051], [145.234579, -38.062078], [145.234801, -38.062106], [145.235022, -38.062133], [145.235243, -38.062161], [145.235379, -38.062178], [145.235464, -38.062188], [145.235686, -38.062216], [145.235907, -38.062244], [145.236128, -38.062271], [145.236383, -38.062305], [145.236571, -38.062326], [145.236749, -38.062349], [145.236792, -38.062354], [145.237013, -38.062381], [145.237234, -38.062409], [145.237456, -38.062437], [145.237677, -38.062464], [145.237898, -38.062492], [145.241409, -38.067337], [145.241376, -38.067508], [145.241343, -38.06768], [145.241309, -38.067851], [145.241293, -38.067937], [145.241276, -38.068022], [145.241243, -38.068194], [145.241214, -38.068341], [145.24121, -38.068365], [145.241176, -38.068537], [145.240569, -38.070217], [145.240538, -38.07038], [145.240506, -38.070542], [145.240475, -38.070704], [145.240443, -38.070866], [145.240412, -38.071029], [145.240396, -38.07111], [145.24038, -38.071191], [145.240349, -38.071353], [145.240318, -38.071515], [145.240286, -38.071678], [145.240255, -38.07184], [145.240223, -38.072002], [145.24019, -38.072175], [145.240156, -38.072348], [145.240123, -38.072521], [145.239928, -38.073273], [145.235056, -38.076546], [145.234845, -38.07652], [145.234634, -38.076494], [145.234423, -38.076469], [145.234213, -38.076443], [145.234002, -38.076417], [145.233786, -38.076391], [145.22944, -38.073443], [145.228037, -38.072906], [145.227681, -38.072854], [145.223751, -38.075171], [145.223714, -38.075363], [145.223668, -38.07572], [145.224159, -38.076021], [145.227719, -38.076471], [145.231278, -38.076921], [145.231281, -38.076921], [145.231716, -38.076971], [145.231934, -38.076996], [145.232152, -38.077021], [145.23237, -38.077046], [145.232588, -38.077071], [145.232805, -38.077096], [145.232807, -38.077096], [145.232914, -38.077109], [145.233023, -38.077121], [145.233241, -38.077146], [145.233459, -38.077171], [145.233677, -38.077196], [145.233678, -38.077196], [145.233895, -38.077221], [145.234113, -38.077246], [145.234331, -38.077271], [145.234549, -38.077296], [145.234751, -38.077315], [145.234953, -38.077334], [145.23854, -38.082077], [145.238506, -38.082253], [145.238477, -38.082403], [145.238472, -38.082429], [145.238438, -38.082604], [145.238283, -38.083192], [145.238199, -38.083834], [145.238165, -38.08401], [145.236821, -38.086744], [145.236775, -38.089974], [145.236991, -38.090225], [145.237345, -38.090292], [145.238826, -38.08895], [145.24251, -38.08544], [145.245767, -38.085009], [145.246243, -38.085046], [145.249554, -38.086235], [145.249907, -38.086305], [145.251064, -38.086096], [145.256411, -38.087981], [145.256632, -38.088102], [145.256764, -38.088053], [145.257657, -38.087635], [145.257703, -38.087277], [145.263196, -38.085128], [145.26355, -38.085065], [145.264948, -38.083497], [145.269437, -38.081405], [145.274261, -38.08093], [145.275347, -38.08096], [145.275653, -38.080771], [145.275866, -38.080587], [145.278097, -38.078469], [145.279382, -38.07696], [145.28064, -38.075461], [145.280665, -38.075295], [145.280686, -38.075104], [145.281198, -38.070049], [145.285559, -38.068214], [145.286293, -38.068299], [145.287027, -38.068384], [145.287068, -38.068027], [145.286949, -38.067779], [145.28662, -38.06704], [145.284514, -38.064677], [145.284228, -38.064459], [145.283525, -38.064496], [145.280751, -38.065321], [145.275623, -38.06663], [145.275406, -38.066605], [145.275189, -38.06658], [145.274974, -38.066554], [145.274759, -38.066527], [145.274543, -38.066501], [145.274327, -38.066474], [145.27422, -38.066461], [145.274112, -38.066448], [145.273896, -38.066421], [145.273321, -38.066333], [145.272871, -38.066289], [145.272681, -38.066262], [145.272491, -38.066236], [145.272273, -38.06621], [145.272055, -38.066184], [145.271839, -38.066158], [145.271623, -38.066132], [145.271408, -38.066107], [145.2713, -38.066094], [145.271192, -38.066081], [145.270976, -38.066055], [145.27076, -38.06603], [145.270544, -38.066004], [145.270328, -38.065978], [145.270119, -38.065948], [145.269906, -38.065918], [145.269699, -38.065883], [145.269488, -38.065848], [145.269277, -38.065812], [145.269172, -38.065794], [145.26454, -38.062223], [145.264466, -38.062059], [145.264393, -38.061894], [145.264319, -38.06173], [145.264245, -38.061566], [145.264171, -38.061402], [145.264097, -38.061238], [145.264023, -38.061073], [145.263774, -38.060521], [145.263054, -38.058107], [145.267114, -38.054113], [145.267392, -38.05398], [145.272534, -38.051559], [145.2779, -38.051898], [145.278072, -38.051919], [145.278244, -38.05194], [145.278415, -38.051962], [145.283013, -38.054083], [145.283365, -38.054159], [145.284387, -38.053703], [145.28664, -38.052248], [145.286952, -38.052069], [145.287056, -38.051885], [145.28723, -38.051435], [145.287246, -38.051338], [145.287064, -38.048115], [145.286897, -38.047796], [145.284466, -38.047533], [145.281999, -38.044304], [145.281761, -38.043], [145.281717, -38.042048], [145.281345, -38.041039], [145.281169, -38.040725], [145.277071, -38.03727], [145.276032, -38.036321], [145.275329, -38.036023], [145.274739, -38.035923], [145.271033, -38.031449], [145.270187, -38.030552], [145.268956, -38.02934], [145.268313, -38.029203], [145.26757, -38.029226], [145.261761, -38.029979], [145.257624, -38.028429], [145.257271, -38.02836], [145.255955, -38.028604], [145.251798, -38.028587], [145.247506, -38.027159], [145.247162, -38.027053], [145.243414, -38.028106], [145.237641, -38.029488], [145.237548, -38.029498], [145.237442, -38.029508], [145.234961, -38.031963], [145.229975, -38.0337], [145.229916, -38.033732], [145.229897, -38.034092], [145.233722, -38.038375], [145.234075, -38.038446], [145.234135, -38.038445], [145.236575, -38.037249], [145.242323, -38.038891], [145.242415, -38.039045], [145.24251, -38.039203], [145.242599, -38.039361], [145.242691, -38.039523], [145.242783, -38.039685], [145.242827, -38.039763], [145.242874, -38.039847], [145.242966, -38.040008], [145.243012, -38.040089], [145.243057, -38.04017], [145.243149, -38.040332], [145.24373, -38.044935], [145.243728, -38.045402], [145.244712, -38.048728], [145.239726, -38.051376], [145.239388, -38.051251], [145.23471, -38.050617], [145.233299, -38.050375], [145.230901, -38.05243], [145.226603, -38.053417], [145.226004, -38.053938], [145.22412, -38.059434], [145.221236, -38.060085], [145.221012, -38.060058], [145.220788, -38.060031], [145.220565, -38.060004], [145.220351, -38.059972], [145.220117, -38.059951], [145.219903, -38.059925], [145.219795, -38.059913], [145.219689, -38.0599], [145.219469, -38.059873], [145.219251, -38.059847], [145.219026, -38.059818], [145.218802, -38.05979], [145.218578, -38.059762], [145.218407, -38.059741], [145.218353, -38.059734], [145.218241, -38.05972], [145.218129, -38.059706], [145.217905, -38.059677], [145.21768, -38.059649], [145.217456, -38.059621], [145.21734, -38.059606], [145.217007, -38.059564], [145.216723, -38.059531], [145.216404, -38.05949], [145.216084, -38.059448], [145.212223, -38.058968], [145.208361, -38.058488], [145.208316, -38.058845]]], &quot;type&quot;: &quot;Polygon&quot;}, &quot;id&quot;: &quot;4&quot;, &quot;properties&quot;: {&quot;center&quot;: [145.24929074374768, -38.05733612506512], &quot;group_index&quot;: 0, &quot;name&quot;: &quot;45793&quot;, &quot;total_pop&quot;: 37142.0, &quot;value&quot;: 3000.0}, &quot;type&quot;: &quot;Feature&quot;}], &quot;metadata&quot;: {&quot;attribution&quot;: &quot;openrouteservice.org | OpenStreetMap contributors&quot;, &quot;engine&quot;: {&quot;build_date&quot;: &quot;2022-02-18T19:37:41Z&quot;, &quot;graph_date&quot;: &quot;2022-09-06T07:58:44Z&quot;, &quot;version&quot;: &quot;6.7.0&quot;}, &quot;query&quot;: {&quot;attributes&quot;: [&quot;total_pop&quot;], &quot;interval&quot;: 600.0, &quot;isoMaps&quot;: {&quot;isochroneMaps&quot;: [{&quot;center&quot;: {&quot;x&quot;: 145.24929074374768, &quot;y&quot;: -38.05733612506512, &quot;z&quot;: &quot;NaN&quot;}, &quot;empty&quot;: false, &quot;envelope&quot;: {&quot;area&quot;: 0.004991476413933993, &quot;height&quot;: 0.06323937090647291, &quot;maxX&quot;: 145.28724633724846, &quot;maxY&quot;: -38.02705282494232, &quot;minX&quot;: 145.20831645002178, &quot;minY&quot;: -38.09029219584879, &quot;null&quot;: false, &quot;width&quot;: 0.07892988722667837}, &quot;graphDate&quot;: &quot;2022-09-06T07:58:44Z&quot;, &quot;isochrones&quot;: [{&quot;area&quot;: 0.0, &quot;attributes&quot;: [{&quot;name&quot;: &quot;total_pop&quot;, &quot;source&quot;: &quot;European Commission, Joint Research Centre (JRC); Columbia University, Center for International Earth Science Information Network - CIESIN (2015):  GHS population grid, derived from GPW4, multitemporal (1975, 1990, 2000, 2015). European Commission, Joint Research Centre (JRC) [Dataset] PID: http://data.europa.eu/89h/jrc-ghsl-ghs_pop_gpw4_globe_r2015a&quot;, &quot;value&quot;: 2250.0}], &quot;envelope&quot;: {&quot;area&quot;: 0.0001686206098774784, &quot;height&quot;: 0.011426125902623596, &quot;maxX&quot;: 145.25717035962407, &quot;maxY&quot;: -38.05204096780412, &quot;minX&quot;: 145.2424128984063, &quot;minY&quot;: -38.06346709370674, &quot;null&quot;: false, &quot;width&quot;: 0.01475746121778343}, &quot;geometry&quot;: {&quot;coordinates&quot;: [[[145.2424128984063, -38.05539650353136], [145.24289516521642, -38.05819124294559], [145.2432936495202, -38.060283948402244], [145.24333559171936, -38.060499812991374], [145.24412206852512, -38.06120557393401], [145.2468489331244, -38.06303917573582], [145.24693879970982, -38.06308099679649], [145.24729615222577, -38.06312457637158], [145.25128870705498, -38.06346709370674], [145.25139789667926, -38.06345840276119], [145.2517200857623, -38.063297797048996], [145.2540513521503, -38.06193928047687], [145.2543553515686, -38.061746448027144], [145.2570807300954, -38.059122021385946], [145.25716474582345, -38.05899368768386], [145.25717035962407, -38.05896619941869], [145.2571240781555, -38.058764640712596], [145.25579239401839, -38.05621551301418], [145.25266951065086, -38.05329274304145], [145.25255619632495, -38.05327659716395], [145.25109203702996, -38.05321417981862], [145.24633017363644, -38.05206440787712], [145.24615475374537, -38.05204096780412], [145.2459975742991, -38.05208776556806], [145.24245719912162, -38.05503923969801], [145.2424128984063, -38.05539650353136]]], &quot;type&quot;: &quot;Polygon&quot;}, &quot;reachfactor&quot;: 0.0, &quot;value&quot;: 600.0}, {&quot;area&quot;: 0.0, &quot;attributes&quot;: [{&quot;name&quot;: &quot;total_pop&quot;, &quot;source&quot;: &quot;European Commission, Joint Research Centre (JRC); Columbia University, Center for International Earth Science Information Network - CIESIN (2015):  GHS population grid, derived from GPW4, multitemporal (1975, 1990, 2000, 2015). European Commission, Joint Research Centre (JRC) [Dataset] PID: http://data.europa.eu/89h/jrc-ghsl-ghs_pop_gpw4_globe_r2015a&quot;, &quot;value&quot;: 8199.0}], &quot;envelope&quot;: {&quot;area&quot;: 0.0007187721982459832, &quot;height&quot;: 0.023193490735096134, &quot;maxX&quot;: 145.26377412557605, &quot;maxY&quot;: -38.046184301080515, &quot;minX&quot;: 145.23278387031627, &quot;minY&quot;: -38.06937779181561, &quot;null&quot;: false, &quot;width&quot;: 0.030990255259780497}, &quot;geometry&quot;: {&quot;coordinates&quot;: [[[145.23278387031627, -38.05439261726455], [145.2331045002875, -38.05442948894308], [145.23342513025875, -38.05446636062161], [145.2336981269644, -38.054491729062306], [145.23396718606224, -38.05451668850787], [145.23422035568242, -38.0545259143131], [145.2344632446153, -38.05453448248098], [145.2353011695401, -38.05462565689895], [145.23615211899553, -38.05471776470364], [145.23647033842184, -38.054736481313874], [145.23677963065578, -38.05475445583997], [145.2402690162845, -38.059352630230734], [145.23679390639913, -38.06199130334388], [145.2354237559647, -38.061820539161864], [145.23537923300808, -38.0621777753671], [145.23674938344251, -38.06234853954911], [145.23811953387695, -38.062519303731136], [145.24147789299417, -38.06698168164914], [145.24121437232301, -38.068340689145316], [145.24394562250978, -38.06903308135102], [145.24776573763162, -38.06937779181561], [145.2481256495724, -38.06929117346838], [145.25194857557895, -38.06824022214852], [145.25228146522718, -38.06810316565614], [145.25817718944833, -38.06722001609691], [145.2585330310583, -38.06716545650927], [145.26113362386508, -38.065883144599965], [145.2620679988736, -38.06474228712831], [145.26377412557605, -38.060521488648476], [145.26321317347973, -38.05682110009939], [145.26309278180668, -38.05601909408192], [145.26273984119035, -38.05594815099671], [145.26035754755335, -38.050658369604584], [145.2603763558539, -38.05031439584611], [145.26036776170812, -38.049218543967655], [145.26022818239457, -38.04888670422436], [145.25849755394825, -38.048419187463224], [145.25551503400942, -38.047733073143284], [145.25466322669533, -38.047537168887274], [145.24975777644858, -38.047432058189955], [145.24583595446887, -38.046252416813644], [145.2454824573021, -38.046184301080515], [145.24505778245356, -38.046889744643664], [145.24491578623957, -38.047645528517734], [145.2447737900256, -38.0484013123918], [145.23972580511577, -38.05137584550213], [145.2393882612268, -38.05125068910797], [145.23445791279815, -38.05314576270963], [145.23282499839888, -38.05403497431296], [145.23278387031627, -38.05439261726455]]], &quot;type&quot;: &quot;Polygon&quot;}, &quot;reachfactor&quot;: 0.0, &quot;value&quot;: 1200.0}, {&quot;area&quot;: 0.0, &quot;attributes&quot;: [{&quot;name&quot;: &quot;total_pop&quot;, &quot;source&quot;: &quot;European Commission, Joint Research Centre (JRC); Columbia University, Center for International Earth Science Information Network - CIESIN (2015):  GHS population grid, derived from GPW4, multitemporal (1975, 1990, 2000, 2015). European Commission, Joint Research Centre (JRC) [Dataset] PID: http://data.europa.eu/89h/jrc-ghsl-ghs_pop_gpw4_globe_r2015a&quot;, &quot;value&quot;: 14751.0}], &quot;envelope&quot;: {&quot;area&quot;: 0.0015758954994386366, &quot;height&quot;: 0.03630828507278494, &quot;maxX&quot;: 145.26940706082925, &quot;maxY&quot;: -38.039585443064134, &quot;minX&quot;: 145.226003867969, &quot;minY&quot;: -38.07589372813692, &quot;null&quot;: false, &quot;width&quot;: 0.043403192860239415}, &quot;geometry&quot;: {&quot;coordinates&quot;: [[[145.226003867969, -38.053937548114455], [145.22705141962436, -38.05421899380279], [145.22790935399925, -38.05470849695895], [145.22994969554134, -38.05749501416449], [145.2266576475314, -38.06073910331641], [145.22661370160085, -38.061096410964225], [145.22862608708868, -38.06257919863215], [145.22898033495323, -38.062643295827556], [145.23330894587383, -38.06192044007856], [145.2335017606952, -38.06194412671657], [145.23370863206006, -38.0619697375659], [145.23391567128184, -38.061995369115934], [145.23413678867695, -38.062022927414226], [145.23435805229917, -38.06205050387627], [145.2345793159214, -38.062078080338324], [145.23480057954362, -38.06210565680038], [145.23502184316584, -38.06213323326242], [145.23524310678806, -38.062160809724475], [145.23537923300808, -38.0621777753671], [145.23546437041028, -38.06218838618653], [145.2356856340325, -38.06221596264858], [145.23590689765473, -38.06224353911063], [145.23612816127695, -38.06227111557268], [145.2363832216852, -38.06230489675057], [145.2365706885214, -38.06232626849678], [145.23674938344251, -38.06234853954911], [145.23679195214362, -38.06235384495883], [145.23701321576584, -38.06238142142088], [145.23723447938806, -38.06240899788293], [145.2374557430103, -38.062436574344986], [145.2376770066325, -38.06246415080704], [145.23789827025473, -38.062491727269084], [145.24140903497906, -38.06733679063658], [145.24137579711044, -38.06750820228494], [145.24134255924182, -38.0676796139333], [145.2413093213732, -38.06785102558163], [145.24129270243887, -38.06793673140583], [145.24127608350454, -38.06802243723002], [145.24124284563592, -38.06819384887838], [145.24121437232301, -38.068340689145316], [145.2412096077673, -38.06836526052675], [145.24117636989868, -38.06853667217508], [145.24056905717742, -38.07021730028734], [145.2403962037037, -38.071109786730545], [145.24022333769577, -38.07200233795477], [145.23997344801754, -38.073295120352576], [145.2397235583393, -38.07458790275037], [145.2401349211738, -38.07525051646552], [145.24048851794996, -38.07531811321008], [145.24263592609253, -38.075621405483595], [145.2429931600011, -38.07566594686396], [145.2446516693767, -38.075874664005056], [145.2448821716715, -38.07589372813692], [145.2449992575167, -38.0758593492878], [145.2482135330864, -38.0747467681655], [145.25402268599038, -38.074655414874734], [145.25497172342085, -38.074784417145686], [145.25527793666532, -38.074764390718144], [145.25937700677198, -38.07401595650239], [145.26095180348565, -38.07233020380778], [145.26219040741452, -38.070915186500145], [145.2666391950172, -38.0676685533799], [145.26684255824762, -38.06755057323116], [145.2671481120268, -38.06736021334041], [145.26745301458806, -38.06707858993167], [145.2682175887804, -38.06609003140099], [145.26826340837223, -38.065732959188395], [145.26819540934207, -38.06563198757088], [145.264540437927, -38.062222782954606], [145.26446647711555, -38.062058580432996], [145.2643925163041, -38.06189437791139], [145.26431855549265, -38.06173017538979], [145.2642445946812, -38.06156597286819], [145.26417063386975, -38.061401770346585], [145.2640966730583, -38.06123756782498], [145.26402271224686, -38.06107336530338], [145.26377412557605, -38.060521488648476], [145.26305411598952, -38.058106520580644], [145.26711382137347, -38.0541125614858], [145.2673453186376, -38.05396772483143], [145.26771110149573, -38.05306098728763], [145.2693985422905, -38.04818917006984], [145.26940706082925, -38.04814683551372], [145.26930076780454, -38.047982971440454], [145.26913271525072, -38.04777913149962], [145.26713411306054, -38.04548380715995], [145.2656397871489, -38.04408346402533], [145.26528688012897, -38.04401235400304], [145.25980707270784, -38.042405231949], [145.2552734452958, -38.04131471865824], [145.25304867284038, -38.04122563401152], [145.24754120097396, -38.040434322681], [145.2471879591426, -38.04036489495896], [145.24314016177416, -38.039585443064134], [145.24282687648568, -38.03976279110616], [145.2437302897214, -38.04493519764249], [145.24372768201815, -38.045401976527316], [145.2447121650128, -38.04872842758764], [145.23972580511577, -38.05137584550213], [145.2393882612268, -38.05125068910797], [145.23471024412015, -38.05061719679722], [145.23329929038806, -38.05037542545144], [145.2309009484403, -38.05242955056793], [145.2266028946624, -38.05341731131264], [145.226003867969, -38.053937548114455]]], &quot;type&quot;: &quot;Polygon&quot;}, &quot;reachfactor&quot;: 0.0, &quot;value&quot;: 1800.0}, {&quot;area&quot;: 0.0, &quot;attributes&quot;: [{&quot;name&quot;: &quot;total_pop&quot;, &quot;source&quot;: &quot;European Commission, Joint Research Centre (JRC); Columbia University, Center for International Earth Science Information Network - CIESIN (2015):  GHS population grid, derived from GPW4, multitemporal (1975, 1990, 2000, 2015). European Commission, Joint Research Centre (JRC) [Dataset] PID: http://data.europa.eu/89h/jrc-ghsl-ghs_pop_gpw4_globe_r2015a&quot;, &quot;value&quot;: 25586.0}], &quot;envelope&quot;: {&quot;area&quot;: 0.003099720583390018, &quot;height&quot;: 0.05034324837217952, &quot;maxX&quot;: 145.2788663801654, &quot;maxY&quot;: -38.033331641570584, &quot;minX&quot;: 145.21729465637685, &quot;minY&quot;: -38.08367488994276, &quot;null&quot;: false, &quot;width&quot;: 0.06157172378854625}, &quot;geometry&quot;: {&quot;coordinates&quot;: [[[145.21729465637685, -38.05996345519545], [145.21733960087812, -38.059606271780645], [145.21840722958396, -38.05974061183595], [145.2194748582898, -38.05987495189125], [145.21979544168803, -38.05991278222919], [145.22011739990927, -38.05995078019108], [145.22412017488747, -38.059434214072695], [145.226003867969, -38.053937548114455], [145.2266028946624, -38.05341731131264], [145.2309009484403, -38.05242955056793], [145.23329929038806, -38.05037542545144], [145.23471024412015, -38.05061719679722], [145.2393882612268, -38.05125068910797], [145.23972580511577, -38.05137584550213], [145.2447121650128, -38.04872842758764], [145.24372768201815, -38.045401976527316], [145.2437302897214, -38.04493519764249], [145.24287426679214, -38.039846506075094], [145.24282687648568, -38.03976279110616], [145.24278265330483, -38.03968467086409], [145.24269103981752, -38.03952283565308], [145.2425994263302, -38.03936100044208], [145.2424151798829, -38.03904509668116], [145.24222434294103, -38.03873667810112], [145.24212599527496, -38.03858232690297], [145.24202764760892, -38.03842797570484], [145.2419292999428, -38.03827362450667], [145.24183095227673, -38.038119273308524], [145.2417326046107, -38.03796492211039], [145.23864057462532, -38.03513753631175], [145.23868553338934, -38.03478035469193], [145.24075968148557, -38.03343555436102], [145.24110435833708, -38.033331641570584], [145.24597740084445, -38.03502991057391], [145.24774241628788, -38.03457732769625], [145.24809975202376, -38.03453361074474], [145.25268094948652, -38.03490055989582], [145.2559511377896, -38.03501730450827], [145.26063938294007, -38.03558805750484], [145.26099158525037, -38.03566257953251], [145.26681054118862, -38.03650881136283], [145.26716233607627, -38.036585233591545], [145.2673235744608, -38.036675833469076], [145.26803498021815, -38.03708450677863], [145.2710692989309, -38.03975910719875], [145.27204006955037, -38.040805070584234], [145.27479301413126, -38.04407147331881], [145.27794216076262, -38.048232259462814], [145.27870386164776, -38.04908736109615], [145.27868792791057, -38.04944700830665], [145.27863250235757, -38.049540218233346], [145.27799540364168, -38.050018728222284], [145.2760350552148, -38.05106716420325], [145.27253423495296, -38.05155913647024], [145.26739203037454, -38.053979643895765], [145.26711382137347, -38.0541125614858], [145.26305411598952, -38.058106520580644], [145.26377412557605, -38.060521488648476], [145.26402271224686, -38.06107336530338], [145.2640966730583, -38.06123756782498], [145.26417063386975, -38.061401770346585], [145.2642445946812, -38.06156597286819], [145.26431855549265, -38.06173017538979], [145.2643925163041, -38.06189437791139], [145.26446647711555, -38.062058580432996], [145.264540437927, -38.062222782954606], [145.2691720178689, -38.06579449721711], [145.2701122575485, -38.065952800372806], [145.27129960072543, -38.06609398887827], [145.27249069930264, -38.066235664056855], [145.2728710514506, -38.066289028841574], [145.27324832368026, -38.066341988570606], [145.2742195068828, -38.06646119786282], [145.27518933432876, -38.06658024595753], [145.27702785724708, -38.06679177561792], [145.2788663801654, -38.06700330527831], [145.27882523212972, -38.06736094593479], [145.2741549727784, -38.070555856204884], [145.27150885292014, -38.073896416889106], [145.27140181184313, -38.07405778168106], [145.27118085323866, -38.07428338450876], [145.2709938294838, -38.07423222634379], [145.26831389379282, -38.07314345465742], [145.2641229102976, -38.073416182945124], [145.26239731647922, -38.07779450482822], [145.26242891284392, -38.07795436930912], [145.2623993059909, -38.07811296560511], [145.26234208987125, -38.07831712312286], [145.26228487375164, -38.078521280640615], [145.26212542222055, -38.07868496858317], [145.25954304125798, -38.08037136675269], [145.25817856248105, -38.080905344562005], [145.25782477705891, -38.08083874219657], [145.25372661951977, -38.07949100456063], [145.25093447758093, -38.081015544712386], [145.24538193450206, -38.082118983505495], [145.24311079464036, -38.08319929640831], [145.23859675017633, -38.08367488994276], [145.2382433427805, -38.08360630997057], [145.23847693252162, -38.08240257162745], [145.23535413981435, -38.077371889054724], [145.23495339170154, -38.07733435675413], [145.23454888630667, -38.07729643274904], [145.2336780294042, -38.077196395853576], [145.23280717250174, -38.077096358958116], [145.23247752377068, -38.07665755631121], [145.23249989587237, -38.076298252137754], [145.23303445373188, -38.076331536423496], [145.23356901159138, -38.076364820709244], [145.23442348673183, -38.07646870768481], [145.23526735813556, -38.07657161883161], [145.23992789336177, -38.07327260713116], [145.24012301562578, -38.07252134541077], [145.2401564563158, -38.07234834292542], [145.24018989700576, -38.07217534044012], [145.24022333769577, -38.07200233795477], [145.24025477166384, -38.071840036336965], [145.24028620603866, -38.07167773264892], [145.24031763394294, -38.07151546238655], [145.24034906184724, -38.07135319212415], [145.24038048975154, -38.07119092186175], [145.2403962037037, -38.071109786730545], [145.2404119176559, -38.07102865159932], [145.24044334556018, -38.07086638133695], [145.24047477346448, -38.07070411107455], [145.2405062013688, -38.07054184081215], [145.24053762927315, -38.07037957054972], [145.24056905717742, -38.07021730028734], [145.24117636989868, -38.06853667217508], [145.2412096077673, -38.06836526052675], [145.24121437232301, -38.068340689145316], [145.24124284563592, -38.06819384887838], [145.24127608350454, -38.06802243723002], [145.24129270243887, -38.06793673140583], [145.2413093213732, -38.06785102558163], [145.24134255924182, -38.0676796139333], [145.24137579711044, -38.06750820228494], [145.24140903497906, -38.06733679063658], [145.23789827025473, -38.062491727269084], [145.2376770066325, -38.06246415080704], [145.2374557430103, -38.062436574344986], [145.23723447938806, -38.06240899788293], [145.23701321576584, -38.06238142142088], [145.23679195214362, -38.06235384495883], [145.23674938344251, -38.06234853954911], [145.2365706885214, -38.06232626849678], [145.2363832216852, -38.06230489675057], [145.23612816127695, -38.06227111557268], [145.23590689765473, -38.06224353911063], [145.2356856340325, -38.06221596264858], [145.23546437041028, -38.06218838618653], [145.23537923300808, -38.0621777753671], [145.23524310678806, -38.062160809724475], [145.23502184316584, -38.06213323326242], [145.23480057954362, -38.06210565680038], [145.2345793159214, -38.062078080338324], [145.23435805229917, -38.06205050387627], [145.2297036401116, -38.06302856049751], [145.22860337559737, -38.06362442069406], [145.2278657681018, -38.06353147469904], [145.2269258773385, -38.063419157194026], [145.2252055382402, -38.06247293343707], [145.21975324683282, -38.060270300891915], [145.21942991378853, -38.06023213530606], [145.2183622850827, -38.060097795250755], [145.21729465637685, -38.05996345519545]]], &quot;type&quot;: &quot;Polygon&quot;}, &quot;reachfactor&quot;: 0.0, &quot;value&quot;: 2400.0}, {&quot;area&quot;: 0.0, &quot;attributes&quot;: [{&quot;name&quot;: &quot;total_pop&quot;, &quot;source&quot;: &quot;European Commission, Joint Research Centre (JRC); Columbia University, Center for International Earth Science Information Network - CIESIN (2015):  GHS population grid, derived from GPW4, multitemporal (1975, 1990, 2000, 2015). European Commission, Joint Research Centre (JRC) [Dataset] PID: http://data.europa.eu/89h/jrc-ghsl-ghs_pop_gpw4_globe_r2015a&quot;, &quot;value&quot;: 37142.0}], &quot;envelope&quot;: {&quot;area&quot;: 0.004991476413933993, &quot;height&quot;: 0.06323937090647291, &quot;maxX&quot;: 145.28724633724846, &quot;maxY&quot;: -38.02705282494232, &quot;minX&quot;: 145.20831645002178, &quot;minY&quot;: -38.09029219584879, &quot;null&quot;: false, &quot;width&quot;: 0.07892988722667837}, &quot;geometry&quot;: {&quot;coordinates&quot;: [[[145.20831645002178, -38.05884517620223], [145.2083608750515, -38.05848792780582], [145.2122226365468, -38.05896815072878], [145.21608439804214, -38.05944837365174], [145.21640428818253, -38.05948964186603], [145.21672335930373, -38.059530806324744], [145.21700654695275, -38.05956436481117], [145.21733960087812, -38.059606271780645], [145.21745588636801, -38.05962090402036], [145.21768021658153, -38.059649131561564], [145.2179045467951, -38.05967735910278], [145.2181288770086, -38.059705586643986], [145.21824104211538, -38.0597197004146], [145.21835320722215, -38.0597338141852], [145.21840722958396, -38.05974061183595], [145.21857753743566, -38.05976204172641], [145.2188018676492, -38.05979026926762], [145.21902619786272, -38.05981849680883], [145.21925052807626, -38.05984672435005], [145.21946934083854, -38.059873420864], [145.2196888253524, -38.059900200621904], [145.21979544168803, -38.05991278222919], [145.21990276109508, -38.05992544821648], [145.22011739990927, -38.05995078019108], [145.22035089900112, -38.0599722786296], [145.2205648964882, -38.06000448820096], [145.22078846869482, -38.060031321248445], [145.2210120409014, -38.06005815429593], [145.22123561310798, -38.060084987343416], [145.22412017488747, -38.059434214072695], [145.226003867969, -38.053937548114455], [145.2266028946624, -38.05341731131264], [145.2309009484403, -38.05242955056793], [145.23329929038806, -38.05037542545144], [145.23471024412015, -38.05061719679722], [145.2393882612268, -38.05125068910797], [145.23972580511577, -38.05137584550213], [145.2447121650128, -38.04872842758764], [145.24372768201815, -38.045401976527316], [145.2437302897214, -38.04493519764249], [145.24314910725406, -38.04033201170812], [145.2430574937667, -38.040170176497085], [145.2430116870231, -38.040089258891605], [145.24296588027946, -38.040008341286104], [145.24287426679214, -38.039846506075094], [145.24282687648568, -38.03976279110616], [145.24278265330483, -38.03968467086409], [145.24269103981752, -38.03952283565308], [145.2425994263302, -38.03936100044208], [145.24251016045957, -38.03920318988573], [145.2424151798829, -38.03904509668116], [145.24232269060715, -38.03889102929929], [145.23657494032568, -38.037248843497835], [145.23413544162193, -38.03844453378309], [145.2340748456966, -38.03844614853813], [145.23372185978755, -38.03837543115682], [145.22989687442197, -38.03409182614364], [145.2299155749467, -38.03373231217955], [145.22997527109257, -38.033700147943236], [145.23496080809701, -38.031962953834245], [145.23744234582267, -38.0295078615858], [145.23754823719403, -38.02949756508086], [145.2376405864051, -38.02948844018078], [145.2434136694641, -38.02810574814624], [145.247162471442, -38.02705282494232], [145.2475064750793, -38.02715894514549], [145.2517984837306, -38.0285873036735], [145.25595486218785, -38.028603630266666], [145.2572712730371, -38.02835974074454], [145.2576244747124, -38.02842937246562], [145.2617613656692, -38.02997912629295], [145.2675695669075, -38.029225511568804], [145.26831253342434, -38.02920348366557], [145.26895557163738, -38.02933974330281], [145.27018698737353, -38.03055212716566], [145.27103290277387, -38.031448531573005], [145.27473902918422, -38.03592344705108], [145.27532895318024, -38.0360229307232], [145.27603218097218, -38.036320563497576], [145.27707077125285, -38.037270187613636], [145.2811687410994, -38.04072541414657], [145.28134546519902, -38.04103905182385], [145.28171702452167, -38.04204831737909], [145.28176069897802, -38.04299971569673], [145.28199852143226, -38.044304133451824], [145.28446603387525, -38.047532783244684], [145.28689702350937, -38.04779564437667], [145.2870639767405, -38.048114590482776], [145.28724633724846, -38.051337972915164], [145.28722982461724, -38.05143521920073], [145.2870557631125, -38.05188500410852], [145.2869515680432, -38.052068905106765], [145.2866395180293, -38.05224841774921], [145.28438749400613, -38.05370274553208], [145.28336485494722, -38.05415948344081], [145.28301309273402, -38.05408291095637], [145.27841516461407, -38.05196165409598], [145.27824355290383, -38.05194035785264], [145.27807194119356, -38.05191906160928], [145.27790032948332, -38.051897765365936], [145.27253423495296, -38.05155913647024], [145.26739203037454, -38.053979643895765], [145.26711382137347, -38.0541125614858], [145.26305411598952, -38.058106520580644], [145.26377412557605, -38.060521488648476], [145.26402271224686, -38.06107336530338], [145.2640966730583, -38.06123756782498], [145.26417063386975, -38.061401770346585], [145.2642445946812, -38.06156597286819], [145.26431855549265, -38.06173017538979], [145.2643925163041, -38.06189437791139], [145.26446647711555, -38.062058580432996], [145.264540437927, -38.062222782954606], [145.2691720178689, -38.06579449721711], [145.2692774435867, -38.06581222339051], [145.2694882950223, -38.06584767573731], [145.2696991464579, -38.06588312808411], [145.26990567365337, -38.065917907304744], [145.27011903966, -38.06594846879682], [145.27032813812613, -38.06597847101016], [145.2705440187038, -38.06600414164752], [145.27075989928136, -38.06602981228488], [145.270975779859, -38.06605548292224], [145.2711916604366, -38.066081153559594], [145.27129960072543, -38.06609398887827], [145.27140754101424, -38.06610682419695], [145.27162342159187, -38.06613249483431], [145.27183930216952, -38.06615816547166], [145.2720551827471, -38.066183836109026], [145.27227282597954, -38.066209725170616], [145.27249069930264, -38.066235664056855], [145.27268087537664, -38.066262346449214], [145.2728710514506, -38.066289028841574], [145.27332059887598, -38.06633337763253], [145.2738957791486, -38.06642146143208], [145.27411159763807, -38.06644795238591], [145.2742195068828, -38.06646119786282], [145.2743274161275, -38.06647444333973], [145.27454323461697, -38.06650093429356], [145.2747590531064, -38.06652742524738], [145.27497419267777, -38.06655383417522], [145.27518933432876, -38.06658024595753], [145.27540610897606, -38.066605186776634], [145.27562288362338, -38.066630127595744], [145.28075092960893, -38.06532085119713], [145.28352499021162, -38.064495953877056], [145.28422762072105, -38.06445884878411], [145.2845143424582, -38.06467654271016], [145.28662011824397, -38.067039698091264], [145.286949483842, -38.067779346723654], [145.28706836049736, -38.06802685047144], [145.2870267801884, -38.068384441128345], [145.28629290968732, -38.068299107349155], [145.28555903918624, -38.068213773569965], [145.28119758400018, -38.07004905648639], [145.2806859440815, -38.075103622096], [145.28066519700633, -38.07529476446563], [145.2806397970895, -38.07546065214394], [145.279381569162, -38.07696009064601], [145.2780969174804, -38.078469215952836], [145.27586572446415, -38.08058651311467], [145.27565277426456, -38.08077093340768], [145.2753465991365, -38.08096029230224], [145.27426072586542, -38.08093044153804], [145.26943683214293, -38.08140517331934], [145.26494842614864, -38.083496982235395], [145.26355044886034, -38.08506467296781], [145.2631960735238, -38.08512806161706], [145.25770259694355, -38.08727748391453], [145.25765665557708, -38.08763454047986], [145.25676395013787, -38.08805279405945], [145.2566323363625, -38.08810216820866], [145.25641115898762, -38.08798111139549], [145.25106352383784, -38.08609648986376], [145.24990720965482, -38.08630456276647], [145.2495540202237, -38.08623486896656], [145.24624255174544, -38.085045741139574], [145.24576740768677, -38.085009261854765], [145.2425100708569, -38.0854400936985], [145.23882642474763, -38.08895009973245], [145.23734474205824, -38.09029219584879], [145.23699099224282, -38.090225404621165], [145.2367745705171, -38.089973945689145], [145.23682099365044, -38.08674394533211], [145.23816500428575, -38.08401000513895], [145.23819909915932, -38.083834306898005], [145.2382832609995, -38.0831921186472], [145.23843776327425, -38.08260441921161], [145.23847185814782, -38.082428720970704], [145.23847693252162, -38.08240257162745], [145.2385059530214, -38.08225302272979], [145.23854004789493, -38.08207732448891], [145.23495339170154, -38.07733435675413], [145.23475105707925, -38.07731539615639], [145.23454888630667, -38.07729643274904], [145.23433095681935, -38.07727139879767], [145.234113027332, -38.07724636484631], [145.23389509784468, -38.07722133089494], [145.2336780294042, -38.077196395853576], [145.23367716835733, -38.077196296943576], [145.23345923887, -38.07717126299221], [145.2332413093827, -38.07714622904085], [145.23302337989534, -38.07712119508948], [145.2329144151517, -38.077108678113795], [145.23280717250174, -38.077096358958116], [145.23280545040802, -38.077096161138115], [145.23258752092067, -38.07707112718675], [145.23236959143335, -38.07704609323539], [145.23215166194603, -38.07702105928402], [145.23193373245869, -38.076996025332654], [145.23171580297137, -38.07697099138129], [145.2312811277153, -38.07692105548792], [145.23127791008517, -38.07692067810448], [145.22771854609448, -38.076470706594215], [145.22415918210382, -38.07602073508396], [145.22366751095328, -38.07571992106243], [145.22371372687783, -38.07536289993095], [145.22375145319774, -38.07517117266626], [145.22768105324852, -38.072854001231505], [145.2280373006212, -38.07290584531937], [145.22944007356983, -38.073442827022085], [145.23378558085562, -38.07639098512283], [145.23400155102996, -38.07641725211141], [145.2342125188809, -38.07644297989811], [145.23442348673183, -38.07646870768481], [145.23463445458276, -38.07649443547151], [145.2348454224337, -38.07652016325821], [145.23505639028463, -38.07654589104491], [145.23992789336177, -38.07327260713116], [145.24012301562578, -38.07252134541077], [145.2401564563158, -38.07234834292542], [145.24018989700576, -38.07217534044012], [145.24022333769577, -38.07200233795477], [145.24025477166384, -38.071840036336965], [145.24028620603866, -38.07167773264892], [145.24031763394294, -38.07151546238655], [145.24034906184724, -38.07135319212415], [145.24038048975154, -38.07119092186175], [145.2403962037037, -38.071109786730545], [145.2404119176559, -38.07102865159932], [145.24044334556018, -38.07086638133695], [145.24047477346448, -38.07070411107455], [145.2405062013688, -38.07054184081215], [145.24053762927315, -38.07037957054972], [145.24056905717742, -38.07021730028734], [145.24117636989868, -38.06853667217508], [145.2412096077673, -38.06836526052675], [145.24121437232301, -38.068340689145316], [145.24124284563592, -38.06819384887838], [145.24127608350454, -38.06802243723002], [145.24129270243887, -38.06793673140583], [145.2413093213732, -38.06785102558163], [145.24134255924182, -38.0676796139333], [145.24137579711044, -38.06750820228494], [145.24140903497906, -38.06733679063658], [145.23789827025473, -38.062491727269084], [145.2376770066325, -38.06246415080704], [145.2374557430103, -38.062436574344986], [145.23723447938806, -38.06240899788293], [145.23701321576584, -38.06238142142088], [145.23679195214362, -38.06235384495883], [145.23674938344251, -38.06234853954911], [145.2365706885214, -38.06232626849678], [145.2363832216852, -38.06230489675057], [145.23612816127695, -38.06227111557268], [145.23590689765473, -38.06224353911063], [145.2356856340325, -38.06221596264858], [145.23546437041028, -38.06218838618653], [145.23537923300808, -38.0621777753671], [145.23524310678806, -38.062160809724475], [145.23502184316584, -38.06213323326242], [145.23480057954362, -38.06210565680038], [145.2345793159214, -38.062078080338324], [145.23435805229917, -38.06205050387627], [145.23413678867695, -38.062022927414226], [145.23391567128184, -38.061995369115934], [145.2297036401116, -38.06302856049751], [145.22860337559737, -38.06362442069406], [145.2278657681018, -38.06353147469904], [145.2269258773385, -38.063419157194026], [145.2252055382402, -38.06247293343707], [145.22074556950804, -38.06038875608135], [145.22052199730143, -38.06036192303387], [145.22029859755716, -38.06033511060084], [145.22007520505406, -38.060308298853805], [145.21986056623993, -38.06028296687921], [145.21975324683282, -38.060270300891915], [145.21964522435425, -38.060257550524604], [145.21942991378853, -38.06023213530606], [145.219205583575, -38.060203907764844], [145.2189812533615, -38.06017568022364], [145.21875692314794, -38.06014745268243], [145.2185325929344, -38.060119225141214], [145.2183622850827, -38.060097795250755], [145.21830826272088, -38.06009099760001], [145.2181960976141, -38.0600768838294], [145.21808393250734, -38.06006277005879], [145.21785960229383, -38.060034542517585], [145.21763527208032, -38.06000631497637], [145.21741094186675, -38.059978087435155], [145.21729465637685, -38.05996345519545], [145.2169629604279, -38.0599217164795], [145.21667729623562, -38.05988784721002], [145.21635822511442, -38.059846682751306], [145.2160399730124, -38.05980562204815], [145.21217821151708, -38.05932539912519], [145.20831645002178, -38.05884517620223]]], &quot;type&quot;: &quot;Polygon&quot;}, &quot;reachfactor&quot;: 0.0, &quot;value&quot;: 3000.0}], &quot;isochronesCount&quot;: 5, &quot;travellerId&quot;: 0}], &quot;isochronesCount&quot;: 5}, &quot;isochroneRequest&quot;: {&quot;areaUnits&quot;: null, &quot;attributes&quot;: [&quot;total_pop&quot;], &quot;calcMethod&quot;: &quot;fastisochrone&quot;, &quot;id&quot;: null, &quot;includeIntersections&quot;: false, &quot;locations&quot;: [{&quot;x&quot;: 145.249275, &quot;y&quot;: -38.057341, &quot;z&quot;: &quot;NaN&quot;}], &quot;profilesForAllTravellers&quot;: [&quot;foot-walking&quot;], &quot;travellers&quot;: [{&quot;id&quot;: &quot;0&quot;, &quot;location&quot;: {&quot;x&quot;: 145.249275, &quot;y&quot;: -38.057341, &quot;z&quot;: &quot;NaN&quot;}, &quot;locationType&quot;: &quot;start&quot;, &quot;maximumRange&quot;: 3000.0, &quot;rangeType&quot;: &quot;TIME&quot;, &quot;ranges&quot;: [600.0, 1200.0, 1800.0, 2400.0, 3000.0], &quot;routeSearchParameters&quot;: {&quot;alternativeRoutesCount&quot;: -1, &quot;alternativeRoutesShareFactor&quot;: 0.6, &quot;alternativeRoutesWeightFactor&quot;: 1.4, &quot;arrival&quot;: null, &quot;avoidAreas&quot;: null, &quot;avoidBorders&quot;: &quot;NONE&quot;, &quot;avoidCountries&quot;: null, &quot;avoidFeatureTypes&quot;: 0, &quot;bearings&quot;: null, &quot;considerTurnRestrictions&quot;: false, &quot;departure&quot;: null, &quot;extraInfo&quot;: 0, &quot;flexibleMode&quot;: false, &quot;maximumRadiuses&quot;: null, &quot;maximumSpeed&quot;: 0.0, &quot;optimized&quot;: true, &quot;options&quot;: null, &quot;profileParameters&quot;: null, &quot;profileType&quot;: 20, &quot;profileTypeDriving&quot;: false, &quot;profileTypeHeavyVehicle&quot;: false, &quot;roundTripLength&quot;: -1.0, &quot;roundTripPoints&quot;: 2, &quot;roundTripSeed&quot;: -1, &quot;suppressWarnings&quot;: false, &quot;timeDependent&quot;: false, &quot;vehicleType&quot;: 0, &quot;weightingMethod&quot;: 1}}], &quot;units&quot;: null, &quot;valid&quot;: true, &quot;weightingsForAllTravellers&quot;: [&quot;fastest&quot;]}, &quot;locations&quot;: [[145.249275, -38.057341]], &quot;profile&quot;: &quot;foot-walking&quot;, &quot;range&quot;: [600.0, 1200.0, 1800.0, 2400.0, 3000.0], &quot;range_type&quot;: &quot;time&quot;}, &quot;service&quot;: &quot;isochrones&quot;, &quot;timestamp&quot;: 1664071669592}, &quot;type&quot;: &quot;FeatureCollection&quot;});\n",
       "\n",
       "        \n",
       "    \n",
       "            var marker_c2d25ac926f66028113f2988cc2329c2 = L.marker(\n",
       "                [-38.05733612506512, 145.24929074374768],\n",
       "                {}\n",
       "            ).addTo(map_8045a151a371d0cc6bac0605f2be1698);\n",
       "        \n",
       "    \n",
       "            var circle_1ff8e098a9ef1e52f7cf5dc453a8bd2d = L.circle(\n",
       "                [-38.06199591267471, 145.25316979145094],\n",
       "                {&quot;bubblingMouseEvents&quot;: true, &quot;color&quot;: &quot;#3388ff&quot;, &quot;dashArray&quot;: null, &quot;dashOffset&quot;: null, &quot;fill&quot;: true, &quot;fillColor&quot;: &quot;#3388ff&quot;, &quot;fillOpacity&quot;: 0.2, &quot;fillRule&quot;: &quot;evenodd&quot;, &quot;lineCap&quot;: &quot;round&quot;, &quot;lineJoin&quot;: &quot;round&quot;, &quot;opacity&quot;: 1.0, &quot;radius&quot;: 250, &quot;stroke&quot;: true, &quot;weight&quot;: 3}\n",
       "            ).addTo(map_8045a151a371d0cc6bac0605f2be1698);\n",
       "        \n",
       "    \n",
       "        var popup_9feda0897ca3787ffa3f1d393660acbe = L.popup({&quot;maxWidth&quot;: &quot;100%&quot;});\n",
       "\n",
       "        \n",
       "\n",
       "        circle_1ff8e098a9ef1e52f7cf5dc453a8bd2d.bindPopup(popup_9feda0897ca3787ffa3f1d393660acbe)\n",
       "        ;\n",
       "\n",
       "        \n",
       "    \n",
       "    \n",
       "        function geo_json_8fc23f9d128eed26b29be4cb55d33909_styler(feature) {\n",
       "            switch(feature.id) {\n",
       "                case &quot;0&quot;: \n",
       "                    return {&quot;color&quot;: &quot;blue&quot;, &quot;fillColor&quot;: &quot;none&quot;, &quot;weight&quot;: 5};\n",
       "                case &quot;1&quot;: \n",
       "                    return {&quot;color&quot;: &quot;green&quot;, &quot;fillColor&quot;: &quot;none&quot;, &quot;weight&quot;: 5};\n",
       "                case &quot;3&quot;: \n",
       "                    return {&quot;color&quot;: &quot;orange&quot;, &quot;fillColor&quot;: &quot;none&quot;, &quot;weight&quot;: 5};\n",
       "                case &quot;4&quot;: \n",
       "                    return {&quot;color&quot;: &quot;red&quot;, &quot;fillColor&quot;: &quot;none&quot;, &quot;weight&quot;: 5};\n",
       "                default:\n",
       "                    return {&quot;color&quot;: &quot;yellow&quot;, &quot;fillColor&quot;: &quot;none&quot;, &quot;weight&quot;: 5};\n",
       "            }\n",
       "        }\n",
       "\n",
       "        function geo_json_8fc23f9d128eed26b29be4cb55d33909_onEachFeature(feature, layer) {\n",
       "            layer.on({\n",
       "            });\n",
       "        };\n",
       "        var geo_json_8fc23f9d128eed26b29be4cb55d33909 = L.geoJson(null, {\n",
       "                onEachFeature: geo_json_8fc23f9d128eed26b29be4cb55d33909_onEachFeature,\n",
       "            \n",
       "                style: geo_json_8fc23f9d128eed26b29be4cb55d33909_styler,\n",
       "        });\n",
       "\n",
       "        function geo_json_8fc23f9d128eed26b29be4cb55d33909_add (data) {\n",
       "            geo_json_8fc23f9d128eed26b29be4cb55d33909\n",
       "                .addData(data)\n",
       "                .addTo(map_8045a151a371d0cc6bac0605f2be1698);\n",
       "        }\n",
       "            geo_json_8fc23f9d128eed26b29be4cb55d33909_add({&quot;bbox&quot;: [144.682313, -37.611859, 144.76255, -37.543902], &quot;features&quot;: [{&quot;geometry&quot;: {&quot;coordinates&quot;: [[[144.71951, -37.579664], [144.721846, -37.585021], [144.722137, -37.585234], [144.726424, -37.584328], [144.728186, -37.584001], [144.730369, -37.58361], [144.734669, -37.582947], [144.734867, -37.582646], [144.735205, -37.580256], [144.735151, -37.579996], [144.735078, -37.579838], [144.732945, -37.575217], [144.732654, -37.575006], [144.729565, -37.572828], [144.727067, -37.573219], [144.725054, -37.573684], [144.719781, -37.575274], [144.719632, -37.575601], [144.71951, -37.579664]]], &quot;type&quot;: &quot;Polygon&quot;}, &quot;id&quot;: &quot;0&quot;, &quot;properties&quot;: {&quot;center&quot;: [144.72733155011724, -37.579073713227515], &quot;group_index&quot;: 0, &quot;name&quot;: &quot;15351&quot;, &quot;total_pop&quot;: 1448.0, &quot;value&quot;: 600.0}, &quot;type&quot;: &quot;Feature&quot;}, {&quot;geometry&quot;: {&quot;coordinates&quot;: [[[144.710279, -37.578542], [144.71113, -37.580329], [144.713549, -37.585366], [144.714665, -37.588661], [144.714974, -37.588963], [144.715265, -37.588958], [144.717549, -37.588072], [144.721845, -37.589714], [144.722739, -37.590565], [144.723698, -37.591145], [144.724405, -37.591292], [144.728194, -37.590371], [144.729893, -37.589227], [144.730581, -37.588725], [144.736384, -37.587894], [144.736529, -37.587565], [144.737601, -37.585967], [144.742237, -37.584787], [144.742249, -37.584789], [144.742421, -37.584777], [144.742724, -37.584437], [144.742863, -37.584105], [144.742308, -37.579042], [144.739167, -37.574596], [144.739416, -37.57364], [144.73872, -37.572381], [144.734887, -37.567892], [144.73273, -37.565761], [144.732375, -37.565699], [144.72744, -37.566697], [144.722588, -37.567379], [144.719611, -37.567294], [144.719338, -37.567528], [144.717904, -37.570921], [144.714221, -37.571704], [144.712449, -37.574043], [144.711361, -37.575786], [144.710319, -37.578364], [144.710279, -37.578542]]], &quot;type&quot;: &quot;Polygon&quot;}, &quot;id&quot;: &quot;1&quot;, &quot;properties&quot;: {&quot;center&quot;: [144.72733155011724, -37.579073713227515], &quot;group_index&quot;: 0, &quot;name&quot;: &quot;15351&quot;, &quot;total_pop&quot;: 8163.0, &quot;value&quot;: 1200.0}, &quot;type&quot;: &quot;Feature&quot;}, {&quot;geometry&quot;: {&quot;coordinates&quot;: [[[144.700883, -37.577894], [144.702312, -37.580528], [144.704107, -37.584504], [144.70674, -37.587105], [144.707269, -37.587612], [144.709608, -37.590206], [144.711357, -37.593958], [144.713616, -37.596647], [144.713972, -37.596703], [144.71594, -37.595294], [144.720321, -37.5969], [144.721491, -37.597369], [144.723187, -37.597938], [144.724633, -37.59854], [144.724945, -37.598638], [144.72524, -37.598431], [144.729926, -37.595929], [144.732325, -37.595442], [144.737593, -37.594387], [144.738864, -37.59144], [144.739126, -37.591058], [144.739383, -37.590683], [144.739469, -37.590423], [144.742517, -37.586418], [144.747753, -37.58725], [144.747931, -37.587352], [144.74811, -37.587454], [144.748289, -37.587555], [144.748468, -37.587657], [144.748496, -37.587673], [144.751073, -37.588283], [144.751253, -37.587972], [144.749964, -37.584046], [144.749031, -37.579663], [144.748862, -37.578554], [144.748846, -37.578464], [144.748828, -37.578372], [144.747694, -37.576444], [144.745188, -37.573604], [144.744836, -37.573531], [144.740678, -37.571511], [144.740287, -37.568657], [144.740147, -37.568325], [144.738205, -37.567766], [144.737065, -37.562121], [144.737151, -37.561994], [144.737237, -37.561867], [144.734287, -37.558846], [144.733939, -37.558753], [144.729931, -37.559861], [144.725617, -37.56037], [144.723273, -37.560925], [144.721173, -37.561752], [144.715961, -37.561512], [144.714172, -37.561514], [144.713972, -37.561814], [144.711867, -37.56534], [144.709099, -37.567211], [144.708795, -37.567405], [144.708231, -37.56791], [144.704465, -37.571135], [144.704428, -37.571493], [144.704121, -37.573938], [144.701151, -37.577238], [144.700968, -37.577386], [144.70092, -37.577536], [144.700883, -37.577894]]], &quot;type&quot;: &quot;Polygon&quot;}, &quot;id&quot;: &quot;2&quot;, &quot;properties&quot;: {&quot;center&quot;: [144.72733155011724, -37.579073713227515], &quot;group_index&quot;: 0, &quot;name&quot;: &quot;15351&quot;, &quot;total_pop&quot;: 18901.0, &quot;value&quot;: 1800.0}, &quot;type&quot;: &quot;Feature&quot;}, {&quot;geometry&quot;: {&quot;coordinates&quot;: [[[144.691615, -37.576677], [144.693345, -37.580031], [144.695159, -37.583479], [144.698405, -37.587348], [144.70032, -37.589867], [144.703306, -37.593123], [144.70466, -37.597301], [144.704743, -37.598089], [144.705162, -37.598556], [144.708488, -37.599831], [144.710575, -37.602334], [144.711682, -37.603544], [144.712267, -37.603911], [144.712622, -37.603967], [144.712807, -37.603873], [144.712909, -37.603222], [144.71724, -37.599482], [144.721945, -37.601431], [144.722116, -37.601534], [144.722423, -37.601595], [144.72548, -37.601887], [144.725695, -37.601923], [144.725911, -37.60196], [144.726126, -37.601996], [144.726341, -37.602032], [144.726556, -37.602069], [144.726772, -37.602105], [144.726987, -37.602141], [144.727202, -37.602178], [144.727417, -37.602214], [144.727907, -37.602304], [144.730662, -37.602684], [144.732631, -37.601486], [144.732858, -37.601206], [144.733018, -37.599753], [144.737982, -37.596453], [144.738029, -37.596444], [144.738428, -37.596345], [144.738909, -37.593123], [144.739383, -37.590683], [144.739425, -37.59056], [144.739469, -37.590423], [144.742517, -37.586418], [144.747753, -37.58725], [144.747931, -37.587352], [144.74811, -37.587454], [144.748289, -37.587555], [144.748468, -37.587657], [144.748496, -37.587673], [144.752502, -37.5892], [144.754175, -37.590803], [144.75488, -37.591732], [144.754944, -37.591824], [144.755037, -37.591957], [144.755129, -37.592089], [144.755176, -37.592155], [144.755222, -37.592221], [144.755315, -37.592353], [144.755408, -37.592486], [144.755517, -37.592641], [144.755626, -37.592795], [144.755735, -37.59295], [144.755844, -37.593105], [144.756059, -37.59341], [144.756214, -37.593644], [144.756369, -37.593879], [144.75667, -37.59368], [144.756774, -37.593228], [144.756612, -37.590707], [144.75385, -37.589739], [144.754052, -37.584168], [144.755401, -37.583174], [144.755935, -37.582395], [144.757459, -37.579798], [144.757518, -37.579674], [144.757472, -37.579317], [144.755588, -37.576236], [144.755269, -37.576069], [144.753768, -37.575191], [144.75118, -37.571215], [144.749167, -37.569387], [144.747151, -37.565112], [144.74514, -37.563581], [144.739403, -37.561976], [144.739067, -37.561848], [144.73441, -37.558453], [144.73449, -37.556784], [144.734478, -37.556635], [144.734464, -37.556489], [144.734426, -37.556355], [144.734464, -37.551278], [144.734118, -37.551178], [144.731672, -37.55203], [144.730412, -37.552888], [144.724752, -37.554554], [144.723101, -37.554957], [144.723021, -37.554994], [144.722284, -37.555365], [144.720543, -37.55599], [144.715938, -37.555608], [144.711518, -37.555952], [144.705816, -37.557581], [144.705711, -37.557925], [144.702706, -37.562977], [144.70266, -37.563042], [144.702022, -37.564026], [144.700071, -37.566913], [144.695558, -37.570353], [144.695521, -37.570711], [144.694818, -37.573818], [144.69166, -37.57632], [144.691615, -37.576677]]], &quot;type&quot;: &quot;Polygon&quot;}, &quot;id&quot;: &quot;3&quot;, &quot;properties&quot;: {&quot;center&quot;: [144.72733155011724, -37.579073713227515], &quot;group_index&quot;: 0, &quot;name&quot;: &quot;15351&quot;, &quot;total_pop&quot;: 30479.0, &quot;value&quot;: 2400.0}, &quot;type&quot;: &quot;Feature&quot;}, {&quot;geometry&quot;: {&quot;coordinates&quot;: [[[144.682313, -37.575889], [144.683292, -37.578636], [144.683468, -37.57895], [144.685801, -37.582581], [144.689859, -37.584047], [144.693047, -37.58767], [144.694115, -37.589028], [144.696074, -37.592422], [144.69641, -37.593156], [144.699459, -37.597253], [144.700212, -37.598288], [144.700434, -37.598431], [144.700635, -37.59845], [144.702225, -37.598856], [144.705571, -37.603481], [144.705497, -37.603889], [144.705423, -37.604297], [144.705419, -37.6044], [144.705473, -37.604571], [144.705558, -37.604682], [144.708916, -37.608943], [144.710165, -37.610783], [144.710391, -37.611028], [144.711125, -37.6118], [144.71148, -37.611859], [144.713461, -37.610065], [144.715279, -37.60728], [144.714822, -37.606823], [144.712961, -37.602889], [144.716433, -37.599501], [144.716873, -37.599474], [144.717228, -37.599482], [144.71724, -37.599482], [144.721087, -37.600476], [144.721945, -37.601431], [144.722116, -37.601534], [144.722423, -37.601595], [144.722552, -37.601593], [144.72461, -37.601746], [144.724771, -37.60177], [144.725265, -37.60185], [144.72548, -37.601887], [144.725695, -37.601923], [144.725911, -37.60196], [144.726126, -37.601996], [144.726341, -37.602032], [144.726556, -37.602069], [144.726772, -37.602105], [144.726987, -37.602141], [144.727202, -37.602178], [144.727417, -37.602214], [144.727907, -37.602304], [144.730574, -37.602727], [144.732013, -37.603021], [144.732196, -37.603052], [144.732379, -37.603084], [144.732562, -37.603115], [144.732746, -37.603146], [144.732891, -37.603171], [144.734138, -37.603415], [144.735586, -37.60355], [144.735797, -37.603499], [144.740328, -37.601824], [144.740309, -37.601581], [144.740291, -37.601339], [144.740212, -37.601186], [144.739684, -37.600438], [144.738428, -37.596345], [144.738909, -37.593123], [144.739383, -37.590683], [144.739425, -37.59056], [144.739469, -37.590423], [144.742517, -37.586418], [144.747753, -37.58725], [144.747931, -37.587352], [144.74811, -37.587454], [144.748289, -37.587555], [144.748468, -37.587657], [144.748496, -37.587673], [144.751787, -37.588707], [144.752502, -37.5892], [144.754175, -37.590803], [144.754693, -37.591458], [144.75488, -37.591732], [144.754944, -37.591824], [144.755037, -37.591957], [144.755129, -37.592089], [144.755176, -37.592155], [144.755222, -37.592221], [144.755315, -37.592353], [144.755408, -37.592486], [144.755517, -37.592641], [144.754547, -37.598543], [144.753786, -37.599245], [144.753296, -37.599705], [144.752807, -37.600165], [144.753053, -37.600428], [144.756333, -37.598661], [144.760967, -37.599674], [144.761533, -37.600094], [144.761747, -37.599805], [144.761828, -37.595027], [144.76182, -37.594668], [144.760246, -37.5933], [144.756612, -37.590707], [144.758021, -37.586662], [144.760322, -37.58464], [144.76124, -37.583937], [144.762535, -37.58313], [144.76255, -37.582771], [144.760342, -37.57726], [144.760343, -37.57709], [144.760344, -37.576919], [144.760345, -37.576749], [144.760346, -37.576578], [144.760347, -37.576408], [144.760348, -37.576238], [144.760349, -37.576067], [144.760408, -37.574842], [144.760426, -37.574602], [144.760479, -37.574033], [144.760514, -37.5737], [144.76012, -37.571229], [144.759476, -37.570439], [144.758778, -37.569912], [144.75578, -37.565475], [144.755572, -37.565081], [144.755381, -37.565059], [144.75519, -37.565036], [144.751885, -37.560173], [144.751999, -37.559853], [144.752077, -37.559594], [144.752158, -37.559322], [144.752221, -37.55903], [144.752284, -37.558738], [144.751932, -37.558663], [144.751869, -37.558954], [144.751732, -37.559491], [144.751654, -37.559749], [144.751546, -37.560052], [144.751277, -37.560683], [144.751113, -37.561021], [144.745255, -37.56111], [144.745114, -37.561045], [144.744928, -37.561017], [144.739971, -37.559714], [144.739651, -37.55955], [144.734478, -37.556635], [144.734464, -37.556489], [144.734426, -37.556355], [144.734387, -37.556222], [144.73435, -37.556092], [144.734268, -37.555786], [144.734157, -37.555209], [144.734309, -37.551897], [144.734461, -37.551289], [144.734464, -37.551278], [144.73451, -37.551121], [144.734559, -37.550952], [144.734608, -37.550783], [144.734657, -37.550615], [144.734708, -37.550437], [144.73476, -37.550253], [144.734785, -37.550065], [144.734844, -37.549114], [144.735074, -37.54777], [144.735111, -37.547586], [144.735152, -37.547379], [144.735172, -37.547102], [144.735193, -37.546816], [144.735197, -37.546576], [144.7352, -37.546308], [144.735172, -37.546102], [144.735138, -37.545867], [144.735058, -37.54561], [144.734964, -37.54532], [144.734852, -37.545114], [144.734727, -37.544887], [144.734539, -37.544632], [144.734325, -37.544348], [144.734071, -37.544125], [144.733818, -37.543902], [144.73358, -37.544173], [144.731135, -37.54645], [144.727394, -37.549257], [144.724498, -37.551656], [144.72134, -37.549526], [144.721059, -37.5493], [144.72025, -37.550307], [144.719441, -37.551314], [144.713543, -37.55187], [144.713322, -37.551853], [144.708136, -37.552001], [144.708001, -37.552063], [144.705599, -37.553768], [144.699729, -37.554194], [144.699526, -37.554125], [144.699238, -37.55402], [144.698696, -37.553803], [144.698431, -37.553688], [144.698287, -37.554018], [144.69549, -37.559102], [144.695264, -37.56043], [144.69468, -37.563041], [144.69465, -37.563162], [144.694761, -37.563385], [144.69369, -37.568258], [144.689193, -37.56811], [144.688984, -37.56805], [144.68615, -37.569202], [144.686116, -37.569413], [144.686222, -37.56963], [144.686349, -37.569649], [144.686614, -37.569674], [144.687009, -37.569722], [144.687213, -37.569747], [144.687416, -37.569771], [144.687518, -37.569784], [144.68762, -37.569796], [144.687823, -37.56982], [144.688026, -37.569845], [144.68823, -37.569869], [144.688433, -37.569894], [144.688707, -37.569927], [144.689125, -37.569973], [144.689331, -37.569995], [144.689536, -37.570017], [144.691389, -37.575096], [144.688334, -37.575974], [144.688118, -37.575957], [144.687902, -37.575939], [144.687686, -37.575922], [144.68747, -37.575905], [144.687253, -37.575887], [144.687037, -37.57587], [144.686821, -37.575853], [144.686605, -37.575835], [144.686389, -37.575818], [144.686173, -37.575801], [144.686065, -37.575792], [144.685957, -37.575783], [144.68574, -37.575766], [144.685524, -37.575749], [144.685308, -37.575731], [144.685092, -37.575714], [144.683741, -37.575295], [144.683523, -37.575173], [144.682939, -37.574863], [144.682614, -37.575018], [144.682324, -37.57553], [144.682313, -37.575889]]], &quot;type&quot;: &quot;Polygon&quot;}, &quot;id&quot;: &quot;4&quot;, &quot;properties&quot;: {&quot;center&quot;: [144.72733155011724, -37.579073713227515], &quot;group_index&quot;: 0, &quot;name&quot;: &quot;15351&quot;, &quot;total_pop&quot;: 36351.0, &quot;value&quot;: 3000.0}, &quot;type&quot;: &quot;Feature&quot;}], &quot;metadata&quot;: {&quot;attribution&quot;: &quot;openrouteservice.org | OpenStreetMap contributors&quot;, &quot;engine&quot;: {&quot;build_date&quot;: &quot;2022-02-18T19:37:41Z&quot;, &quot;graph_date&quot;: &quot;2022-09-06T07:58:44Z&quot;, &quot;version&quot;: &quot;6.7.0&quot;}, &quot;query&quot;: {&quot;attributes&quot;: [&quot;total_pop&quot;], &quot;interval&quot;: 600.0, &quot;isoMaps&quot;: {&quot;isochroneMaps&quot;: [{&quot;center&quot;: {&quot;x&quot;: 144.72733155011724, &quot;y&quot;: -37.579073713227515, &quot;z&quot;: &quot;NaN&quot;}, &quot;empty&quot;: false, &quot;envelope&quot;: {&quot;area&quot;: 0.005452685497244642, &quot;height&quot;: 0.06795734331576142, &quot;maxX&quot;: 144.76255038030803, &quot;maxY&quot;: -37.543902149214105, &quot;minX&quot;: 144.682313495945, &quot;minY&quot;: -37.61185949252987, &quot;null&quot;: false, &quot;width&quot;: 0.08023688436301768}, &quot;graphDate&quot;: &quot;2022-09-06T07:58:44Z&quot;, &quot;isochrones&quot;: [{&quot;area&quot;: 0.0, &quot;attributes&quot;: [{&quot;name&quot;: &quot;total_pop&quot;, &quot;source&quot;: &quot;European Commission, Joint Research Centre (JRC); Columbia University, Center for International Earth Science Information Network - CIESIN (2015):  GHS population grid, derived from GPW4, multitemporal (1975, 1990, 2000, 2015). European Commission, Joint Research Centre (JRC) [Dataset] PID: http://data.europa.eu/89h/jrc-ghsl-ghs_pop_gpw4_globe_r2015a&quot;, &quot;value&quot;: 1448.0}], &quot;envelope&quot;: {&quot;area&quot;: 0.0001947184644176024, &quot;height&quot;: 0.01240583666336903, &quot;maxX&quot;: 144.73520526460584, &quot;maxY&quot;: -37.57282783784518, &quot;minX&quot;: 144.7195095505882, &quot;minY&quot;: -37.58523367450855, &quot;null&quot;: false, &quot;width&quot;: 0.015695714017624596}, &quot;geometry&quot;: {&quot;coordinates&quot;: [[[144.7195095505882, -37.57966408338804], [144.71963179473042, -37.57560132019325], [144.71978079557877, -37.57527360271249], [144.7250540919498, -37.57368443451822], [144.72706692208683, -37.57321885260622], [144.72956495189632, -37.57282783784518], [144.73265389859836, -37.57500555591846], [144.7329449722306, -37.57521739581227], [144.73507794294116, -37.57983833272055], [144.73515087975352, -37.57999554744999], [144.73520526460584, -37.58025629748453], [144.7348670548237, -37.582646210588344], [144.734669281796, -37.58294701921441], [144.73036944993552, -37.583609654889734], [144.72818586679077, -37.584001150298526], [144.7264235847602, -37.584327692989106], [144.7221366504144, -37.58523367450855], [144.72184649041654, -37.5850205849132], [144.7195095505882, -37.57966408338804]]], &quot;type&quot;: &quot;Polygon&quot;}, &quot;reachfactor&quot;: 0.0, &quot;value&quot;: 600.0}, {&quot;area&quot;: 0.0, &quot;attributes&quot;: [{&quot;name&quot;: &quot;total_pop&quot;, &quot;source&quot;: &quot;European Commission, Joint Research Centre (JRC); Columbia University, Center for International Earth Science Information Network - CIESIN (2015):  GHS population grid, derived from GPW4, multitemporal (1975, 1990, 2000, 2015). European Commission, Joint Research Centre (JRC) [Dataset] PID: http://data.europa.eu/89h/jrc-ghsl-ghs_pop_gpw4_globe_r2015a&quot;, &quot;value&quot;: 8163.0}], &quot;envelope&quot;: {&quot;area&quot;: 0.0008339066537374286, &quot;height&quot;: 0.02559290614269827, &quot;maxX&quot;: 144.74286262320132, &quot;maxY&quot;: -37.56569863387664, &quot;minX&quot;: 144.71027911552588, &quot;minY&quot;: -37.59129154001934, &quot;null&quot;: false, &quot;width&quot;: 0.03258350767544016}, &quot;geometry&quot;: {&quot;coordinates&quot;: [[[144.71027911552588, -37.578542362843805], [144.7111298321024, -37.58032901693273], [144.7135487786688, -37.58536553312975], [144.71466516507613, -37.588661471215225], [144.7149741775615, -37.58896315820003], [144.71526475894507, -37.5889582701478], [144.71754850290841, -37.58807247398902], [144.721844632412, -37.58971388718688], [144.72273894302006, -37.59056466723768], [144.72369844154522, -37.59114542801192], [144.7244052409736, -37.59129154001934], [144.72819393107457, -37.59037091611975], [144.72989258391547, -37.58922658281846], [144.73058141555282, -37.58872481906903], [144.73638394497263, -37.587894435602855], [144.7365292103648, -37.587565045308786], [144.73760060379507, -37.58596675662622], [144.74223697463563, -37.58478694020316], [144.74224898858608, -37.584788888237576], [144.74242055702894, -37.584777215021454], [144.74272353394613, -37.584436903724466], [144.74286262320132, -37.58410485827713], [144.7423082710345, -37.57904185175451], [144.7391670602794, -37.574596403459644], [144.73941588735573, -37.573639567376574], [144.73872005355477, -37.572380995133095], [144.73488739381324, -37.56789208898435], [144.7327295803615, -37.56576111329017], [144.73237504358926, -37.56569863387664], [144.7274397385331, -37.566696699965824], [144.72258836279212, -37.56737881888454], [144.7196108314068, -37.56729353413288], [144.7193375809501, -37.56752791456706], [144.71790360289248, -37.570921435070254], [144.71422149463973, -37.57170394048319], [144.7124489332538, -37.574042660907864], [144.7113612923016, -37.575785985110755], [144.71031895293726, -37.57836429182389], [144.71027911552588, -37.578542362843805]]], &quot;type&quot;: &quot;Polygon&quot;}, &quot;reachfactor&quot;: 0.0, &quot;value&quot;: 1200.0}, {&quot;area&quot;: 0.0, &quot;attributes&quot;: [{&quot;name&quot;: &quot;total_pop&quot;, &quot;source&quot;: &quot;European Commission, Joint Research Centre (JRC); Columbia University, Center for International Earth Science Information Network - CIESIN (2015):  GHS population grid, derived from GPW4, multitemporal (1975, 1990, 2000, 2015). European Commission, Joint Research Centre (JRC) [Dataset] PID: http://data.europa.eu/89h/jrc-ghsl-ghs_pop_gpw4_globe_r2015a&quot;, &quot;value&quot;: 18901.0}], &quot;envelope&quot;: {&quot;area&quot;: 0.002008995202218156, &quot;height&quot;: 0.03988450775575103, &quot;maxX&quot;: 144.75125323367297, &quot;maxY&quot;: -37.55875321416623, &quot;minX&quot;: 144.70088291910068, &quot;minY&quot;: -37.59863772192198, &quot;null&quot;: false, &quot;width&quot;: 0.05037031457229091}, &quot;geometry&quot;: {&quot;coordinates&quot;: [[[144.70088291910068, -37.577894372770224], [144.7009203635212, -37.57753632540551], [144.7009678677666, -37.57738584047758], [144.70115120617254, -37.577237542168454], [144.7041214382692, -37.5739376754985], [144.7044280893778, -37.57149267913276], [144.70446536511548, -37.57113461416745], [144.70823128882998, -37.567909621062164], [144.7087952316249, -37.567405163919545], [144.70909869633277, -37.56721149107412], [144.71186748636046, -37.56533998161984], [144.71397230559518, -37.561813608076925], [144.71417193099313, -37.561514025533235], [144.71596140776768, -37.5615116391194], [144.72117299637276, -37.56175241197151], [144.7232729925344, -37.56092481932449], [144.72561736700513, -37.5603697293648], [144.72993105457593, -37.55986148708614], [144.73393945101634, -37.55875321416623], [144.73428741955234, -37.55884550662513], [144.7372368291893, -37.56186729435326], [144.73715096124602, -37.56199423362302], [144.7370650933027, -37.56212117289277], [144.7382052680541, -37.567765627761375], [144.74014721451604, -37.568325179912804], [144.74028701074772, -37.56865692833195], [144.7406779016066, -37.57151089109301], [144.7448357238018, -37.57353067362698], [144.74518824888438, -37.57360365352937], [144.74769446434888, -37.57644398308793], [144.7488284718894, -37.57837167789869], [144.74884572487647, -37.578463599551185], [144.74886222909953, -37.57855381504456], [144.74903128085657, -37.57966285158962], [144.74996420482407, -37.584046150631984], [144.75125323367297, -37.58797179131565], [144.75107278993477, -37.58828330384726], [144.74849577431, -37.587672753356536], [144.74846802089664, -37.58765692087241], [144.74828916039218, -37.58755522044499], [144.74811029988774, -37.58745352001757], [144.7479314393833, -37.58735181959015], [144.74775257887885, -37.587250119162725], [144.74251724204086, -37.586418448085006], [144.73946896590445, -37.5904227734014], [144.73938284353397, -37.59068316405967], [144.73912626415893, -37.591057835139814], [144.73886405551883, -37.59144027395473], [144.7375930936712, -37.59438665048995], [144.73232462661235, -37.59544228142385], [144.72992577782168, -37.595928627146584], [144.72524013788538, -37.59843104815048], [144.72494537365387, -37.59863772192198], [144.7246334683702, -37.59854026154424], [144.7231865108887, -37.59793807890362], [144.72149124835119, -37.597369245447055], [144.72032134517804, -37.596900235068965], [144.7159400986059, -37.59529422530726], [144.71397192812464, -37.5967034187196], [144.7136164561917, -37.59664650031412], [144.7113567703008, -37.59395781154242], [144.70960775477232, -37.59020646599804], [144.70726871829567, -37.58761164967765], [144.7067399136098, -37.5871054375853], [144.70410658007853, -37.58450361643902], [144.70231236486228, -37.5805282239356], [144.70088291910068, -37.577894372770224]]], &quot;type&quot;: &quot;Polygon&quot;}, &quot;reachfactor&quot;: 0.0, &quot;value&quot;: 1800.0}, {&quot;area&quot;: 0.0, &quot;attributes&quot;: [{&quot;name&quot;: &quot;total_pop&quot;, &quot;source&quot;: &quot;European Commission, Joint Research Centre (JRC); Columbia University, Center for International Earth Science Information Network - CIESIN (2015):  GHS population grid, derived from GPW4, multitemporal (1975, 1990, 2000, 2015). European Commission, Joint Research Centre (JRC) [Dataset] PID: http://data.europa.eu/89h/jrc-ghsl-ghs_pop_gpw4_globe_r2015a&quot;, &quot;value&quot;: 30479.0}], &quot;envelope&quot;: {&quot;area&quot;: 0.003478989506363191, &quot;height&quot;: 0.05278993443941715, &quot;maxX&quot;: 144.7575177091454, &quot;maxY&quot;: -37.5511775592925, &quot;minX&quot;: 144.69161519300653, &quot;minY&quot;: -37.603967493731915, &quot;null&quot;: false, &quot;width&quot;: 0.06590251613886267}, &quot;geometry&quot;: {&quot;coordinates&quot;: [[[144.69161519300653, -37.576676889944], [144.6933451562095, -37.58003058108733], [144.6951591408854, -37.58347911977765], [144.69840544677666, -37.58734757628141], [144.70032037346311, -37.58986656631519], [144.7033064398535, -37.59312298722942], [144.70465994208118, -37.59730132294729], [144.70474305057894, -37.59808919257275], [144.70516182340845, -37.59855612434456], [144.70848781525908, -37.59983142689115], [144.71057495862584, -37.60233438086892], [144.7116819635078, -37.60354437635256], [144.71226676228503, -37.60391147158239], [144.71262237656873, -37.603967493731915], [144.7128068439669, -37.603873176365056], [144.7129087512992, -37.603222191307964], [144.71723951927422, -37.599481618786484], [144.72194527472627, -37.60143095606097], [144.72211634341156, -37.60153389109764], [144.72242329511616, -37.60159455558547], [144.7254802597794, -37.60188684095189], [144.72569546980475, -37.60192321841247], [144.72591067983012, -37.60195959587305], [144.72612588985547, -37.60199597333363], [144.7263410998808, -37.602032350794204], [144.72655630990616, -37.60206872825478], [144.7267715199315, -37.60210510571536], [144.72698672995688, -37.602141483175934], [144.72720193998222, -37.602177860636516], [144.72741715000757, -37.60221423809709], [144.72790739822182, -37.60230364506625], [144.73066161464698, -37.60268391023233], [144.73263136738086, -37.60148556124321], [144.73285831633433, -37.601206107897326], [144.73301790429508, -37.599753311848616], [144.73798241787833, -37.59645309342491], [144.73802855418825, -37.596444270585415], [144.73842832409977, -37.59634496738374], [144.7389090262574, -37.593122870600325], [144.73938284353397, -37.59068316405967], [144.73942473805496, -37.590560218490666], [144.73946896590445, -37.5904227734014], [144.74251724204086, -37.586418448085006], [144.74775257887885, -37.587250119162725], [144.7479314393833, -37.58735181959015], [144.74811029988774, -37.58745352001757], [144.74828916039218, -37.58755522044499], [144.74846802089664, -37.58765692087241], [144.74849577431, -37.587672753356536], [144.75250248106346, -37.58920028930217], [144.75417549119007, -37.590802820469584], [144.75488023129503, -37.59173181498074], [144.75494370326163, -37.59182425824823], [144.75503653749794, -37.59195650605678], [144.75512937173426, -37.59208875386533], [144.7551757888524, -37.59215487776961], [144.75522220597057, -37.592221001673884], [144.75531513737937, -37.59235338777222], [144.7554080546402, -37.59248575351777], [144.75551711251612, -37.59264053933312], [144.75562617039205, -37.5927953251485], [144.75573522826798, -37.592950110963855], [144.75584428614388, -37.593104896779195], [144.75605938990438, -37.593410055834745], [144.7562143063582, -37.59364440370608], [144.75636922281203, -37.593878751577414], [144.75666953668107, -37.59368022807744], [144.75677374206722, -37.59322827890281], [144.7566124369937, -37.59070737490149], [144.75385010506906, -37.589739035046975], [144.75405192297526, -37.584167890476785], [144.75540065776522, -37.583173534136115], [144.75593482591137, -37.58239483507918], [144.7574589301079, -37.57979847315903], [144.7575177091454, -37.579673706387595], [144.7574717690375, -37.57931664966033], [144.75558806276527, -37.576235977521115], [144.75526923496508, -37.57606879847395], [144.75376836405178, -37.575190795403515], [144.75117950304244, -37.571214528325996], [144.74916715185577, -37.569387309073605], [144.74715134451753, -37.56511180540498], [144.74514035862933, -37.5635808227686], [144.73940288301276, -37.56197631840648], [144.73906656082517, -37.561847915189475], [144.73441028890113, -37.55845311691029], [144.73448976571996, -37.55678372880278], [144.73447791619816, -37.55663534489144], [144.73446438370428, -37.55648858846023], [144.7344259200811, -37.55635517649844], [144.73446395373824, -37.55127802187356], [144.73411825550303, -37.5511775592925], [144.7316717328231, -37.55203043865563], [144.73041193633367, -37.55288787668571], [144.7247523020995, -37.55455366098362], [144.7231007761658, -37.554957052035085], [144.7230205415565, -37.55499362284719], [144.72228373094623, -37.55536497340311], [144.72054284551632, -37.555990118338315], [144.71593755719343, -37.55560803973339], [144.71151766655893, -37.55595248674805], [144.70581562906926, -37.55758070929412], [144.7057106068408, -37.55792504972383], [144.70270574651767, -37.562977420767496], [144.70265975257965, -37.56304215208738], [144.7020215628972, -37.56402582285829], [144.70007125540266, -37.566912728140174], [144.695557562873, -37.57035305718474], [144.6955212412279, -37.57071122018966], [144.69481814897048, -37.57381832960699], [144.69165985650503, -37.5763196712828], [144.69161519300653, -37.576676889944]]], &quot;type&quot;: &quot;Polygon&quot;}, &quot;reachfactor&quot;: 0.0, &quot;value&quot;: 2400.0}, {&quot;area&quot;: 0.0, &quot;attributes&quot;: [{&quot;name&quot;: &quot;total_pop&quot;, &quot;source&quot;: &quot;European Commission, Joint Research Centre (JRC); Columbia University, Center for International Earth Science Information Network - CIESIN (2015):  GHS population grid, derived from GPW4, multitemporal (1975, 1990, 2000, 2015). European Commission, Joint Research Centre (JRC) [Dataset] PID: http://data.europa.eu/89h/jrc-ghsl-ghs_pop_gpw4_globe_r2015a&quot;, &quot;value&quot;: 36351.0}], &quot;envelope&quot;: {&quot;area&quot;: 0.005452685497244642, &quot;height&quot;: 0.06795734331576142, &quot;maxX&quot;: 144.76255038030803, &quot;maxY&quot;: -37.543902149214105, &quot;minX&quot;: 144.682313495945, &quot;minY&quot;: -37.61185949252987, &quot;null&quot;: false, &quot;width&quot;: 0.08023688436301768}, &quot;geometry&quot;: {&quot;coordinates&quot;: [[[144.682313495945, -37.575889441481266], [144.68329202591343, -37.57863557537865], [144.6834677371428, -37.57894978162283], [144.68580149469858, -37.58258062729831], [144.689859144908, -37.58404748702156], [144.69304706215217, -37.58766958685971], [144.69411475582774, -37.58902798160182], [144.69607423311638, -37.59242175353516], [144.6964100680443, -37.59315563574036], [144.69945903195722, -37.59725326889574], [144.70021154061433, -37.59828815456379], [144.70043356792107, -37.59843064692089], [144.70063532964815, -37.59844953414312], [144.7022246875366, -37.598856261347], [144.70557119076983, -37.60348149815578], [144.70549730954588, -37.60388934248002], [144.7054234283219, -37.604297186804246], [144.70541926980303, -37.60440004541512], [144.70547331708988, -37.60457129325682], [144.7055582614151, -37.604682137676804], [144.70891562511287, -37.60894346798232], [144.71016505044943, -37.610783361513036], [144.7103911780539, -37.61102757228234], [144.71112474871, -37.6117999362455], [144.7114797882134, -37.61185949252987], [144.71346097490533, -37.610065441190706], [144.71527940888583, -37.60728044675172], [144.71482157069792, -37.60682316735737], [144.712960946701, -37.60288876655987], [144.71643348510338, -37.5995006638297], [144.7168729502134, -37.59947422287786], [144.71722792202, -37.59948161981214], [144.71723951927422, -37.599481618786484], [144.72108709199867, -37.600475605342574], [144.72194527472627, -37.60143095606097], [144.72211634341156, -37.60153389109764], [144.72242329511616, -37.60159455558547], [144.72255221669207, -37.601592541463724], [144.7246097711759, -37.60174578283159], [144.72477126251394, -37.60176999721907], [144.72526504975406, -37.60185046349132], [144.7254802597794, -37.60188684095189], [144.72569546980475, -37.60192321841247], [144.72591067983012, -37.60195959587305], [144.72612588985547, -37.60199597333363], [144.7263410998808, -37.602032350794204], [144.72655630990616, -37.60206872825478], [144.7267715199315, -37.60210510571536], [144.72698672995688, -37.602141483175934], [144.72720193998222, -37.602177860636516], [144.72741715000757, -37.60221423809709], [144.72790739822182, -37.60230364506625], [144.730573588548, -37.60272721058266], [144.73201285448698, -37.60302057720022], [144.7321960456415, -37.603052055903945], [144.73237923679602, -37.60308353460767], [144.73256242795057, -37.603115013311395], [144.7327456191051, -37.60314649201512], [144.7328914642235, -37.603171451460675], [144.7341377387524, -37.60341544402899], [144.73558633928567, -37.603549568434424], [144.73579719072126, -37.60349890448523], [144.74032756975498, -37.60182360387742], [144.7403092535805, -37.60158130705496], [144.740290937406, -37.60133901023249], [144.7402117925189, -37.60118581339095], [144.739683599912, -37.600437833378564], [144.73842832409977, -37.59634496738374], [144.7389090262574, -37.593122870600325], [144.73938284353397, -37.59068316405967], [144.73942473805496, -37.590560218490666], [144.73946896590445, -37.5904227734014], [144.74251724204086, -37.586418448085006], [144.74775257887885, -37.587250119162725], [144.7479314393833, -37.58735181959015], [144.74811029988774, -37.58745352001757], [144.74828916039218, -37.58755522044499], [144.74846802089664, -37.58765692087241], [144.74849577431, -37.587672753356536], [144.75178746144735, -37.58870723234692], [144.75250248106346, -37.58920028930217], [144.75417549119007, -37.590802820469584], [144.7546927991854, -37.59145849205205], [144.75488023129503, -37.59173181498074], [144.75494370326163, -37.59182425824823], [144.75503653749794, -37.59195650605678], [144.75512937173426, -37.59208875386533], [144.7551757888524, -37.59215487776961], [144.75522220597057, -37.592221001673884], [144.75531513737937, -37.59235338777222], [144.7554080546402, -37.59248575351777], [144.75551711251612, -37.59264053933312], [144.75454653184224, -37.598543281581954], [144.7537859000867, -37.59924496901099], [144.75329624309012, -37.59970521944326], [144.75280658609356, -37.60016546987552], [144.7530531459765, -37.60042778309308], [144.75633304021508, -37.59866086986648], [144.76096705153253, -37.59967362186565], [144.76153257264997, -37.600093940355244], [144.76174732075668, -37.5998050056729], [144.761827752661, -37.59502741485951], [144.76181965713798, -37.59466750589531], [144.76024550023183, -37.593300448136866], [144.7566124369937, -37.59070737490149], [144.75802078302252, -37.58666208207597], [144.7603215971886, -37.58464005839601], [144.76124029279694, -37.58393652893971], [144.76253489563067, -37.583130388820194], [144.76255038030803, -37.58277072199553], [144.76034243125497, -37.577260059275865], [144.76034334395112, -37.577089645867325], [144.76034425664724, -37.57691923245884], [144.7603451693434, -37.57674881905033], [144.76034608203955, -37.57657840564182], [144.7603469947357, -37.5764079922333], [144.76034790743185, -37.57623757882476], [144.76034882012797, -37.576067165416276], [144.76040787252492, -37.57484233756413], [144.76042612644778, -37.57460214946677], [144.76047891152876, -37.57403340515327], [144.76051390688417, -37.573699715000764], [144.76011971678932, -37.5712288320233], [144.75947556698446, -37.570439203152354], [144.75877836511063, -37.56991216253193], [144.7557796714255, -37.565474995538096], [144.7555720883834, -37.5650811831342], [144.75538079838495, -37.5650587190874], [144.7551895083865, -37.56503625504062], [144.75188495746553, -37.560173146053295], [144.75199910863842, -37.559852927107734], [144.75207687407513, -37.5595944850875], [144.75215825075773, -37.559322020205244], [144.752221012649, -37.55903015927154], [144.75228377454027, -37.55873829833785], [144.7519318201813, -37.558662613932505], [144.75186905829003, -37.5589544748662], [144.75173214220794, -37.559490754958105], [144.75165437677123, -37.55974919697834], [144.75154594184383, -37.56005203284912], [144.75127744576434, -37.56068326104949], [144.75111250853269, -37.56102133115163], [144.7452554804721, -37.561110017034984], [144.74511399131194, -37.561045406396765], [144.7449281636118, -37.56101684917921], [144.73997100062488, -37.55971404178886], [144.73965063653222, -37.55954982593055], [144.73447791619816, -37.55663534489144], [144.73446438370428, -37.55648858846023], [144.7344259200811, -37.55635517649844], [144.7343874564579, -37.556221764536645], [144.734349941462, -37.55609176896911], [144.73426820279434, -37.55578581382975], [144.73415714313262, -37.55520855816104], [144.7343093164477, -37.55189676293608], [144.73446073844073, -37.55128908592018], [144.73446395373824, -37.55127802187356], [144.7345097260092, -37.55112051653043], [144.73455871357777, -37.55095194714064], [144.73460770114625, -37.55078337775089], [144.7346566887148, -37.55061480836109], [144.73470809867297, -37.550436994248656], [144.73476003430017, -37.55025269272279], [144.73478545512464, -37.550065037655386], [144.73484425442774, -37.549114161222334], [144.73507368116873, -37.54777005657451], [144.73511139973382, -37.54758602722965], [144.73515231416985, -37.54737885277898], [144.73517233760566, -37.547102249968134], [144.73519279968752, -37.546815999120405], [144.735197270036, -37.54657571789078], [144.73520014929795, -37.546307976760914], [144.73517230275235, -37.546101968202805], [144.73513796991503, -37.545866654811945], [144.73505806243634, -37.545609516643346], [144.73496433108562, -37.545319686692686], [144.73485210671288, -37.54511367813458], [144.7347268363708, -37.54488715361077], [144.73453908173556, -37.54463178495511], [144.7343250916238, -37.54434780055723], [144.7340714009914, -37.54412497488567], [144.73381771035903, -37.543902149214105], [144.73358013803895, -37.544172629144455], [144.73113478330336, -37.54645033805373], [144.72739373524453, -37.54925715183102], [144.72449831701414, -37.55165568034709], [144.72134005738585, -37.54952587975188], [144.7210594686198, -37.549300336087896], [144.72024999483094, -37.550307366157185], [144.71944052104206, -37.55131439622647], [144.71354331432488, -37.55187048768642], [144.71332176879022, -37.55185327280358], [144.70813642268175, -37.55200125470966], [144.70800111052552, -37.55206335992217], [144.7055990555644, -37.55376795426982], [144.6997293749717, -37.55419387937999], [144.69952554502086, -37.554124927466745], [144.69923795260337, -37.55401968801346], [144.69869578492015, -37.553803141750315], [144.69843115036159, -37.55368780660745], [144.69828731887466, -37.554017825551405], [144.6954899842327, -37.55910174860322], [144.69526395086353, -37.560429728049954], [144.6946797646987, -37.563040648696564], [144.69465028348108, -37.56316185155681], [144.69476147616382, -37.56338483652336], [144.6936896206534, -37.56825764659434], [144.6891934355168, -37.56811013597496], [144.68898388793284, -37.56804960000626], [144.6861500125639, -37.56920244865064], [144.68611598390927, -37.56941259634221], [144.6862215595635, -37.56962952264088], [144.68634892185972, -37.56964947428054], [144.68661383220956, -37.56967433615371], [144.6870094742998, -37.56972235572019], [144.6872128337625, -37.56974685985248], [144.68741619322526, -37.56977136398477], [144.68751787295662, -37.56978361605091], [144.68761955268798, -37.569795868117055], [144.68782291215072, -37.569820372249346], [144.6880262716134, -37.56984487638164], [144.68822963107618, -37.56986938051392], [144.6884329905389, -37.56989388464621], [144.68870734811543, -37.56992724176482], [144.68912489808196, -37.56997262061342], [144.6893305527375, -37.569994916476354], [144.68953620739302, -37.57001721233929], [144.6913891216678, -37.575096173027816], [144.68833407810763, -37.575974174385905], [144.68811794030756, -37.57595681630667], [144.68790180250753, -37.575939458227445], [144.68768566470746, -37.57592210014821], [144.68746952690742, -37.57590474206898], [144.68725338910735, -37.57588738398975], [144.68703725130732, -37.57587002591052], [144.68682111350725, -37.575852667831285], [144.6866049757072, -37.57583530975206], [144.68638883790715, -37.575817951672825], [144.6861727001071, -37.57580059359359], [144.68606463120707, -37.57579191455398], [144.68595656230704, -37.57578323551436], [144.685740424507, -37.57576587743513], [144.68552428670694, -37.5757485193559], [144.6853081489069, -37.57573116127667], [144.68509201110683, -37.57571380319744], [144.68374102925063, -37.57529481242649], [144.68352318555944, -37.57517273118405], [144.682938650329, -37.5748632455052], [144.68261373745207, -37.575018266866365], [144.6823237497051, -37.575529587538114], [144.682313495945, -37.575889441481266]]], &quot;type&quot;: &quot;Polygon&quot;}, &quot;reachfactor&quot;: 0.0, &quot;value&quot;: 3000.0}], &quot;isochronesCount&quot;: 5, &quot;travellerId&quot;: 0}], &quot;isochronesCount&quot;: 5}, &quot;isochroneRequest&quot;: {&quot;areaUnits&quot;: null, &quot;attributes&quot;: [&quot;total_pop&quot;], &quot;calcMethod&quot;: &quot;fastisochrone&quot;, &quot;id&quot;: null, &quot;includeIntersections&quot;: false, &quot;locations&quot;: [{&quot;x&quot;: 144.727319, &quot;y&quot;: -37.579091, &quot;z&quot;: &quot;NaN&quot;}], &quot;profilesForAllTravellers&quot;: [&quot;foot-walking&quot;], &quot;travellers&quot;: [{&quot;id&quot;: &quot;0&quot;, &quot;location&quot;: {&quot;x&quot;: 144.727319, &quot;y&quot;: -37.579091, &quot;z&quot;: &quot;NaN&quot;}, &quot;locationType&quot;: &quot;start&quot;, &quot;maximumRange&quot;: 3000.0, &quot;rangeType&quot;: &quot;TIME&quot;, &quot;ranges&quot;: [600.0, 1200.0, 1800.0, 2400.0, 3000.0], &quot;routeSearchParameters&quot;: {&quot;alternativeRoutesCount&quot;: -1, &quot;alternativeRoutesShareFactor&quot;: 0.6, &quot;alternativeRoutesWeightFactor&quot;: 1.4, &quot;arrival&quot;: null, &quot;avoidAreas&quot;: null, &quot;avoidBorders&quot;: &quot;NONE&quot;, &quot;avoidCountries&quot;: null, &quot;avoidFeatureTypes&quot;: 0, &quot;bearings&quot;: null, &quot;considerTurnRestrictions&quot;: false, &quot;departure&quot;: null, &quot;extraInfo&quot;: 0, &quot;flexibleMode&quot;: false, &quot;maximumRadiuses&quot;: null, &quot;maximumSpeed&quot;: 0.0, &quot;optimized&quot;: true, &quot;options&quot;: null, &quot;profileParameters&quot;: null, &quot;profileType&quot;: 20, &quot;profileTypeDriving&quot;: false, &quot;profileTypeHeavyVehicle&quot;: false, &quot;roundTripLength&quot;: -1.0, &quot;roundTripPoints&quot;: 2, &quot;roundTripSeed&quot;: -1, &quot;suppressWarnings&quot;: false, &quot;timeDependent&quot;: false, &quot;vehicleType&quot;: 0, &quot;weightingMethod&quot;: 1}}], &quot;units&quot;: null, &quot;valid&quot;: true, &quot;weightingsForAllTravellers&quot;: [&quot;fastest&quot;]}, &quot;locations&quot;: [[144.727319, -37.579091]], &quot;profile&quot;: &quot;foot-walking&quot;, &quot;range&quot;: [600.0, 1200.0, 1800.0, 2400.0, 3000.0], &quot;range_type&quot;: &quot;time&quot;}, &quot;service&quot;: &quot;isochrones&quot;, &quot;timestamp&quot;: 1664071711674}, &quot;type&quot;: &quot;FeatureCollection&quot;});\n",
       "\n",
       "        \n",
       "    \n",
       "            var marker_4148befef6db6ea511ae433f4c01bd75 = L.marker(\n",
       "                [-37.579073713227515, 144.72733155011724],\n",
       "                {}\n",
       "            ).addTo(map_8045a151a371d0cc6bac0605f2be1698);\n",
       "        \n",
       "    \n",
       "        function geo_json_ddc658940d11ef17e540c4dc95a6bb0b_styler(feature) {\n",
       "            switch(feature.id) {\n",
       "                case &quot;0&quot;: \n",
       "                    return {&quot;color&quot;: &quot;blue&quot;, &quot;fillColor&quot;: &quot;none&quot;, &quot;weight&quot;: 5};\n",
       "                case &quot;1&quot;: \n",
       "                    return {&quot;color&quot;: &quot;green&quot;, &quot;fillColor&quot;: &quot;none&quot;, &quot;weight&quot;: 5};\n",
       "                case &quot;3&quot;: \n",
       "                    return {&quot;color&quot;: &quot;orange&quot;, &quot;fillColor&quot;: &quot;none&quot;, &quot;weight&quot;: 5};\n",
       "                case &quot;4&quot;: \n",
       "                    return {&quot;color&quot;: &quot;red&quot;, &quot;fillColor&quot;: &quot;none&quot;, &quot;weight&quot;: 5};\n",
       "                default:\n",
       "                    return {&quot;color&quot;: &quot;yellow&quot;, &quot;fillColor&quot;: &quot;none&quot;, &quot;weight&quot;: 5};\n",
       "            }\n",
       "        }\n",
       "\n",
       "        function geo_json_ddc658940d11ef17e540c4dc95a6bb0b_onEachFeature(feature, layer) {\n",
       "            layer.on({\n",
       "            });\n",
       "        };\n",
       "        var geo_json_ddc658940d11ef17e540c4dc95a6bb0b = L.geoJson(null, {\n",
       "                onEachFeature: geo_json_ddc658940d11ef17e540c4dc95a6bb0b_onEachFeature,\n",
       "            \n",
       "                style: geo_json_ddc658940d11ef17e540c4dc95a6bb0b_styler,\n",
       "        });\n",
       "\n",
       "        function geo_json_ddc658940d11ef17e540c4dc95a6bb0b_add (data) {\n",
       "            geo_json_ddc658940d11ef17e540c4dc95a6bb0b\n",
       "                .addData(data)\n",
       "                .addTo(map_8045a151a371d0cc6bac0605f2be1698);\n",
       "        }\n",
       "            geo_json_ddc658940d11ef17e540c4dc95a6bb0b_add({&quot;bbox&quot;: [145.30183, -37.935716, 145.384571, -37.877911], &quot;features&quot;: [{&quot;geometry&quot;: {&quot;coordinates&quot;: [[[145.334396, -37.904647], [145.334614, -37.905436], [145.336299, -37.907783], [145.337956, -37.909607], [145.341011, -37.912827], [145.341364, -37.912898], [145.344018, -37.913105], [145.348173, -37.912443], [145.350125, -37.912221], [145.351246, -37.910091], [145.35101, -37.907138], [145.350908, -37.906793], [145.348463, -37.905275], [145.345646, -37.902446], [145.345307, -37.902323], [145.343155, -37.902457], [145.338596, -37.903533], [145.336493, -37.90366], [145.334477, -37.904296], [145.334396, -37.904647]]], &quot;type&quot;: &quot;Polygon&quot;}, &quot;id&quot;: &quot;0&quot;, &quot;properties&quot;: {&quot;center&quot;: [145.34299490332074, -37.9081180979339], &quot;group_index&quot;: 0, &quot;name&quot;: &quot;19845&quot;, &quot;total_pop&quot;: 2066.0, &quot;value&quot;: 600.0}, &quot;type&quot;: &quot;Feature&quot;}, {&quot;geometry&quot;: {&quot;coordinates&quot;: [[[145.326498, -37.900538], [145.3271, -37.90374], [145.329241, -37.909273], [145.330276, -37.9113], [145.331819, -37.91198], [145.334612, -37.917208], [145.334869, -37.91746], [145.337674, -37.919679], [145.338033, -37.91971], [145.341552, -37.918871], [145.344752, -37.917557], [145.345995, -37.916345], [145.347553, -37.91537], [145.353466, -37.915643], [145.353819, -37.915716], [145.356293, -37.915072], [145.359302, -37.912749], [145.359492, -37.912443], [145.359465, -37.909147], [145.35944, -37.908787], [145.358024, -37.906582], [145.356171, -37.905234], [145.355824, -37.905137], [145.353551, -37.903954], [145.351711, -37.89989], [145.351693, -37.899742], [145.351692, -37.899735], [145.35164, -37.899416], [145.350239, -37.896305], [145.349952, -37.896088], [145.344067, -37.896369], [145.338163, -37.896348], [145.336666, -37.898346], [145.332285, -37.899359], [145.328682, -37.899772], [145.328402, -37.899822], [145.326671, -37.900222], [145.326498, -37.900538]]], &quot;type&quot;: &quot;Polygon&quot;}, &quot;id&quot;: &quot;1&quot;, &quot;properties&quot;: {&quot;center&quot;: [145.34299490332074, -37.9081180979339], &quot;group_index&quot;: 0, &quot;name&quot;: &quot;19845&quot;, &quot;total_pop&quot;: 7739.0, &quot;value&quot;: 1200.0}, &quot;type&quot;: &quot;Feature&quot;}, {&quot;geometry&quot;: {&quot;coordinates&quot;: [[[145.317602, -37.901442], [145.317738, -37.901775], [145.318981, -37.90415], [145.320854, -37.909422], [145.321087, -37.912359], [145.324451, -37.91564], [145.325741, -37.919119], [145.32678, -37.918953], [145.331488, -37.921303], [145.336002, -37.924206], [145.336182, -37.924182], [145.336334, -37.924135], [145.337283, -37.923672], [145.341947, -37.92211], [145.343466, -37.923815], [145.343747, -37.923804], [145.344028, -37.923792], [145.345964, -37.923392], [145.348167, -37.922613], [145.349774, -37.921483], [145.355574, -37.921683], [145.355886, -37.921864], [145.356387, -37.921984], [145.356467, -37.921996], [145.356746, -37.92201], [145.356826, -37.921972], [145.357187, -37.921594], [145.358575, -37.917923], [145.362511, -37.917001], [145.364005, -37.916584], [145.366064, -37.915783], [145.367619, -37.910575], [145.368576, -37.908502], [145.368537, -37.908145], [145.363478, -37.905319], [145.36289, -37.903753], [145.359494, -37.900112], [145.3566, -37.89702], [145.351479, -37.895942], [145.350278, -37.895366], [145.348058, -37.890606], [145.347908, -37.890279], [145.346285, -37.89008], [145.340519, -37.889376], [145.340183, -37.889506], [145.339247, -37.891247], [145.334538, -37.891799], [145.334183, -37.891854], [145.328359, -37.89307], [145.325871, -37.893131], [145.325829, -37.893149], [145.324249, -37.893869], [145.323974, -37.894101], [145.31867, -37.896232], [145.318486, -37.896541], [145.31763, -37.900212], [145.317602, -37.901442]]], &quot;type&quot;: &quot;Polygon&quot;}, &quot;id&quot;: &quot;2&quot;, &quot;properties&quot;: {&quot;center&quot;: [145.34299490332074, -37.9081180979339], &quot;group_index&quot;: 0, &quot;name&quot;: &quot;19845&quot;, &quot;total_pop&quot;: 13612.0, &quot;value&quot;: 1800.0}, &quot;type&quot;: &quot;Feature&quot;}, {&quot;geometry&quot;: {&quot;coordinates&quot;: [[[145.309512, -37.899764], [145.309781, -37.899987], [145.310049, -37.90021], [145.310453, -37.90052], [145.312356, -37.902419], [145.314012, -37.905891], [145.314078, -37.906094], [145.314135, -37.906158], [145.314399, -37.906424], [145.316648, -37.910958], [145.316064, -37.912469], [145.316037, -37.912868], [145.317321, -37.915074], [145.319293, -37.916335], [145.321264, -37.917597], [145.321944, -37.92294], [145.321839, -37.923163], [145.321801, -37.923396], [145.321852, -37.923703], [145.321982, -37.923952], [145.327444, -37.924464], [145.332169, -37.927199], [145.332503, -37.927335], [145.33704, -37.929348], [145.337335, -37.929142], [145.341609, -37.925253], [145.342984, -37.925831], [145.343339, -37.925889], [145.34817, -37.928416], [145.34827, -37.92853], [145.348724, -37.929044], [145.348944, -37.929078], [145.353311, -37.927517], [145.3549, -37.927827], [145.356013, -37.928178], [145.356296, -37.927955], [145.362246, -37.927211], [145.362606, -37.927201], [145.362592, -37.926715], [145.362579, -37.926228], [145.364156, -37.921131], [145.368664, -37.919301], [145.373048, -37.918561], [145.373405, -37.918517], [145.375085, -37.917199], [145.375131, -37.916842], [145.373964, -37.914776], [145.376431, -37.910971], [145.377362, -37.910458], [145.377601, -37.910189], [145.377116, -37.905283], [145.376975, -37.904953], [145.37654, -37.905138], [145.376106, -37.905324], [145.375734, -37.905527], [145.375378, -37.905722], [145.371303, -37.906347], [145.371016, -37.90654], [145.36988, -37.907242], [145.369575, -37.907422], [145.369402, -37.90753], [145.369228, -37.907639], [145.369067, -37.907741], [145.363778, -37.906054], [145.363782, -37.903511], [145.364159, -37.901248], [145.364509, -37.900559], [145.366088, -37.898627], [145.366228, -37.898473], [145.366713, -37.897824], [145.36697, -37.897535], [145.364848, -37.893482], [145.36455, -37.89328], [145.364313, -37.893628], [145.362361, -37.895179], [145.357263, -37.892383], [145.35717, -37.892126], [145.357029, -37.891798], [145.356925, -37.891707], [145.356099, -37.890897], [145.355883, -37.890673], [145.355474, -37.890206], [145.35218, -37.887973], [145.350171, -37.885668], [145.349898, -37.885434], [145.34652, -37.884283], [145.346084, -37.884153], [145.345648, -37.884023], [145.342511, -37.883421], [145.338464, -37.883416], [145.338095, -37.883505], [145.337877, -37.883791], [145.336708, -37.885377], [145.334507, -37.887], [145.328613, -37.885888], [145.328386, -37.88588], [145.324249, -37.886216], [145.319935, -37.88736], [145.319031, -37.888333], [145.315325, -37.891403], [145.31358, -37.892665], [145.313018, -37.8932], [145.310439, -37.897143], [145.310263, -37.897457], [145.309512, -37.899764]]], &quot;type&quot;: &quot;Polygon&quot;}, &quot;id&quot;: &quot;3&quot;, &quot;properties&quot;: {&quot;center&quot;: [145.34299490332074, -37.9081180979339], &quot;group_index&quot;: 0, &quot;name&quot;: &quot;19845&quot;, &quot;total_pop&quot;: 18089.0, &quot;value&quot;: 2400.0}, &quot;type&quot;: &quot;Feature&quot;}, {&quot;geometry&quot;: {&quot;coordinates&quot;: [[[145.30183, -37.898409], [145.30206, -37.898686], [145.304717, -37.900278], [145.30553, -37.905157], [145.305757, -37.905436], [145.308995, -37.909281], [145.309348, -37.909469], [145.31248, -37.911676], [145.31478, -37.913269], [145.314842, -37.913325], [145.314904, -37.913381], [145.315027, -37.913492], [145.315151, -37.913603], [145.315271, -37.9137], [145.315391, -37.913796], [145.31545, -37.913845], [145.316446, -37.914513], [145.316618, -37.914624], [145.31679, -37.914734], [145.316963, -37.914844], [145.317135, -37.914954], [145.317307, -37.915064], [145.317321, -37.915074], [145.317479, -37.915174], [145.317651, -37.915284], [145.317823, -37.915395], [145.317995, -37.915505], [145.318167, -37.915615], [145.318339, -37.915725], [145.318511, -37.915835], [145.318683, -37.915945], [145.318855, -37.916055], [145.319096, -37.916224], [145.319372, -37.916385], [145.319544, -37.916496], [145.319716, -37.916606], [145.319888, -37.916716], [145.32006, -37.916826], [145.320232, -37.916936], [145.320404, -37.917046], [145.320576, -37.917156], [145.320748, -37.917266], [145.321944, -37.92294], [145.319113, -37.924663], [145.318779, -37.924781], [145.318545, -37.924882], [145.318283, -37.924999], [145.318179, -37.92507], [145.317086, -37.925843], [145.31699, -37.92593], [145.316894, -37.926096], [145.316861, -37.926252], [145.316866, -37.926559], [145.317093, -37.927777], [145.321909, -37.928794], [145.327382, -37.92986], [145.330467, -37.93068], [145.330817, -37.930766], [145.333849, -37.930591], [145.339634, -37.932017], [145.339828, -37.932087], [145.343674, -37.932812], [145.347973, -37.935716], [145.348332, -37.935682], [145.352552, -37.93466], [145.358211, -37.933791], [145.358523, -37.933971], [145.363898, -37.932352], [145.364057, -37.932029], [145.363784, -37.931612], [145.363203, -37.930864], [145.362523, -37.928148], [145.362592, -37.927876], [145.368508, -37.92754], [145.368841, -37.927404], [145.369105, -37.926172], [145.367989, -37.924498], [145.367993, -37.92222], [145.372802, -37.920041], [145.374445, -37.920696], [145.376362, -37.923976], [145.376366, -37.924231], [145.376726, -37.924226], [145.377066, -37.923779], [145.380282, -37.919052], [145.381227, -37.918957], [145.382159, -37.918243], [145.382221, -37.917888], [145.380985, -37.915916], [145.383431, -37.911925], [145.384467, -37.910978], [145.384571, -37.910633], [145.384492, -37.910282], [145.381737, -37.909934], [145.379522, -37.90937], [145.379481, -37.904167], [145.379728, -37.903994], [145.379988, -37.903811], [145.381035, -37.903213], [145.381221, -37.903108], [145.381428, -37.902957], [145.381513, -37.902836], [145.381592, -37.902565], [145.38156, -37.902356], [145.381483, -37.902108], [145.380826, -37.900836], [145.380632, -37.900495], [145.380439, -37.900155], [145.380126, -37.900333], [145.37654, -37.905138], [145.376106, -37.905324], [145.375734, -37.905527], [145.375378, -37.905722], [145.371303, -37.906347], [145.371016, -37.90654], [145.36988, -37.907242], [145.369575, -37.907422], [145.369402, -37.90753], [145.369228, -37.907639], [145.369067, -37.907741], [145.363778, -37.906054], [145.363782, -37.903511], [145.364159, -37.901248], [145.364509, -37.900559], [145.366088, -37.898627], [145.366228, -37.898473], [145.366715, -37.897821], [145.366849, -37.897671], [145.36697, -37.897535], [145.366983, -37.897521], [145.367094, -37.897378], [145.367204, -37.897236], [145.367312, -37.897098], [145.367517, -37.896848], [145.367615, -37.896736], [145.367717, -37.896618], [145.36782, -37.896499], [145.367899, -37.896388], [145.367976, -37.896277], [145.368069, -37.896049], [145.36815, -37.895783], [145.368175, -37.895435], [145.368237, -37.894875], [145.368278, -37.894619], [145.369803, -37.890826], [145.369948, -37.890543], [145.369668, -37.887844], [145.369374, -37.887638], [145.369179, -37.887915], [145.368985, -37.888193], [145.36881, -37.88846], [145.368767, -37.888526], [145.368724, -37.888592], [145.368638, -37.888723], [145.368552, -37.888855], [145.368449, -37.889009], [145.368346, -37.889164], [145.368242, -37.889319], [145.368138, -37.889474], [145.368035, -37.88963], [145.367931, -37.889785], [145.367879, -37.889863], [145.367827, -37.88994], [145.367723, -37.890096], [145.363508, -37.892744], [145.361855, -37.895389], [145.357448, -37.893229], [145.357263, -37.892383], [145.357201, -37.892212], [145.35717, -37.892126], [145.357109, -37.891988], [145.357029, -37.891798], [145.355292, -37.888455], [145.356766, -37.884059], [145.356738, -37.8837], [145.356755, -37.882408], [145.356567, -37.882101], [145.35169, -37.878971], [145.351482, -37.879184], [145.351351, -37.879426], [145.351305, -37.879716], [145.351333, -37.879939], [145.351263, -37.883003], [145.34591, -37.88281], [145.344603, -37.880942], [145.344563, -37.879012], [145.342466, -37.877911], [145.341598, -37.878196], [145.341407, -37.878316], [145.340914, -37.878607], [145.340606, -37.878782], [145.340494, -37.87887], [145.340359, -37.879063], [145.337424, -37.881297], [145.331579, -37.880263], [145.331224, -37.880203], [145.325366, -37.879524], [145.325092, -37.879268], [145.32407, -37.879516], [145.318583, -37.881336], [145.318223, -37.881351], [145.316199, -37.881996], [145.316128, -37.88226], [145.316058, -37.882524], [145.316041, -37.88265], [145.316119, -37.883369], [145.316251, -37.883754], [145.316455, -37.884567], [145.316515, -37.884791], [145.316595, -37.88516], [145.316623, -37.885341], [145.316732, -37.885744], [145.316836, -37.886126], [145.31295, -37.890501], [145.311445, -37.889437], [145.311325, -37.889377], [145.310478, -37.889149], [145.306316, -37.890641], [145.304588, -37.891377], [145.303807, -37.891809], [145.302296, -37.894474], [145.30183, -37.898409]]], &quot;type&quot;: &quot;Polygon&quot;}, &quot;id&quot;: &quot;4&quot;, &quot;properties&quot;: {&quot;center&quot;: [145.34299490332074, -37.9081180979339], &quot;group_index&quot;: 0, &quot;name&quot;: &quot;19845&quot;, &quot;total_pop&quot;: 22283.0, &quot;value&quot;: 3000.0}, &quot;type&quot;: &quot;Feature&quot;}], &quot;metadata&quot;: {&quot;attribution&quot;: &quot;openrouteservice.org | OpenStreetMap contributors&quot;, &quot;engine&quot;: {&quot;build_date&quot;: &quot;2022-02-18T19:37:41Z&quot;, &quot;graph_date&quot;: &quot;2022-09-06T07:58:44Z&quot;, &quot;version&quot;: &quot;6.7.0&quot;}, &quot;query&quot;: {&quot;attributes&quot;: [&quot;total_pop&quot;], &quot;interval&quot;: 600.0, &quot;isoMaps&quot;: {&quot;isochroneMaps&quot;: [{&quot;center&quot;: {&quot;x&quot;: 145.34299490332074, &quot;y&quot;: -37.9081180979339, &quot;z&quot;: &quot;NaN&quot;}, &quot;empty&quot;: false, &quot;envelope&quot;: {&quot;area&quot;: 0.004782801997115294, &quot;height&quot;: 0.05780461756052091, &quot;maxX&quot;: 145.38457113087244, &quot;maxY&quot;: -37.8779109008893, &quot;minX&quot;: 145.3018303015242, &quot;minY&quot;: -37.93571551844982, &quot;null&quot;: false, &quot;width&quot;: 0.08274082934823923}, &quot;graphDate&quot;: &quot;2022-09-06T07:58:44Z&quot;, &quot;isochrones&quot;: [{&quot;area&quot;: 0.0, &quot;attributes&quot;: [{&quot;name&quot;: &quot;total_pop&quot;, &quot;source&quot;: &quot;European Commission, Joint Research Centre (JRC); Columbia University, Center for International Earth Science Information Network - CIESIN (2015):  GHS population grid, derived from GPW4, multitemporal (1975, 1990, 2000, 2015). European Commission, Joint Research Centre (JRC) [Dataset] PID: http://data.europa.eu/89h/jrc-ghsl-ghs_pop_gpw4_globe_r2015a&quot;, &quot;value&quot;: 2066.0}], &quot;envelope&quot;: {&quot;area&quot;: 0.0001816793150377218, &quot;height&quot;: 0.010781978156387595, &quot;maxX&quot;: 145.35124612499246, &quot;maxY&quot;: -37.90232344083155, &quot;minX&quot;: 145.33439584831757, &quot;minY&quot;: -37.91310541898794, &quot;null&quot;: false, &quot;width&quot;: 0.016850276674887255}, &quot;geometry&quot;: {&quot;coordinates&quot;: [[[145.33439584831757, -37.90464657691249], [145.3344771399764, -37.904295875235555], [145.33649314154374, -37.90365955501513], [145.33859613458048, -37.903532572210594], [145.343155293641, -37.90245659151241], [145.34530701415824, -37.90232344083155], [145.34564555881022, -37.902445864352984], [145.34846332516724, -37.90527479853705], [145.35090766159948, -37.906792895779006], [145.351009539109, -37.90713817968111], [145.35124612499246, -37.910090559280164], [145.3501249168685, -37.912220925460865], [145.348172796635, -37.91244317682915], [145.34401843205754, -37.91310541898794], [145.34136373815645, -37.91289829206551], [145.34101092777732, -37.91282670410306], [145.33795617410135, -37.909607398442894], [145.33629912399923, -37.907782920567044], [145.33461417976758, -37.90543620522753], [145.33439584831757, -37.90464657691249]]], &quot;type&quot;: &quot;Polygon&quot;}, &quot;reachfactor&quot;: 0.0, &quot;value&quot;: 600.0}, {&quot;area&quot;: 0.0, &quot;attributes&quot;: [{&quot;name&quot;: &quot;total_pop&quot;, &quot;source&quot;: &quot;European Commission, Joint Research Centre (JRC); Columbia University, Center for International Earth Science Information Network - CIESIN (2015):  GHS population grid, derived from GPW4, multitemporal (1975, 1990, 2000, 2015). European Commission, Joint Research Centre (JRC) [Dataset] PID: http://data.europa.eu/89h/jrc-ghsl-ghs_pop_gpw4_globe_r2015a&quot;, &quot;value&quot;: 7739.0}], &quot;envelope&quot;: {&quot;area&quot;: 0.0007793820212165165, &quot;height&quot;: 0.02362210679449106, &quot;maxX&quot;: 145.35949163580918, &quot;maxY&quot;: -37.896087880786226, &quot;minX&quot;: 145.32649788008717, &quot;minY&quot;: -37.91970998758072, &quot;null&quot;: false, &quot;width&quot;: 0.03299375572200347}, &quot;geometry&quot;: {&quot;coordinates&quot;: [[[145.32649788008717, -37.90053750135515], [145.32667052367054, -37.90022159916598], [145.32840177100292, -37.89982226412012], [145.3286816254189, -37.89977182237618], [145.33228456071248, -37.89935946127915], [145.336666040197, -37.89834557991502], [145.33816299369437, -37.89634759771013], [145.34406741642425, -37.89636876193881], [145.3499522274023, -37.896087880786226], [145.3502392730752, -37.89630514740051], [145.35164042402303, -37.899415590406264], [145.35169183491072, -37.89973541662059], [145.35169276081345, -37.89974193540316], [145.35171107034017, -37.89989028325746], [145.35355085518643, -37.90395393828645], [145.35582444849663, -37.90513687177792], [145.35617122914832, -37.90523353190209], [145.35802382707763, -37.90658211401604], [145.35944012311592, -37.908787356490016], [145.35946461171562, -37.90914652261939], [145.35949163580918, -37.9124425344293], [145.35930227583046, -37.91274870888688], [145.3562930399987, -37.91507157570254], [145.35381855588864, -37.915715716666696], [145.35346598002602, -37.91564298248552], [145.34755319956102, -37.915369745122184], [145.3459949123709, -37.91634543798146], [145.344751971915, -37.91755678083872], [145.341552195624, -37.91887051089563], [145.33803271886924, -37.91970998758072], [145.33767404979258, -37.91967906035258], [145.33486862342303, -37.91745995772797], [145.33461189518343, -37.91720758773967], [145.3318192049595, -37.911980069827294], [145.33027578109298, -37.911299866889074], [145.3292412366861, -37.909273173942886], [145.32709957009604, -37.903739712010825], [145.32649788008717, -37.90053750135515]]], &quot;type&quot;: &quot;Polygon&quot;}, &quot;reachfactor&quot;: 0.0, &quot;value&quot;: 1200.0}, {&quot;area&quot;: 0.0, &quot;attributes&quot;: [{&quot;name&quot;: &quot;total_pop&quot;, &quot;source&quot;: &quot;European Commission, Joint Research Centre (JRC); Columbia University, Center for International Earth Science Information Network - CIESIN (2015):  GHS population grid, derived from GPW4, multitemporal (1975, 1990, 2000, 2015). European Commission, Joint Research Centre (JRC) [Dataset] PID: http://data.europa.eu/89h/jrc-ghsl-ghs_pop_gpw4_globe_r2015a&quot;, &quot;value&quot;: 13612.0}], &quot;envelope&quot;: {&quot;area&quot;: 0.0017753907135638705, &quot;height&quot;: 0.03482973400917899, &quot;maxX&quot;: 145.36857558725174, &quot;maxY&quot;: -37.889376265133194, &quot;minX&quot;: 145.31760216571783, &quot;minY&quot;: -37.92420599914237, &quot;null&quot;: false, &quot;width&quot;: 0.05097342153391082}, &quot;geometry&quot;: {&quot;coordinates&quot;: [[[145.31760216571783, -37.901442051854985], [145.31773832041316, -37.9017753113619], [145.31898136803844, -37.90415000576604], [145.32085421115636, -37.90942182827474], [145.32108699464314, -37.91235878795655], [145.32445117459733, -37.91564028472295], [145.32574126051617, -37.919119453869655], [145.32677991732515, -37.91895343352751], [145.33148807283092, -37.921303054421465], [145.3360021734366, -37.92420599914237], [145.33618205936511, -37.92418154815664], [145.33633362388503, -37.92413524340567], [145.33728251791814, -37.92367194358328], [145.34194651401248, -37.92210974126752], [145.34346621392498, -37.92381521044062], [145.34374725707573, -37.923803616568776], [145.34402830022648, -37.92379202269693], [145.3459640434154, -37.92339221708123], [145.34816699141618, -37.922613480277015], [145.34977413704476, -37.921483031562275], [145.35557417454694, -37.92168345760322], [145.35588553464927, -37.921864164234705], [145.35638657526235, -37.9219838685584], [145.35646723197985, -37.92199563460575], [145.3567456162739, -37.922010127880526], [145.35682648786232, -37.92197249998], [145.35718747870038, -37.92159437986836], [145.3585747392756, -37.91792339054776], [145.3625108010138, -37.91700090282412], [145.36400515825736, -37.916584016190406], [145.36606367179417, -37.915783333544546], [145.36761925282968, -37.910574535918244], [145.36857558725174, -37.90850246409051], [145.36853714061854, -37.90814452295513], [145.36347809045728, -37.90531925095108], [145.36288988862268, -37.903753086623226], [145.3594942260502, -37.90011226493227], [145.35660047270824, -37.8970201794695], [145.35147881691123, -37.895942290278455], [145.35027751389052, -37.89536595943634], [145.3480580161901, -37.89060633951659], [145.3479081330477, -37.89027902461681], [145.346284912298, -37.89007962850748], [145.3405191179395, -37.889376265133194], [145.3401832625201, -37.88950588433413], [145.3392470461345, -37.891247249639385], [145.33453834773564, -37.89179921274141], [145.33418256822387, -37.89185417581066], [145.3283588355153, -37.89307023513035], [145.32587127935963, -37.89313114271076], [145.32582903424924, -37.89314940795964], [145.32424919222407, -37.893868796155154], [145.3239740441808, -37.894100946008244], [145.3186695826498, -37.896231897587256], [145.31848557428694, -37.896541317887824], [145.31763044697155, -37.90021178912165], [145.31760216571783, -37.901442051854985]]], &quot;type&quot;: &quot;Polygon&quot;}, &quot;reachfactor&quot;: 0.0, &quot;value&quot;: 1800.0}, {&quot;area&quot;: 0.0, &quot;attributes&quot;: [{&quot;name&quot;: &quot;total_pop&quot;, &quot;source&quot;: &quot;European Commission, Joint Research Centre (JRC); Columbia University, Center for International Earth Science Information Network - CIESIN (2015):  GHS population grid, derived from GPW4, multitemporal (1975, 1990, 2000, 2015). European Commission, Joint Research Centre (JRC) [Dataset] PID: http://data.europa.eu/89h/jrc-ghsl-ghs_pop_gpw4_globe_r2015a&quot;, &quot;value&quot;: 18089.0}], &quot;envelope&quot;: {&quot;area&quot;: 0.003127481178830469, &quot;height&quot;: 0.045932440972713096, &quot;maxX&quot;: 145.37760117374657, &quot;maxY&quot;: -37.883416041671616, &quot;minX&quot;: 145.3095124522983, &quot;minY&quot;: -37.92934848264433, &quot;null&quot;: false, &quot;width&quot;: 0.0680887214482766}, &quot;geometry&quot;: {&quot;coordinates&quot;: [[[145.3095124522983, -37.89976426508386], [145.31026328576488, -37.8974570121032], [145.31043861400295, -37.89714259198786], [145.31301838904295, -37.893200322739965], [145.31358049448312, -37.89266543182072], [145.31532496548027, -37.891403217965795], [145.31903065220936, -37.88833255972753], [145.31993496064794, -37.887359589009115], [145.324248524507, -37.886215744937644], [145.32838641515244, -37.88588001311226], [145.32861321515867, -37.88588796518057], [145.33450694892142, -37.88700049569138], [145.33670775157518, -37.88537703294921], [145.3378765856296, -37.88379137618476], [145.33809500562853, -37.88350520717164], [145.33846383220475, -37.883416041671616], [145.34251105603562, -37.883420807941384], [145.34564798302685, -37.88402263156483], [145.34608422175103, -37.88415290306533], [145.34652046047523, -37.88428317456582], [145.34989766356074, -37.885433577674675], [145.35017066904527, -37.88566824340593], [145.35218041561163, -37.88797300007471], [145.3554743773144, -37.890206095338044], [145.35588341725872, -37.89067289288295], [145.35609948410087, -37.890896875967144], [145.3569247642902, -37.89170651421272], [145.3570291391038, -37.89179771219034], [145.3571701482936, -37.89212608896812], [145.3572630942886, -37.89238266834316], [145.36236138631037, -37.89517886670364], [145.3643127324149, -37.89362842847562], [145.36455003437035, -37.89327966920202], [145.36484767010123, -37.89348218579813], [145.36697030426154, -37.89753549665095], [145.3667125734875, -37.89782376031199], [145.36622846694553, -37.898473467695865], [145.3660882483667, -37.89862662247802], [145.36450893180543, -37.900559291239766], [145.36415883413795, -37.901247784589145], [145.36378175173655, -37.90351093651574], [145.36377795853716, -37.90605395077289], [145.36906667626081, -37.90774077262618], [145.36922841595154, -37.90763879280198], [145.36940194241052, -37.9075299902821], [145.36957546400188, -37.907422311657236], [145.36988016138258, -37.907241724425795], [145.37101578511138, -37.90653955375497], [145.37130301833062, -37.90634668635252], [145.37537845111808, -37.90572211978726], [145.37573440261406, -37.90552710083577], [145.37610599768567, -37.905324469726246], [145.3765403837662, -37.90513849268973], [145.37697476984678, -37.904952515653214], [145.37711645950478, -37.905283459818925], [145.37760117374657, -37.91018864497289], [145.3773619390415, -37.91045765567132], [145.37643072213064, -37.91097093891717], [145.3739643547663, -37.91477649004513], [145.37513050363506, -37.91684230532078], [145.37508511959234, -37.917199433153165], [145.37340517158145, -37.91851664909628], [145.37304795313668, -37.918561314325835], [145.36866354944127, -37.919301224276865], [145.36415600118676, -37.92113111529427], [145.36257878506606, -37.926228422055495], [145.36259244200252, -37.92671460899268], [145.36260609893895, -37.92720079592988], [145.36224624088248, -37.92721090430226], [145.3562962678143, -37.92795545188727], [145.35601300634266, -37.92817762960598], [145.35490029636549, -37.92782733927949], [145.35331095357225, -37.927516514564125], [145.3489441131787, -37.92907767756222], [145.34872386533348, -37.929043821762846], [145.34827013347157, -37.92853030402654], [145.34816973689578, -37.92841556508278], [145.34333926594536, -37.92588933902328], [145.3429840129064, -37.92583107000632], [145.3416090061764, -37.92525302466317], [145.33733504121167, -37.92914223992889], [145.3370399752151, -37.92934848264433], [145.33250293212237, -37.92733479629056], [145.33216945788277, -37.92719916837478], [145.32744442367851, -37.92446382049495], [145.3219823248378, -37.92395214390912], [145.32185173059088, -37.92370326176483], [145.321801268301, -37.9233964828505], [145.32183926984507, -37.92316339268893], [145.32194400078757, -37.92294028736927], [145.321264416191, -37.91759657661469], [145.31929290856328, -37.916335107455275], [145.31732140093555, -37.91507363829586], [145.31603733262978, -37.91286776162672], [145.31606353741924, -37.91246915644881], [145.31664829766225, -37.91095829405735], [145.3143987383395, -37.90642443750133], [145.31413525250377, -37.906158330608626], [145.31407813376146, -37.906094332371346], [145.31401180500276, -37.90589127243408], [145.3123560569367, -37.90241905751145], [145.31045322802433, -37.90052031838111], [145.31004895552178, -37.90020979752269], [145.30978070391004, -37.899987031303276], [145.3095124522983, -37.89976426508386]]], &quot;type&quot;: &quot;Polygon&quot;}, &quot;reachfactor&quot;: 0.0, &quot;value&quot;: 2400.0}, {&quot;area&quot;: 0.0, &quot;attributes&quot;: [{&quot;name&quot;: &quot;total_pop&quot;, &quot;source&quot;: &quot;European Commission, Joint Research Centre (JRC); Columbia University, Center for International Earth Science Information Network - CIESIN (2015):  GHS population grid, derived from GPW4, multitemporal (1975, 1990, 2000, 2015). European Commission, Joint Research Centre (JRC) [Dataset] PID: http://data.europa.eu/89h/jrc-ghsl-ghs_pop_gpw4_globe_r2015a&quot;, &quot;value&quot;: 22283.0}], &quot;envelope&quot;: {&quot;area&quot;: 0.004782801997115294, &quot;height&quot;: 0.05780461756052091, &quot;maxX&quot;: 145.38457113087244, &quot;maxY&quot;: -37.8779109008893, &quot;minX&quot;: 145.3018303015242, &quot;minY&quot;: -37.93571551844982, &quot;null&quot;: false, &quot;width&quot;: 0.08274082934823923}, &quot;geometry&quot;: {&quot;coordinates&quot;: [[[145.3018303015242, -37.89840882153545], [145.30206003817057, -37.89868598768296], [145.304716835213, -37.900277613885095], [145.30552985050477, -37.905157417634975], [145.3057574050724, -37.905436378060024], [145.30899500789772, -37.909281480663296], [145.30934753640648, -37.909469343478115], [145.3124804402659, -37.911676293245606], [145.3147796917828, -37.913269443788884], [145.3148416061089, -37.91332509962718], [145.31490352043505, -37.913380755465475], [145.3150273490874, -37.9134920671421], [145.31515117773964, -37.91360337881869], [145.31527073245218, -37.91369977286767], [145.315390795165, -37.91379642122733], [145.3154504936052, -37.913844625394304], [145.31644572084102, -37.91451333275801], [145.31661838702993, -37.914623814846976], [145.31679046218403, -37.91473391713467], [145.31696253733816, -37.91484401942237], [145.31713461249225, -37.91495412171005], [145.31730668764638, -37.91506422399775], [145.31732140093555, -37.91507363829586], [145.3174787628005, -37.915174326285445], [145.3176508379546, -37.91528442857313], [145.31782291310873, -37.91539453086084], [145.31799498826283, -37.91550463314852], [145.31816706341695, -37.91561473543622], [145.31833913857108, -37.915724837723914], [145.31851121372517, -37.9158349400116], [145.3186832888793, -37.9159450422993], [145.3188553640334, -37.91605514458699], [145.31909589241857, -37.91622366013839], [145.31937158949574, -37.91638545145006], [145.31954366464987, -37.91649555373776], [145.319715739804, -37.91660565602545], [145.3198878149581, -37.91671575831314], [145.32005989011222, -37.916825860600845], [145.32023196526632, -37.91693596288853], [145.32040404042044, -37.91704606517623], [145.32057611557457, -37.91715616746392], [145.32074819072866, -37.91726626975161], [145.32194400078757, -37.92294028736927], [145.31911325347346, -37.92466309563041], [145.318779354013, -37.924780683991386], [145.3185452195125, -37.92488219815429], [145.31828276736633, -37.92499913834114], [145.31817916243503, -37.92506976402361], [145.31708586526955, -37.92584334783647], [145.3169902344441, -37.925930411646625], [145.31689420467816, -37.92609573517419], [145.31686083909986, -37.926252200739306], [145.31686623506798, -37.92655925125235], [145.31709260632115, -37.92777701108614], [145.3219091616598, -37.92879388788108], [145.32738224828043, -37.929860276188435], [145.3304674938145, -37.93068018592075], [145.33081705347897, -37.930766255897964], [145.3338489947404, -37.93059052935599], [145.3396343315078, -37.93201730342958], [145.33982755699304, -37.932086760701], [145.3436737337434, -37.93281228672896], [145.34797319418234, -37.93571551844982], [145.34833162900608, -37.935681985225564], [145.35255240226414, -37.934659668604496], [145.35821145761085, -37.93379140626877], [145.35852340083918, -37.933971104410944], [145.36389760045952, -37.93235218056197], [145.36405667549425, -37.93202923299142], [145.3637844127773, -37.931612328994056], [145.36320342285035, -37.930863916675314], [145.36252312934516, -37.92814784676913], [145.36259248259628, -37.92787638508803], [145.36850792810102, -37.92754037685813], [145.3688408938328, -37.9274035053072], [145.36910545926423, -37.926172088094695], [145.36798932810765, -37.92449824349316], [145.36799275207503, -37.922220469266136], [145.3728022210823, -37.9200412466388], [145.37444532754523, -37.92069620461828], [145.3763622763901, -37.92397613360502], [145.37636578129678, -37.924231073842606], [145.3767257472805, -37.92422612504676], [145.37706611131813, -37.92377932111474], [145.38028235973277, -37.91905218941868], [145.38122711128193, -37.918956883780105], [145.38215894584215, -37.91824277110696], [145.3822209158687, -37.917888144943504], [145.380985321284, -37.91591620669002], [145.38343052649245, -37.91192525688707], [145.38446748599384, -37.910977716076154], [145.38457113087244, -37.91063290469236], [145.38449191425022, -37.91028172848765], [145.38173723908076, -37.909933908916386], [145.3795220672184, -37.909370004483485], [145.3794814797582, -37.904167213198335], [145.37972837337824, -37.903993707798804], [145.379987821883, -37.90381052638732], [145.38103452294175, -37.90321306483797], [145.38122146528005, -37.90310789956674], [145.38142755053383, -37.902956555192], [145.3815134488306, -37.90283617885768], [145.38159163430848, -37.9025646291032], [145.38155978858742, -37.90235604686079], [145.38148345610455, -37.902107811479425], [145.38082551707458, -37.90083610381622], [145.3806321306912, -37.90049546751518], [145.3804387443078, -37.90015483121414], [145.38012567800155, -37.900332565532366], [145.3765403837662, -37.90513849268973], [145.37610599768567, -37.905324469726246], [145.37573440261406, -37.90552710083577], [145.37537845111808, -37.90572211978726], [145.37130301833062, -37.90634668635252], [145.37101578511138, -37.90653955375497], [145.36988016138258, -37.907241724425795], [145.36957546400188, -37.907422311657236], [145.36940194241052, -37.9075299902821], [145.36922841595154, -37.90763879280198], [145.36906667626081, -37.90774077262618], [145.36377795853716, -37.90605395077289], [145.36378175173655, -37.90351093651574], [145.36415883413795, -37.901247784589145], [145.36450893180543, -37.900559291239766], [145.3660882483667, -37.89862662247802], [145.36622846694553, -37.898473467695865], [145.36671505424658, -37.897820985661944], [145.3668490178197, -37.897671006757975], [145.36697030426154, -37.89753549665095], [145.366983139385, -37.89752051155552], [145.3670936873771, -37.89737843829359], [145.36720423536917, -37.89723636503165], [145.36731193597703, -37.89709785698219], [145.36751680444857, -37.89684777130894], [145.36761468645335, -37.89673554693619], [145.36771701782078, -37.89661801870645], [145.36782038371499, -37.89649863616687], [145.36789915239316, -37.89638814145517], [145.36797560631857, -37.89627664108657], [145.36806903922775, -37.89604932983028], [145.3681497326885, -37.89578288329698], [145.3681752509276, -37.895434661778545], [145.36823704737918, -37.894874890605315], [145.36827779137707, -37.89461917262428], [145.36980268072853, -37.89082604672933], [145.36994849030677, -37.890542871310785], [145.36966847159428, -37.887843964278474], [145.36937354185605, -37.88763752675884], [145.36917919769488, -37.887915179157886], [145.36898485353368, -37.888192831556935], [145.36880994833118, -37.888460484803915], [145.36876703298597, -37.88852619892626], [145.3687241176408, -37.88859191304859], [145.3686382869504, -37.88872334129325], [145.36855245626, -37.88885476953792], [145.36844926513643, -37.889009235975465], [145.36834598863084, -37.88916384043538], [145.3682422392937, -37.8893191563882], [145.36813848995658, -37.88947447234106], [145.36803474061944, -37.889629788293874], [145.3679309912823, -37.88978510424671], [145.36787911661375, -37.88986276222314], [145.36782724194518, -37.88994042019957], [145.36772349260804, -37.89009573615239], [145.36350754173384, -37.892744477742724], [145.36185493308298, -37.89538887994891], [145.35744848886952, -37.893229304040744], [145.3572630942886, -37.89238266834316], [145.35720113029194, -37.892211615426454], [145.3571701482936, -37.89212608896812], [145.3571092921884, -37.89198794935024], [145.3570291391038, -37.89179771219034], [145.35529166945676, -37.88845503532425], [145.35676638208486, -37.884058610988866], [145.35673774494296, -37.883699751804635], [145.35675525621366, -37.882407515123695], [145.35656668199385, -37.882100856088904], [145.35168983942296, -37.87897065938042], [145.35148194236353, -37.879184402402856], [145.35135106707847, -37.879426109682946], [145.35130524835833, -37.87971591716886], [145.3513328743586, -37.879938651754635], [145.3512633096704, -37.88300303316664], [145.34590956455213, -37.882809719586625], [145.3446029337144, -37.88094155992324], [145.3445627961377, -37.87901204784712], [145.34246575194445, -37.8779109008893], [145.3415982614055, -37.87819592121738], [145.34140724800235, -37.87831567997801], [145.3409143233573, -37.878606935323056], [145.34060577618143, -37.878782396500036], [145.34049402227214, -37.878870480441826], [145.3403588070251, -37.8790630862016], [145.3374238283777, -37.88129669068813], [145.33157915290417, -37.880262674692226], [145.33122407890664, -37.88020332440755], [145.3253661583685, -37.87952447022715], [145.3250921571023, -37.87926809194988], [145.32406993079425, -37.879516202597884], [145.318582669975, -37.88133645644257], [145.31822296815056, -37.881351105589445], [145.31619880022288, -37.881995810335674], [145.3161284703416, -37.88225988250749], [145.31605814046029, -37.88252395467931], [145.31604093292668, -37.882650281710326], [145.31611941972068, -37.88336945783957], [145.3162507756549, -37.88375437531202], [145.3164548031953, -37.88456745634739], [145.31651470353776, -37.88479092388501], [145.31659501604952, -37.885160448431314], [145.31662304885964, -37.88534149754386], [145.31673178664877, -37.88574388581002], [145.316836281044, -37.886126379999965], [145.3129499365706, -37.89050146979244], [145.311445253588, -37.889437048028654], [145.3113254744621, -37.88937650988981], [145.31047769056835, -37.88914924025927], [145.30631610536318, -37.890640683148206], [145.30458803886674, -37.891376772593226], [145.30380699674708, -37.89180894991226], [145.3022964301676, -37.894474421212564], [145.3018303015242, -37.89840882153545]]], &quot;type&quot;: &quot;Polygon&quot;}, &quot;reachfactor&quot;: 0.0, &quot;value&quot;: 3000.0}], &quot;isochronesCount&quot;: 5, &quot;travellerId&quot;: 0}], &quot;isochronesCount&quot;: 5}, &quot;isochroneRequest&quot;: {&quot;areaUnits&quot;: null, &quot;attributes&quot;: [&quot;total_pop&quot;], &quot;calcMethod&quot;: &quot;fastisochrone&quot;, &quot;id&quot;: null, &quot;includeIntersections&quot;: false, &quot;locations&quot;: [{&quot;x&quot;: 145.342995, &quot;y&quot;: -37.908118, &quot;z&quot;: &quot;NaN&quot;}], &quot;profilesForAllTravellers&quot;: [&quot;foot-walking&quot;], &quot;travellers&quot;: [{&quot;id&quot;: &quot;0&quot;, &quot;location&quot;: {&quot;x&quot;: 145.342995, &quot;y&quot;: -37.908118, &quot;z&quot;: &quot;NaN&quot;}, &quot;locationType&quot;: &quot;start&quot;, &quot;maximumRange&quot;: 3000.0, &quot;rangeType&quot;: &quot;TIME&quot;, &quot;ranges&quot;: [600.0, 1200.0, 1800.0, 2400.0, 3000.0], &quot;routeSearchParameters&quot;: {&quot;alternativeRoutesCount&quot;: -1, &quot;alternativeRoutesShareFactor&quot;: 0.6, &quot;alternativeRoutesWeightFactor&quot;: 1.4, &quot;arrival&quot;: null, &quot;avoidAreas&quot;: null, &quot;avoidBorders&quot;: &quot;NONE&quot;, &quot;avoidCountries&quot;: null, &quot;avoidFeatureTypes&quot;: 0, &quot;bearings&quot;: null, &quot;considerTurnRestrictions&quot;: false, &quot;departure&quot;: null, &quot;extraInfo&quot;: 0, &quot;flexibleMode&quot;: false, &quot;maximumRadiuses&quot;: null, &quot;maximumSpeed&quot;: 0.0, &quot;optimized&quot;: true, &quot;options&quot;: null, &quot;profileParameters&quot;: null, &quot;profileType&quot;: 20, &quot;profileTypeDriving&quot;: false, &quot;profileTypeHeavyVehicle&quot;: false, &quot;roundTripLength&quot;: -1.0, &quot;roundTripPoints&quot;: 2, &quot;roundTripSeed&quot;: -1, &quot;suppressWarnings&quot;: false, &quot;timeDependent&quot;: false, &quot;vehicleType&quot;: 0, &quot;weightingMethod&quot;: 1}}], &quot;units&quot;: null, &quot;valid&quot;: true, &quot;weightingsForAllTravellers&quot;: [&quot;fastest&quot;]}, &quot;locations&quot;: [[145.342995, -37.908118]], &quot;profile&quot;: &quot;foot-walking&quot;, &quot;range&quot;: [600.0, 1200.0, 1800.0, 2400.0, 3000.0], &quot;range_type&quot;: &quot;time&quot;}, &quot;service&quot;: &quot;isochrones&quot;, &quot;timestamp&quot;: 1664071823521}, &quot;type&quot;: &quot;FeatureCollection&quot;});\n",
       "\n",
       "        \n",
       "    \n",
       "            var marker_f4ccd7e537b1fdf54ac4062d65d6382a = L.marker(\n",
       "                [-37.9081180979339, 145.34299490332074],\n",
       "                {}\n",
       "            ).addTo(map_8045a151a371d0cc6bac0605f2be1698);\n",
       "        \n",
       "    \n",
       "            var circle_dcc11930469082138f37edf6356880ae = L.circle(\n",
       "                [-37.90420868347529, 145.33074886273272],\n",
       "                {&quot;bubblingMouseEvents&quot;: true, &quot;color&quot;: &quot;#3388ff&quot;, &quot;dashArray&quot;: null, &quot;dashOffset&quot;: null, &quot;fill&quot;: true, &quot;fillColor&quot;: &quot;#3388ff&quot;, &quot;fillOpacity&quot;: 0.2, &quot;fillRule&quot;: &quot;evenodd&quot;, &quot;lineCap&quot;: &quot;round&quot;, &quot;lineJoin&quot;: &quot;round&quot;, &quot;opacity&quot;: 1.0, &quot;radius&quot;: 250, &quot;stroke&quot;: true, &quot;weight&quot;: 3}\n",
       "            ).addTo(map_8045a151a371d0cc6bac0605f2be1698);\n",
       "        \n",
       "    \n",
       "        var popup_e3c44f97206f88aa58ae7bc133e0ce56 = L.popup({&quot;maxWidth&quot;: &quot;100%&quot;});\n",
       "\n",
       "        \n",
       "\n",
       "        circle_dcc11930469082138f37edf6356880ae.bindPopup(popup_e3c44f97206f88aa58ae7bc133e0ce56)\n",
       "        ;\n",
       "\n",
       "        \n",
       "    \n",
       "&lt;/script&gt;\" style=\"position:absolute;width:100%;height:100%;left:0;top:0;border:none !important;\" allowfullscreen webkitallowfullscreen mozallowfullscreen></iframe></div></div>"
      ],
      "text/plain": [
       "<folium.folium.Map at 0x7f8bbed14130>"
      ]
     },
     "execution_count": 16,
     "metadata": {},
     "output_type": "execute_result"
    }
   ],
   "source": [
    "\n",
    "IDs = [\"45793\", \"15351\", \"19845\"]    # more examples can be added but it may make the visualisation more difficult to interpret\n",
    "minutes = 40\n",
    "\n",
    "# set up folium map\n",
    "map = folium.Map(location=[-37.78, 145.29], zoom_start=9)\n",
    "\n",
    "def style_func(x):\n",
    "\n",
    "    distance = int(x['properties']['value'])\n",
    "\n",
    "    if distance == 600:\n",
    "        return {'fillColor': 'none', 'color': 'blue', 'weight': 5} \n",
    "    elif distance == 1200:\n",
    "        return {'fillColor': 'none', 'color': 'green', 'weight': 5}\n",
    "    elif distance == 1800:\n",
    "        return {'fillColor': 'none', 'color': 'yellow', 'weight': 5}\n",
    "    elif distance == 2400:\n",
    "        return {'fillColor': 'none', 'color': 'orange', 'weight': 5}\n",
    "    elif distance == 3000:\n",
    "        return {'fillColor': 'none', 'color': 'red', 'weight': 5}\n",
    "    else:\n",
    "        return {'fillColor': 'none', 'color': 'black', 'weight': 5}\n",
    "\n",
    "\n",
    "for STOP_ID in IDs:\n",
    "    with open(f'../data/curated/isochrones/{STOP_ID}.json', 'r') as f:\n",
    "        geojson = json.loads(f.read())\n",
    "\n",
    "    point = geojson['features'][0]['properties']['center'][::-1]\n",
    "\n",
    "    folium.features.GeoJson(geojson, style_function=style_func).add_to(map) \n",
    "    folium.map.Marker(point).add_to(map)\n",
    "\n",
    "    suburbs = matrix.query(\"train_station_id == @STOP_ID and duration_mins <= @minutes\").values[:,0]\n",
    "    for s in suburbs:\n",
    "        sub = vic_sf.loc[vic_sf['SA2_NAME21'] == s]\n",
    "        name = sub['SA2_NAME21']\n",
    "        pdgeo = sub['geometry'].to_crs('+proj=cea').centroid.to_crs(sub['geometry'].crs)\n",
    "        folium.Circle([pdgeo.y, pdgeo.x], 250, fill=True).add_child(folium.Popup(name)).add_to(map)\n",
    "\n",
    "map"
   ]
  },
  {
   "cell_type": "markdown",
   "id": "43e18686",
   "metadata": {},
   "source": [
    "#### Join Property Data and Isochromes using Sjoin"
   ]
  },
  {
   "cell_type": "code",
   "execution_count": 17,
   "id": "12aa1c6c",
   "metadata": {},
   "outputs": [],
   "source": [
    "property_df = pd.read_csv(\"../data/raw/property_and_income.csv\")\n",
    "property_df = property_df.rename(columns={\"name\": \"address\"})"
   ]
  },
  {
   "cell_type": "code",
   "execution_count": 18,
   "id": "24383d56",
   "metadata": {},
   "outputs": [],
   "source": [
    "property_gdf = gpd.GeoDataFrame(property_df, geometry=gpd.points_from_xy(property_df.longitude, property_df.latitude))"
   ]
  },
  {
   "cell_type": "code",
   "execution_count": 19,
   "id": "36ea47aa",
   "metadata": {},
   "outputs": [
    {
     "name": "stderr",
     "output_type": "stream",
     "text": [
      "/home/sesshah/anaconda3/lib/python3.9/site-packages/IPython/core/interactiveshell.py:3309: FutureWarning: The `op` parameter is deprecated and will be removed in a future release. Please use the `predicate` parameter instead.\n",
      "  if await self.run_code(code, result, async_=asy):\n"
     ]
    }
   ],
   "source": [
    "gdf_isochrones.set_crs(epsg=7844, inplace=True)\n",
    "property_gdf.set_crs(epsg=7844, inplace=True)\n",
    "\n",
    "matrix_property = gpd.sjoin(gdf_isochrones, property_gdf, how='inner', op='contains')\n",
    "\n",
    "matrix_property = matrix_property.reset_index()\n",
    "matrix_property = matrix_property.rename(columns={'value': 'duration_mins', 'name': 'train_station_id'})\n",
    "matrix_property['duration_mins'] = matrix_property.duration_mins/60"
   ]
  },
  {
   "cell_type": "code",
   "execution_count": 26,
   "id": "7046c529",
   "metadata": {},
   "outputs": [],
   "source": [
    "out_matrix = matrix_property.loc[matrix_property.groupby('address').duration_mins.idxmin()]"
   ]
  },
  {
   "cell_type": "code",
   "execution_count": 27,
   "id": "d17785e5",
   "metadata": {},
   "outputs": [
    {
     "data": {
      "text/plain": [
       "10.0    3833\n",
       "20.0    3590\n",
       "30.0    1569\n",
       "40.0     823\n",
       "50.0     513\n",
       "Name: duration_mins, dtype: int64"
      ]
     },
     "execution_count": 27,
     "metadata": {},
     "output_type": "execute_result"
    }
   ],
   "source": [
    "out_matrix['duration_mins'].value_counts()"
   ]
  },
  {
   "cell_type": "code",
   "execution_count": 28,
   "id": "0c7bc0ed",
   "metadata": {},
   "outputs": [],
   "source": [
    "out_matrix = out_matrix.drop(['Unnamed: 0', 'level_0', 'geometry', 'group_index', 'center', \n",
    "                              'total_pop', 'total_pop', 'train_station_id', 'index_right', 'geometry'], axis=1)"
   ]
  },
  {
   "cell_type": "code",
   "execution_count": 29,
   "id": "062767cf",
   "metadata": {},
   "outputs": [],
   "source": [
    "# move duration_mins to end of the df\n",
    "cols = list(out_matrix.columns.values) \n",
    "cols.pop(cols.index('duration_mins'))\n",
    "out_matrix = out_matrix[cols+['duration_mins']]"
   ]
  },
  {
   "cell_type": "code",
   "execution_count": 34,
   "id": "3b76e410",
   "metadata": {},
   "outputs": [],
   "source": [
    "out_matrix.shape\n",
    "\n",
    "out_matrix.to_csv('../data/curated/property_isochromes.csv', index=False)"
   ]
  }
 ],
 "metadata": {
  "kernelspec": {
   "display_name": "Python 3 (ipykernel)",
   "language": "python",
   "name": "python3"
  },
  "language_info": {
   "codemirror_mode": {
    "name": "ipython",
    "version": 3
   },
   "file_extension": ".py",
   "mimetype": "text/x-python",
   "name": "python",
   "nbconvert_exporter": "python",
   "pygments_lexer": "ipython3",
   "version": "3.9.12"
  },
  "vscode": {
   "interpreter": {
    "hash": "916dbcbb3f70747c44a77c7bcd40155683ae19c65e1c03b4aa3499c5328201f1"
   }
  }
 },
 "nbformat": 4,
 "nbformat_minor": 5
}

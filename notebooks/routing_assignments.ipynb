{
 "cells": [
  {
   "cell_type": "markdown",
   "id": "f504639f",
   "metadata": {},
   "source": [
    "# ALL CODE TAKEN FROM OPENROUTESERVICES EXAMPLE\n",
    "\n",
    "## please modify before using. \n",
    "\n",
    "\n",
    "## please read: \n",
    "https://openrouteservice.org/2187-2/\n",
    "https://saralgyaan.com/posts/set-passwords-and-secret-keys-in-environment-variables-maclinuxwindows-python-quicktip/\n",
    "https://openrouteservice.org/dev/#/api-docs/optimization/post"
   ]
  },
  {
   "cell_type": "code",
   "execution_count": 2,
   "id": "3305a5aa",
   "metadata": {},
   "outputs": [],
   "source": [
    "import folium\n",
    "\n",
    "from openrouteservice import client"
   ]
  },
  {
   "cell_type": "code",
   "execution_count": null,
   "id": "240efddd",
   "metadata": {},
   "outputs": [],
   "source": [
    "api_key = 'your_key'  # Provide your personal API key\n",
    "ors = client.Client(key=api_key)\n",
    "# Set up folium map\n",
    "map1 = folium.Map(tiles='Stamen Toner', location=([37.738684, -122.450523]), zoom_start=12)\n",
    "\n",
    "# Set up the apartment dictionary with real coordinates\n",
    "apartments = {'first': {'location': [-122.430954, 37.792965]},\n",
    "              'second': {'location': [-122.501636, 37.748653]},\n",
    "              'third': {'location': [-122.446629, 37.736928]}\n",
    "              }\n",
    "\n",
    "# Request of isochrones with 15 minute on foot.\n",
    "params_iso = {'profile': 'foot-walking',\n",
    "              'range': [900],  # 900/60 = 15 minutes\n",
    "              'attributes': ['total_pop']  # Get population count for isochrones\n",
    "              }\n",
    "\n",
    "for name, apt in apartments.items():\n",
    "    params_iso['locations'] = [apt['location']]  # Add apartment coords to request parameters\n",
    "    apt['iso'] = ors.isochrones(**params_iso)  # Perform isochrone request\n",
    "    folium.features.GeoJson(apt['iso']).add_to(map1)  # Add GeoJson to map\n",
    "\n",
    "    folium.map.Marker(list(reversed(apt['location'])),  # reverse coords due to weird folium lat/lon syntax\n",
    "                      icon=folium.Icon(color='lightgray',\n",
    "                                       icon_color='#cc0000',\n",
    "                                       icon='home',\n",
    "                                       prefix='fa',\n",
    "                                       ),\n",
    "                      popup=name,\n",
    "                      ).add_to(map1)  # Add apartment locations to map\n",
    "\n",
    "map1"
   ]
  },
  {
   "cell_type": "code",
   "execution_count": null,
   "id": "64d83042",
   "metadata": {},
   "outputs": [],
   "source": [
    "# Common request parameters\n",
    "params_poi = {'request': 'pois',\n",
    "              'sortby': 'distance'}\n",
    "\n",
    "# POI categories according to\n",
    "# https://giscience.github.io/openrouteservice/documentation/Places.html\n",
    "categories_poi = {'kindergarten': [153],\n",
    "                  'supermarket': [518],\n",
    "                  'hairdresser': [395]}\n",
    "\n",
    "for name, apt in apartments.items():\n",
    "    apt['categories'] = dict()  # Store in pois dict for easier retrieval\n",
    "    params_poi['geojson'] = apt['iso']['features'][0]['geometry']\n",
    "    print(\"\\n{} apartment\".format(name))\n",
    "\n",
    "    for typ, category in categories_poi.items():\n",
    "        params_poi['filter_category_ids'] = category\n",
    "        apt['categories'][typ] = dict()\n",
    "        apt['categories'][typ]['geojson'] = ors.places(**params_poi)['features']  # Actual POI request\n",
    "        print(f\"\\t{typ}: {len(apt['categories'][typ]['geojson'])}\")"
   ]
  },
  {
   "cell_type": "code",
   "execution_count": null,
   "id": "921654a6",
   "metadata": {},
   "outputs": [],
   "source": [
    "# Set up common request parameters\n",
    "params_route = {'profile': 'foot-walking',\n",
    "                'format_out': 'geojson',\n",
    "                'geometry': 'true',\n",
    "                'format': 'geojson',\n",
    "                'instructions': 'false',\n",
    "                }\n",
    "\n",
    "# Set up dict for font-awesome\n",
    "style_dict = {'kindergarten': 'child',\n",
    "              'supermarket': 'shopping-cart',\n",
    "              'hairdresser': 'scissors'\n",
    "              }\n",
    "\n",
    "# Store all routes from all apartments to POIs\n",
    "for apt in apartments.values():\n",
    "    for cat, pois in apt['categories'].items():\n",
    "        pois['durations'] = []\n",
    "        for poi in pois['geojson']:\n",
    "            poi_coords = poi['geometry']['coordinates']\n",
    "\n",
    "            # Perform actual request\n",
    "            params_route['coordinates'] = [apt['location'],\n",
    "                                           poi_coords\n",
    "                                           ]\n",
    "            json_route = ors.directions(**params_route)\n",
    "\n",
    "            folium.features.GeoJson(json_route).add_to(map1)\n",
    "            folium.map.Marker(list(reversed(poi_coords)),\n",
    "                              icon=folium.Icon(color='white',\n",
    "                                               icon_color='#1a1aff',\n",
    "                                               icon=style_dict[cat],\n",
    "                                               prefix='fa'\n",
    "                                               )\n",
    "                              ).add_to(map1)\n",
    "\n",
    "            poi_duration = json_route['features'][0]['properties']['summary']['duration']\n",
    "            pois['durations'].append(poi_duration)  # Record durations of routes\n",
    "\n",
    "map1"
   ]
  },
  {
   "cell_type": "code",
   "execution_count": null,
   "id": "d6e09a35",
   "metadata": {},
   "outputs": [],
   "source": [
    "# Sum up the closest POIs to each apartment\n",
    "for name, apt in apartments.items():\n",
    "    apt['shortest_sum'] = sum([min(cat['durations']) for cat in apt['categories'].values()])\n",
    "    print(f\"{name} apartment: {round(apt['shortest_sum'] / 60, 1)} min\"\n",
    "          )"
   ]
  }
 ],
 "metadata": {
  "kernelspec": {
   "display_name": "Python 3 (ipykernel)",
   "language": "python",
   "name": "python3"
  },
  "language_info": {
   "codemirror_mode": {
    "name": "ipython",
    "version": 3
   },
   "file_extension": ".py",
   "mimetype": "text/x-python",
   "name": "python",
   "nbconvert_exporter": "python",
   "pygments_lexer": "ipython3",
   "version": "3.9.12"
  }
 },
 "nbformat": 4,
 "nbformat_minor": 5
}

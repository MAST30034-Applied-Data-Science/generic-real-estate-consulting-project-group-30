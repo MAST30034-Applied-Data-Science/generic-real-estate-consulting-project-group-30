{
 "cells": [
  {
   "cell_type": "code",
   "execution_count": 2,
   "metadata": {},
   "outputs": [],
   "source": [
    "# imports\n",
    "import pandas as pd"
   ]
  },
  {
   "cell_type": "code",
   "execution_count": 3,
   "metadata": {},
   "outputs": [],
   "source": [
    "# read datasets\n",
    "property_df = pd.read_csv(\"../data/raw/full_property_zones.csv\")\n",
    "income_and_pop = pd.read_csv(\"../data/raw/income_and_pop.csv\")"
   ]
  },
  {
   "cell_type": "code",
   "execution_count": 5,
   "metadata": {},
   "outputs": [
    {
     "data": {
      "text/html": [
       "<div>\n",
       "<style scoped>\n",
       "    .dataframe tbody tr th:only-of-type {\n",
       "        vertical-align: middle;\n",
       "    }\n",
       "\n",
       "    .dataframe tbody tr th {\n",
       "        vertical-align: top;\n",
       "    }\n",
       "\n",
       "    .dataframe thead th {\n",
       "        text-align: right;\n",
       "    }\n",
       "</style>\n",
       "<table border=\"1\" class=\"dataframe\">\n",
       "  <thead>\n",
       "    <tr style=\"text-align: right;\">\n",
       "      <th></th>\n",
       "      <th>Unnamed: 0</th>\n",
       "      <th>index</th>\n",
       "      <th>name</th>\n",
       "      <th>cost_text</th>\n",
       "      <th>Bed</th>\n",
       "      <th>Bath</th>\n",
       "      <th>Park</th>\n",
       "      <th>property_type</th>\n",
       "      <th>desc_head</th>\n",
       "      <th>LocID</th>\n",
       "      <th>SA2_CODE_2021</th>\n",
       "      <th>Median_tot_prsnl_inc_weekly</th>\n",
       "      <th>Median_rent_weekly</th>\n",
       "      <th>Median_tot_fam_inc_weekly</th>\n",
       "      <th>Median_tot_hhd_inc_weekly</th>\n",
       "      <th>total_population</th>\n",
       "      <th>geometry</th>\n",
       "      <th>SA2_NAME21</th>\n",
       "    </tr>\n",
       "  </thead>\n",
       "  <tbody>\n",
       "    <tr>\n",
       "      <th>0</th>\n",
       "      <td>0.0</td>\n",
       "      <td>https://www.domain.com.au/3502-14-16-the-espla...</td>\n",
       "      <td>3502/14-16 The Esplanade St Kilda VIC 3182</td>\n",
       "      <td>5000.0</td>\n",
       "      <td>1.0</td>\n",
       "      <td>1.0</td>\n",
       "      <td>1.0</td>\n",
       "      <td>Apartment / Unit / Flat</td>\n",
       "      <td>noth els compar</td>\n",
       "      <td>206051514.0</td>\n",
       "      <td>206051514.0</td>\n",
       "      <td>1236.0</td>\n",
       "      <td>392.0</td>\n",
       "      <td>2787.0</td>\n",
       "      <td>1849.0</td>\n",
       "      <td>14408.0</td>\n",
       "      <td>POLYGON ((144.97031393029542 -37.8607738281944...</td>\n",
       "      <td>St Kilda - West</td>\n",
       "    </tr>\n",
       "    <tr>\n",
       "      <th>1</th>\n",
       "      <td>18.0</td>\n",
       "      <td>https://www.domain.com.au/2202-14-16-the-espla...</td>\n",
       "      <td>2202/14-16 The Esplanade St Kilda VIC 3182</td>\n",
       "      <td>3000.0</td>\n",
       "      <td>3.0</td>\n",
       "      <td>2.0</td>\n",
       "      <td>2.0</td>\n",
       "      <td>Apartment / Unit / Flat</td>\n",
       "      <td>exclus new address welcom saint</td>\n",
       "      <td>206051514.0</td>\n",
       "      <td>206051514.0</td>\n",
       "      <td>1236.0</td>\n",
       "      <td>392.0</td>\n",
       "      <td>2787.0</td>\n",
       "      <td>1849.0</td>\n",
       "      <td>14408.0</td>\n",
       "      <td>POLYGON ((144.97031393029542 -37.8607738281944...</td>\n",
       "      <td>St Kilda - West</td>\n",
       "    </tr>\n",
       "    <tr>\n",
       "      <th>2</th>\n",
       "      <td>20.0</td>\n",
       "      <td>https://www.domain.com.au/2401-14-16-the-espla...</td>\n",
       "      <td>2401/14-16 The Esplanade St Kilda VIC 3182</td>\n",
       "      <td>2800.0</td>\n",
       "      <td>3.0</td>\n",
       "      <td>2.0</td>\n",
       "      <td>2.0</td>\n",
       "      <td>Apartment / Unit / Flat</td>\n",
       "      <td>beach view luxuri throughout</td>\n",
       "      <td>206051514.0</td>\n",
       "      <td>206051514.0</td>\n",
       "      <td>1236.0</td>\n",
       "      <td>392.0</td>\n",
       "      <td>2787.0</td>\n",
       "      <td>1849.0</td>\n",
       "      <td>14408.0</td>\n",
       "      <td>POLYGON ((144.97031393029542 -37.8607738281944...</td>\n",
       "      <td>St Kilda - West</td>\n",
       "    </tr>\n",
       "    <tr>\n",
       "      <th>3</th>\n",
       "      <td>22.0</td>\n",
       "      <td>https://www.domain.com.au/2601-14-16-the-espla...</td>\n",
       "      <td>2601/14-16 The Esplanade St Kilda VIC 3182</td>\n",
       "      <td>2700.0</td>\n",
       "      <td>3.0</td>\n",
       "      <td>2.0</td>\n",
       "      <td>2.0</td>\n",
       "      <td>Apartment / Unit / Flat</td>\n",
       "      <td>live life like welcom saint</td>\n",
       "      <td>206051514.0</td>\n",
       "      <td>206051514.0</td>\n",
       "      <td>1236.0</td>\n",
       "      <td>392.0</td>\n",
       "      <td>2787.0</td>\n",
       "      <td>1849.0</td>\n",
       "      <td>14408.0</td>\n",
       "      <td>POLYGON ((144.97031393029542 -37.8607738281944...</td>\n",
       "      <td>St Kilda - West</td>\n",
       "    </tr>\n",
       "    <tr>\n",
       "      <th>4</th>\n",
       "      <td>29.0</td>\n",
       "      <td>https://www.domain.com.au/3203-14-16-the-espla...</td>\n",
       "      <td>3203/14-16 The Esplanade St Kilda VIC 3182</td>\n",
       "      <td>2500.0</td>\n",
       "      <td>3.0</td>\n",
       "      <td>3.0</td>\n",
       "      <td>2.0</td>\n",
       "      <td>Apartment / Unit / Flat</td>\n",
       "      <td>live life like exclus leas opportun ocean view</td>\n",
       "      <td>206051514.0</td>\n",
       "      <td>206051514.0</td>\n",
       "      <td>1236.0</td>\n",
       "      <td>392.0</td>\n",
       "      <td>2787.0</td>\n",
       "      <td>1849.0</td>\n",
       "      <td>14408.0</td>\n",
       "      <td>POLYGON ((144.97031393029542 -37.8607738281944...</td>\n",
       "      <td>St Kilda - West</td>\n",
       "    </tr>\n",
       "  </tbody>\n",
       "</table>\n",
       "</div>"
      ],
      "text/plain": [
       "   Unnamed: 0                                              index  \\\n",
       "0         0.0  https://www.domain.com.au/3502-14-16-the-espla...   \n",
       "1        18.0  https://www.domain.com.au/2202-14-16-the-espla...   \n",
       "2        20.0  https://www.domain.com.au/2401-14-16-the-espla...   \n",
       "3        22.0  https://www.domain.com.au/2601-14-16-the-espla...   \n",
       "4        29.0  https://www.domain.com.au/3203-14-16-the-espla...   \n",
       "\n",
       "                                         name  cost_text  Bed  Bath  Park  \\\n",
       "0  3502/14-16 The Esplanade St Kilda VIC 3182     5000.0  1.0   1.0   1.0   \n",
       "1  2202/14-16 The Esplanade St Kilda VIC 3182     3000.0  3.0   2.0   2.0   \n",
       "2  2401/14-16 The Esplanade St Kilda VIC 3182     2800.0  3.0   2.0   2.0   \n",
       "3  2601/14-16 The Esplanade St Kilda VIC 3182     2700.0  3.0   2.0   2.0   \n",
       "4  3203/14-16 The Esplanade St Kilda VIC 3182     2500.0  3.0   3.0   2.0   \n",
       "\n",
       "             property_type                                       desc_head  \\\n",
       "0  Apartment / Unit / Flat                                 noth els compar   \n",
       "1  Apartment / Unit / Flat                 exclus new address welcom saint   \n",
       "2  Apartment / Unit / Flat                    beach view luxuri throughout   \n",
       "3  Apartment / Unit / Flat                     live life like welcom saint   \n",
       "4  Apartment / Unit / Flat  live life like exclus leas opportun ocean view   \n",
       "\n",
       "         LocID  SA2_CODE_2021  Median_tot_prsnl_inc_weekly  \\\n",
       "0  206051514.0    206051514.0                       1236.0   \n",
       "1  206051514.0    206051514.0                       1236.0   \n",
       "2  206051514.0    206051514.0                       1236.0   \n",
       "3  206051514.0    206051514.0                       1236.0   \n",
       "4  206051514.0    206051514.0                       1236.0   \n",
       "\n",
       "   Median_rent_weekly  Median_tot_fam_inc_weekly  Median_tot_hhd_inc_weekly  \\\n",
       "0               392.0                     2787.0                     1849.0   \n",
       "1               392.0                     2787.0                     1849.0   \n",
       "2               392.0                     2787.0                     1849.0   \n",
       "3               392.0                     2787.0                     1849.0   \n",
       "4               392.0                     2787.0                     1849.0   \n",
       "\n",
       "   total_population                                           geometry  \\\n",
       "0           14408.0  POLYGON ((144.97031393029542 -37.8607738281944...   \n",
       "1           14408.0  POLYGON ((144.97031393029542 -37.8607738281944...   \n",
       "2           14408.0  POLYGON ((144.97031393029542 -37.8607738281944...   \n",
       "3           14408.0  POLYGON ((144.97031393029542 -37.8607738281944...   \n",
       "4           14408.0  POLYGON ((144.97031393029542 -37.8607738281944...   \n",
       "\n",
       "        SA2_NAME21  \n",
       "0  St Kilda - West  \n",
       "1  St Kilda - West  \n",
       "2  St Kilda - West  \n",
       "3  St Kilda - West  \n",
       "4  St Kilda - West  "
      ]
     },
     "execution_count": 5,
     "metadata": {},
     "output_type": "execute_result"
    }
   ],
   "source": [
    "dfinal = property_df.merge(income_and_pop, how='outer', left_on='LocID', right_on='SA2_CODE_2021')\n",
    "\n",
    "dfinal.head()"
   ]
  },
  {
   "cell_type": "code",
   "execution_count": 6,
   "metadata": {},
   "outputs": [
    {
     "data": {
      "text/plain": [
       "Unnamed: 0                     float64\n",
       "index                           object\n",
       "name                            object\n",
       "cost_text                      float64\n",
       "Bed                            float64\n",
       "Bath                           float64\n",
       "Park                           float64\n",
       "property_type                   object\n",
       "desc_head                       object\n",
       "LocID                          float64\n",
       "SA2_CODE_2021                  float64\n",
       "Median_tot_prsnl_inc_weekly    float64\n",
       "Median_rent_weekly             float64\n",
       "Median_tot_fam_inc_weekly      float64\n",
       "Median_tot_hhd_inc_weekly      float64\n",
       "total_population               float64\n",
       "geometry                        object\n",
       "SA2_NAME21                      object\n",
       "dtype: object"
      ]
     },
     "execution_count": 6,
     "metadata": {},
     "output_type": "execute_result"
    }
   ],
   "source": [
    "dfinal.dtypes"
   ]
  },
  {
   "cell_type": "code",
   "execution_count": 9,
   "metadata": {},
   "outputs": [
    {
     "ename": "TypeError",
     "evalue": "Expected bytes or string, got float",
     "output_type": "error",
     "traceback": [
      "\u001b[0;31m---------------------------------------------------------------------------\u001b[0m",
      "\u001b[0;31mTypeError\u001b[0m                                 Traceback (most recent call last)",
      "\u001b[1;32m/mnt/c/Users/andre/Downloads/Unimelb/MAST30034 Applied Data Science/Project 2/notebooks/join_datasets.ipynb Cell 5\u001b[0m in \u001b[0;36m<cell line: 4>\u001b[0;34m()\u001b[0m\n\u001b[1;32m      <a href='vscode-notebook-cell://wsl%2Bubuntu/mnt/c/Users/andre/Downloads/Unimelb/MAST30034%20Applied%20Data%20Science/Project%202/notebooks/join_datasets.ipynb#W4sdnNjb2RlLXJlbW90ZQ%3D%3D?line=0'>1</a>\u001b[0m \u001b[39mimport\u001b[39;00m \u001b[39mgeopandas\u001b[39;00m \u001b[39mas\u001b[39;00m \u001b[39mgpd\u001b[39;00m \n\u001b[1;32m      <a href='vscode-notebook-cell://wsl%2Bubuntu/mnt/c/Users/andre/Downloads/Unimelb/MAST30034%20Applied%20Data%20Science/Project%202/notebooks/join_datasets.ipynb#W4sdnNjb2RlLXJlbW90ZQ%3D%3D?line=2'>3</a>\u001b[0m \u001b[39m# replace object with shapely geometries\u001b[39;00m\n\u001b[0;32m----> <a href='vscode-notebook-cell://wsl%2Bubuntu/mnt/c/Users/andre/Downloads/Unimelb/MAST30034%20Applied%20Data%20Science/Project%202/notebooks/join_datasets.ipynb#W4sdnNjb2RlLXJlbW90ZQ%3D%3D?line=3'>4</a>\u001b[0m dfinal[\u001b[39m'\u001b[39m\u001b[39mgeometry\u001b[39m\u001b[39m'\u001b[39m] \u001b[39m=\u001b[39m gpd\u001b[39m.\u001b[39;49mGeoSeries\u001b[39m.\u001b[39;49mfrom_wkt(dfinal[\u001b[39m'\u001b[39;49m\u001b[39mgeometry\u001b[39;49m\u001b[39m'\u001b[39;49m])\n\u001b[1;32m      <a href='vscode-notebook-cell://wsl%2Bubuntu/mnt/c/Users/andre/Downloads/Unimelb/MAST30034%20Applied%20Data%20Science/Project%202/notebooks/join_datasets.ipynb#W4sdnNjb2RlLXJlbW90ZQ%3D%3D?line=5'>6</a>\u001b[0m df \u001b[39m=\u001b[39m gpd\u001b[39m.\u001b[39mGeoDataFrame(dfinal)\n",
      "File \u001b[0;32m~/.local/lib/python3.8/site-packages/geopandas/geoseries.py:442\u001b[0m, in \u001b[0;36mGeoSeries.from_wkt\u001b[0;34m(cls, data, index, crs, **kwargs)\u001b[0m\n\u001b[1;32m    398\u001b[0m \u001b[39m@classmethod\u001b[39m\n\u001b[1;32m    399\u001b[0m \u001b[39mdef\u001b[39;00m \u001b[39mfrom_wkt\u001b[39m(\u001b[39mcls\u001b[39m, data, index\u001b[39m=\u001b[39m\u001b[39mNone\u001b[39;00m, crs\u001b[39m=\u001b[39m\u001b[39mNone\u001b[39;00m, \u001b[39m*\u001b[39m\u001b[39m*\u001b[39mkwargs):\n\u001b[1;32m    400\u001b[0m     \u001b[39m\"\"\"\u001b[39;00m\n\u001b[1;32m    401\u001b[0m \u001b[39m    Alternate constructor to create a ``GeoSeries``\u001b[39;00m\n\u001b[1;32m    402\u001b[0m \u001b[39m    from a list or array of WKT objects\u001b[39;00m\n\u001b[0;32m   (...)\u001b[0m\n\u001b[1;32m    440\u001b[0m \u001b[39m    dtype: geometry\u001b[39;00m\n\u001b[1;32m    441\u001b[0m \u001b[39m    \"\"\"\u001b[39;00m\n\u001b[0;32m--> 442\u001b[0m     \u001b[39mreturn\u001b[39;00m \u001b[39mcls\u001b[39;49m\u001b[39m.\u001b[39;49m_from_wkb_or_wkb(from_wkt, data, index\u001b[39m=\u001b[39;49mindex, crs\u001b[39m=\u001b[39;49mcrs, \u001b[39m*\u001b[39;49m\u001b[39m*\u001b[39;49mkwargs)\n",
      "File \u001b[0;32m~/.local/lib/python3.8/site-packages/geopandas/geoseries.py:510\u001b[0m, in \u001b[0;36mGeoSeries._from_wkb_or_wkb\u001b[0;34m(cls, from_wkb_or_wkt_function, data, index, crs, **kwargs)\u001b[0m\n\u001b[1;32m    508\u001b[0m         index \u001b[39m=\u001b[39m data\u001b[39m.\u001b[39mindex\n\u001b[1;32m    509\u001b[0m     data \u001b[39m=\u001b[39m data\u001b[39m.\u001b[39mvalues\n\u001b[0;32m--> 510\u001b[0m \u001b[39mreturn\u001b[39;00m \u001b[39mcls\u001b[39m(from_wkb_or_wkt_function(data, crs\u001b[39m=\u001b[39;49mcrs), index\u001b[39m=\u001b[39mindex, \u001b[39m*\u001b[39m\u001b[39m*\u001b[39mkwargs)\n",
      "File \u001b[0;32m~/.local/lib/python3.8/site-packages/geopandas/array.py:202\u001b[0m, in \u001b[0;36mfrom_wkt\u001b[0;34m(data, crs)\u001b[0m\n\u001b[1;32m    188\u001b[0m \u001b[39mdef\u001b[39;00m \u001b[39mfrom_wkt\u001b[39m(data, crs\u001b[39m=\u001b[39m\u001b[39mNone\u001b[39;00m):\n\u001b[1;32m    189\u001b[0m     \u001b[39m\"\"\"\u001b[39;00m\n\u001b[1;32m    190\u001b[0m \u001b[39m    Convert a list or array of WKT objects to a GeometryArray.\u001b[39;00m\n\u001b[1;32m    191\u001b[0m \n\u001b[0;32m   (...)\u001b[0m\n\u001b[1;32m    200\u001b[0m \n\u001b[1;32m    201\u001b[0m \u001b[39m    \"\"\"\u001b[39;00m\n\u001b[0;32m--> 202\u001b[0m     \u001b[39mreturn\u001b[39;00m GeometryArray(vectorized\u001b[39m.\u001b[39;49mfrom_wkt(data), crs\u001b[39m=\u001b[39mcrs)\n",
      "File \u001b[0;32m~/.local/lib/python3.8/site-packages/geopandas/_vectorized.py:200\u001b[0m, in \u001b[0;36mfrom_wkt\u001b[0;34m(data)\u001b[0m\n\u001b[1;32m    196\u001b[0m \u001b[39m\"\"\"\u001b[39;00m\n\u001b[1;32m    197\u001b[0m \u001b[39mConvert a list or array of WKT objects to a np.ndarray[geoms].\u001b[39;00m\n\u001b[1;32m    198\u001b[0m \u001b[39m\"\"\"\u001b[39;00m\n\u001b[1;32m    199\u001b[0m \u001b[39mif\u001b[39;00m compat\u001b[39m.\u001b[39mUSE_PYGEOS:\n\u001b[0;32m--> 200\u001b[0m     \u001b[39mreturn\u001b[39;00m pygeos\u001b[39m.\u001b[39;49mfrom_wkt(data)\n\u001b[1;32m    202\u001b[0m \u001b[39mimport\u001b[39;00m \u001b[39mshapely\u001b[39;00m\u001b[39m.\u001b[39;00m\u001b[39mwkt\u001b[39;00m\n\u001b[1;32m    204\u001b[0m out \u001b[39m=\u001b[39m []\n",
      "File \u001b[0;32m~/.local/lib/python3.8/site-packages/pygeos/io.py:374\u001b[0m, in \u001b[0;36mfrom_wkt\u001b[0;34m(geometry, on_invalid, **kwargs)\u001b[0m\n\u001b[1;32m    370\u001b[0m     \u001b[39mraise\u001b[39;00m \u001b[39mTypeError\u001b[39;00m(\u001b[39m\"\u001b[39m\u001b[39mon_invalid only accepts scalar values\u001b[39m\u001b[39m\"\u001b[39m)\n\u001b[1;32m    372\u001b[0m invalid_handler \u001b[39m=\u001b[39m np\u001b[39m.\u001b[39muint8(DecodingErrorOptions\u001b[39m.\u001b[39mget_value(on_invalid))\n\u001b[0;32m--> 374\u001b[0m \u001b[39mreturn\u001b[39;00m lib\u001b[39m.\u001b[39;49mfrom_wkt(geometry, invalid_handler, \u001b[39m*\u001b[39;49m\u001b[39m*\u001b[39;49mkwargs)\n",
      "\u001b[0;31mTypeError\u001b[0m: Expected bytes or string, got float"
     ]
    }
   ],
   "source": [
    "import geopandas as gpd \n",
    "\n",
    "# replace object with shapely geometries\n",
    "dfinal['geometry'] = gpd.GeoSeries.from_wkt(dfinal['geometry'])\n",
    "\n",
    "df = gpd.GeoDataFrame(dfinal)\n"
   ]
  },
  {
   "cell_type": "code",
   "execution_count": null,
   "metadata": {},
   "outputs": [
    {
     "data": {
      "text/plain": [
       "Unnamed: 0                      float64\n",
       "index                            object\n",
       "name                             object\n",
       "cost_text                       float64\n",
       "Bed                             float64\n",
       "Bath                            float64\n",
       "Park                            float64\n",
       "property_type                    object\n",
       "desc_head                        object\n",
       "LocID                           float64\n",
       "SA2_CODE_2021                   float64\n",
       "Median_tot_prsnl_inc_weekly     float64\n",
       "Median_rent_weekly              float64\n",
       "Median_tot_fam_inc_weekly       float64\n",
       "Median_tot_hhd_inc_weekly       float64\n",
       "total_population                float64\n",
       "geometry                       geometry\n",
       "SA2_NAME21                       object\n",
       "dtype: object"
      ]
     },
     "execution_count": 59,
     "metadata": {},
     "output_type": "execute_result"
    }
   ],
   "source": [
    "df.dtypes"
   ]
  },
  {
   "cell_type": "code",
   "execution_count": 8,
   "metadata": {},
   "outputs": [
    {
     "ename": "NameError",
     "evalue": "name 'df' is not defined",
     "output_type": "error",
     "traceback": [
      "\u001b[0;31m---------------------------------------------------------------------------\u001b[0m",
      "\u001b[0;31mNameError\u001b[0m                                 Traceback (most recent call last)",
      "\u001b[1;32m/mnt/c/Users/andre/Downloads/Unimelb/MAST30034 Applied Data Science/Project 2/notebooks/join_datasets.ipynb Cell 7\u001b[0m in \u001b[0;36m<cell line: 1>\u001b[0;34m()\u001b[0m\n\u001b[0;32m----> <a href='vscode-notebook-cell://wsl%2Bubuntu/mnt/c/Users/andre/Downloads/Unimelb/MAST30034%20Applied%20Data%20Science/Project%202/notebooks/join_datasets.ipynb#W6sdnNjb2RlLXJlbW90ZQ%3D%3D?line=0'>1</a>\u001b[0m df\u001b[39m.\u001b[39mhead()\n",
      "\u001b[0;31mNameError\u001b[0m: name 'df' is not defined"
     ]
    }
   ],
   "source": [
    "df.head()"
   ]
  },
  {
   "cell_type": "code",
   "execution_count": 60,
   "metadata": {},
   "outputs": [
    {
     "ename": "AttributeError",
     "evalue": "'NoneType' object has no attribute 'centroid'",
     "output_type": "error",
     "traceback": [
      "\u001b[0;31m---------------------------------------------------------------------------\u001b[0m",
      "\u001b[0;31mAttributeError\u001b[0m                            Traceback (most recent call last)",
      "\u001b[0;32m/var/folders/b3/mqwrtgbd6ksd_59nr64r5p6r0000gn/T/ipykernel_72563/1789751326.py\u001b[0m in \u001b[0;36m<module>\u001b[0;34m\u001b[0m\n\u001b[0;32m----> 1\u001b[0;31m \u001b[0mdf\u001b[0m\u001b[0;34m[\u001b[0m\u001b[0;34m'centroid'\u001b[0m\u001b[0;34m]\u001b[0m \u001b[0;34m=\u001b[0m \u001b[0mdf\u001b[0m\u001b[0;34m[\u001b[0m\u001b[0;34m'geometry'\u001b[0m\u001b[0;34m]\u001b[0m\u001b[0;34m.\u001b[0m\u001b[0mapply\u001b[0m\u001b[0;34m(\u001b[0m\u001b[0;32mlambda\u001b[0m \u001b[0mx\u001b[0m\u001b[0;34m:\u001b[0m \u001b[0;34m(\u001b[0m\u001b[0mx\u001b[0m\u001b[0;34m.\u001b[0m\u001b[0mcentroid\u001b[0m\u001b[0;34m.\u001b[0m\u001b[0my\u001b[0m\u001b[0;34m,\u001b[0m \u001b[0mx\u001b[0m\u001b[0;34m.\u001b[0m\u001b[0mcentroid\u001b[0m\u001b[0;34m.\u001b[0m\u001b[0mx\u001b[0m\u001b[0;34m)\u001b[0m\u001b[0;34m)\u001b[0m\u001b[0;34m\u001b[0m\u001b[0;34m\u001b[0m\u001b[0m\n\u001b[0m",
      "\u001b[0;32m/opt/anaconda3/lib/python3.9/site-packages/geopandas/geoseries.py\u001b[0m in \u001b[0;36mapply\u001b[0;34m(self, func, convert_dtype, args, **kwargs)\u001b[0m\n\u001b[1;32m    641\u001b[0m     \u001b[0;34m@\u001b[0m\u001b[0mdoc\u001b[0m\u001b[0;34m(\u001b[0m\u001b[0mpd\u001b[0m\u001b[0;34m.\u001b[0m\u001b[0mSeries\u001b[0m\u001b[0;34m)\u001b[0m\u001b[0;34m\u001b[0m\u001b[0;34m\u001b[0m\u001b[0m\n\u001b[1;32m    642\u001b[0m     \u001b[0;32mdef\u001b[0m \u001b[0mapply\u001b[0m\u001b[0;34m(\u001b[0m\u001b[0mself\u001b[0m\u001b[0;34m,\u001b[0m \u001b[0mfunc\u001b[0m\u001b[0;34m,\u001b[0m \u001b[0mconvert_dtype\u001b[0m\u001b[0;34m=\u001b[0m\u001b[0;32mTrue\u001b[0m\u001b[0;34m,\u001b[0m \u001b[0margs\u001b[0m\u001b[0;34m=\u001b[0m\u001b[0;34m(\u001b[0m\u001b[0;34m)\u001b[0m\u001b[0;34m,\u001b[0m \u001b[0;34m**\u001b[0m\u001b[0mkwargs\u001b[0m\u001b[0;34m)\u001b[0m\u001b[0;34m:\u001b[0m\u001b[0;34m\u001b[0m\u001b[0;34m\u001b[0m\u001b[0m\n\u001b[0;32m--> 643\u001b[0;31m         \u001b[0mresult\u001b[0m \u001b[0;34m=\u001b[0m \u001b[0msuper\u001b[0m\u001b[0;34m(\u001b[0m\u001b[0;34m)\u001b[0m\u001b[0;34m.\u001b[0m\u001b[0mapply\u001b[0m\u001b[0;34m(\u001b[0m\u001b[0mfunc\u001b[0m\u001b[0;34m,\u001b[0m \u001b[0mconvert_dtype\u001b[0m\u001b[0;34m=\u001b[0m\u001b[0mconvert_dtype\u001b[0m\u001b[0;34m,\u001b[0m \u001b[0margs\u001b[0m\u001b[0;34m=\u001b[0m\u001b[0margs\u001b[0m\u001b[0;34m,\u001b[0m \u001b[0;34m**\u001b[0m\u001b[0mkwargs\u001b[0m\u001b[0;34m)\u001b[0m\u001b[0;34m\u001b[0m\u001b[0;34m\u001b[0m\u001b[0m\n\u001b[0m\u001b[1;32m    644\u001b[0m         \u001b[0;32mif\u001b[0m \u001b[0misinstance\u001b[0m\u001b[0;34m(\u001b[0m\u001b[0mresult\u001b[0m\u001b[0;34m,\u001b[0m \u001b[0mGeoSeries\u001b[0m\u001b[0;34m)\u001b[0m\u001b[0;34m:\u001b[0m\u001b[0;34m\u001b[0m\u001b[0;34m\u001b[0m\u001b[0m\n\u001b[1;32m    645\u001b[0m             \u001b[0;32mif\u001b[0m \u001b[0mself\u001b[0m\u001b[0;34m.\u001b[0m\u001b[0mcrs\u001b[0m \u001b[0;32mis\u001b[0m \u001b[0;32mnot\u001b[0m \u001b[0;32mNone\u001b[0m\u001b[0;34m:\u001b[0m\u001b[0;34m\u001b[0m\u001b[0;34m\u001b[0m\u001b[0m\n",
      "\u001b[0;32m/opt/anaconda3/lib/python3.9/site-packages/pandas/core/series.py\u001b[0m in \u001b[0;36mapply\u001b[0;34m(self, func, convert_dtype, args, **kwargs)\u001b[0m\n\u001b[1;32m   4355\u001b[0m         \u001b[0mdtype\u001b[0m\u001b[0;34m:\u001b[0m \u001b[0mfloat64\u001b[0m\u001b[0;34m\u001b[0m\u001b[0;34m\u001b[0m\u001b[0m\n\u001b[1;32m   4356\u001b[0m         \"\"\"\n\u001b[0;32m-> 4357\u001b[0;31m         \u001b[0;32mreturn\u001b[0m \u001b[0mSeriesApply\u001b[0m\u001b[0;34m(\u001b[0m\u001b[0mself\u001b[0m\u001b[0;34m,\u001b[0m \u001b[0mfunc\u001b[0m\u001b[0;34m,\u001b[0m \u001b[0mconvert_dtype\u001b[0m\u001b[0;34m,\u001b[0m \u001b[0margs\u001b[0m\u001b[0;34m,\u001b[0m \u001b[0mkwargs\u001b[0m\u001b[0;34m)\u001b[0m\u001b[0;34m.\u001b[0m\u001b[0mapply\u001b[0m\u001b[0;34m(\u001b[0m\u001b[0;34m)\u001b[0m\u001b[0;34m\u001b[0m\u001b[0;34m\u001b[0m\u001b[0m\n\u001b[0m\u001b[1;32m   4358\u001b[0m \u001b[0;34m\u001b[0m\u001b[0m\n\u001b[1;32m   4359\u001b[0m     def _reduce(\n",
      "\u001b[0;32m/opt/anaconda3/lib/python3.9/site-packages/pandas/core/apply.py\u001b[0m in \u001b[0;36mapply\u001b[0;34m(self)\u001b[0m\n\u001b[1;32m   1041\u001b[0m             \u001b[0;32mreturn\u001b[0m \u001b[0mself\u001b[0m\u001b[0;34m.\u001b[0m\u001b[0mapply_str\u001b[0m\u001b[0;34m(\u001b[0m\u001b[0;34m)\u001b[0m\u001b[0;34m\u001b[0m\u001b[0;34m\u001b[0m\u001b[0m\n\u001b[1;32m   1042\u001b[0m \u001b[0;34m\u001b[0m\u001b[0m\n\u001b[0;32m-> 1043\u001b[0;31m         \u001b[0;32mreturn\u001b[0m \u001b[0mself\u001b[0m\u001b[0;34m.\u001b[0m\u001b[0mapply_standard\u001b[0m\u001b[0;34m(\u001b[0m\u001b[0;34m)\u001b[0m\u001b[0;34m\u001b[0m\u001b[0;34m\u001b[0m\u001b[0m\n\u001b[0m\u001b[1;32m   1044\u001b[0m \u001b[0;34m\u001b[0m\u001b[0m\n\u001b[1;32m   1045\u001b[0m     \u001b[0;32mdef\u001b[0m \u001b[0magg\u001b[0m\u001b[0;34m(\u001b[0m\u001b[0mself\u001b[0m\u001b[0;34m)\u001b[0m\u001b[0;34m:\u001b[0m\u001b[0;34m\u001b[0m\u001b[0;34m\u001b[0m\u001b[0m\n",
      "\u001b[0;32m/opt/anaconda3/lib/python3.9/site-packages/pandas/core/apply.py\u001b[0m in \u001b[0;36mapply_standard\u001b[0;34m(self)\u001b[0m\n\u001b[1;32m   1096\u001b[0m                 \u001b[0;31m# List[Union[Callable[..., Any], str]]]]]\"; expected\u001b[0m\u001b[0;34m\u001b[0m\u001b[0;34m\u001b[0m\u001b[0m\n\u001b[1;32m   1097\u001b[0m                 \u001b[0;31m# \"Callable[[Any], Any]\"\u001b[0m\u001b[0;34m\u001b[0m\u001b[0;34m\u001b[0m\u001b[0m\n\u001b[0;32m-> 1098\u001b[0;31m                 mapped = lib.map_infer(\n\u001b[0m\u001b[1;32m   1099\u001b[0m                     \u001b[0mvalues\u001b[0m\u001b[0;34m,\u001b[0m\u001b[0;34m\u001b[0m\u001b[0;34m\u001b[0m\u001b[0m\n\u001b[1;32m   1100\u001b[0m                     \u001b[0mf\u001b[0m\u001b[0;34m,\u001b[0m  \u001b[0;31m# type: ignore[arg-type]\u001b[0m\u001b[0;34m\u001b[0m\u001b[0;34m\u001b[0m\u001b[0m\n",
      "\u001b[0;32m/opt/anaconda3/lib/python3.9/site-packages/pandas/_libs/lib.pyx\u001b[0m in \u001b[0;36mpandas._libs.lib.map_infer\u001b[0;34m()\u001b[0m\n",
      "\u001b[0;32m/var/folders/b3/mqwrtgbd6ksd_59nr64r5p6r0000gn/T/ipykernel_72563/1789751326.py\u001b[0m in \u001b[0;36m<lambda>\u001b[0;34m(x)\u001b[0m\n\u001b[0;32m----> 1\u001b[0;31m \u001b[0mdf\u001b[0m\u001b[0;34m[\u001b[0m\u001b[0;34m'centroid'\u001b[0m\u001b[0;34m]\u001b[0m \u001b[0;34m=\u001b[0m \u001b[0mdf\u001b[0m\u001b[0;34m[\u001b[0m\u001b[0;34m'geometry'\u001b[0m\u001b[0;34m]\u001b[0m\u001b[0;34m.\u001b[0m\u001b[0mapply\u001b[0m\u001b[0;34m(\u001b[0m\u001b[0;32mlambda\u001b[0m \u001b[0mx\u001b[0m\u001b[0;34m:\u001b[0m \u001b[0;34m(\u001b[0m\u001b[0mx\u001b[0m\u001b[0;34m.\u001b[0m\u001b[0mcentroid\u001b[0m\u001b[0;34m.\u001b[0m\u001b[0my\u001b[0m\u001b[0;34m,\u001b[0m \u001b[0mx\u001b[0m\u001b[0;34m.\u001b[0m\u001b[0mcentroid\u001b[0m\u001b[0;34m.\u001b[0m\u001b[0mx\u001b[0m\u001b[0;34m)\u001b[0m\u001b[0;34m)\u001b[0m\u001b[0;34m\u001b[0m\u001b[0;34m\u001b[0m\u001b[0m\n\u001b[0m",
      "\u001b[0;31mAttributeError\u001b[0m: 'NoneType' object has no attribute 'centroid'"
     ]
    }
   ],
   "source": [
    "df['centroid'] = df['geometry'].apply(lambda x: (x.centroid.y, x.centroid.x))\n"
   ]
  },
  {
   "cell_type": "code",
   "execution_count": 10,
   "metadata": {},
   "outputs": [
    {
     "data": {
      "text/plain": [
       "(9453, 18)"
      ]
     },
     "execution_count": 10,
     "metadata": {},
     "output_type": "execute_result"
    }
   ],
   "source": [
    "dfinal.shape\n",
    "# this doesnt work. We lose too many rows of housing data - over 1000. A better approach would be to do an outer\n",
    "# join which keeps all property data, \n",
    "# for the properties that are left without assignment, we \n",
    "# then find the centroids for each of the income areas, and then \n",
    "# find the closest centroid to each property"
   ]
  },
  {
   "cell_type": "code",
   "execution_count": null,
   "metadata": {},
   "outputs": [],
   "source": []
  }
 ],
 "metadata": {
  "kernelspec": {
   "display_name": "Python 3 (ipykernel)",
   "language": "python",
   "name": "python3"
  },
  "language_info": {
   "codemirror_mode": {
    "name": "ipython",
    "version": 3
   },
   "file_extension": ".py",
   "mimetype": "text/x-python",
   "name": "python",
   "nbconvert_exporter": "python",
   "pygments_lexer": "ipython3",
   "version": "3.8.10"
  },
  "vscode": {
   "interpreter": {
    "hash": "916dbcbb3f70747c44a77c7bcd40155683ae19c65e1c03b4aa3499c5328201f1"
   }
  }
 },
 "nbformat": 4,
 "nbformat_minor": 2
}

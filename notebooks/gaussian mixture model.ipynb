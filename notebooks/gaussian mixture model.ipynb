{
 "cells": [
  {
   "cell_type": "code",
   "execution_count": 3,
   "id": "6e885bfc",
   "metadata": {},
   "outputs": [],
   "source": [
    "%matplotlib inline\n",
    "import numpy as np\n",
    "import matplotlib.pyplot as plt\n",
    "np.random.seed(0)\n",
    "\n",
    "from sklearn.model_selection import train_test_split\n",
    "\n",
    "from sklearn.mixture import GaussianMixture\n",
    "from sklearn.cluster import KMeans\n",
    "from sklearn.neighbors import KernelDensity\n",
    "from sklearn.ensemble import RandomForestRegressor\n",
    "import pandas as pd"
   ]
  },
  {
   "cell_type": "code",
   "execution_count": 4,
   "id": "44aaa2ee",
   "metadata": {},
   "outputs": [],
   "source": [
    "property_df = pd.read_csv(\"../data/curated/property_isochromes.csv\")"
   ]
  },
  {
   "cell_type": "code",
   "execution_count": 7,
   "id": "ab4dc92d",
   "metadata": {},
   "outputs": [
    {
     "data": {
      "text/html": [
       "<div>\n",
       "<style scoped>\n",
       "    .dataframe tbody tr th:only-of-type {\n",
       "        vertical-align: middle;\n",
       "    }\n",
       "\n",
       "    .dataframe tbody tr th {\n",
       "        vertical-align: top;\n",
       "    }\n",
       "\n",
       "    .dataframe thead th {\n",
       "        text-align: right;\n",
       "    }\n",
       "</style>\n",
       "<table border=\"1\" class=\"dataframe\">\n",
       "  <thead>\n",
       "    <tr style=\"text-align: right;\">\n",
       "      <th></th>\n",
       "      <th>index</th>\n",
       "      <th>address</th>\n",
       "      <th>cost_text</th>\n",
       "      <th>Bed</th>\n",
       "      <th>Bath</th>\n",
       "      <th>Park</th>\n",
       "      <th>property_type</th>\n",
       "      <th>desc_head</th>\n",
       "      <th>LocID</th>\n",
       "      <th>longitude</th>\n",
       "      <th>latitude</th>\n",
       "      <th>SA2_CODE_2021</th>\n",
       "      <th>Median_tot_prsnl_inc_weekly</th>\n",
       "      <th>Median_rent_weekly</th>\n",
       "      <th>Median_tot_fam_inc_weekly</th>\n",
       "      <th>Median_tot_hhd_inc_weekly</th>\n",
       "      <th>total_population</th>\n",
       "      <th>SA2_NAME21</th>\n",
       "      <th>duration_mins</th>\n",
       "    </tr>\n",
       "  </thead>\n",
       "  <tbody>\n",
       "    <tr>\n",
       "      <th>0</th>\n",
       "      <td>https://www.domain.com.au/406a-62-66-nicholson...</td>\n",
       "      <td>406A/62 - 66 Nicholson Street Footscray VIC 3011</td>\n",
       "      <td>280.0</td>\n",
       "      <td>1</td>\n",
       "      <td>1</td>\n",
       "      <td>0</td>\n",
       "      <td>Apartment / Unit / Flat</td>\n",
       "      <td>locat matter</td>\n",
       "      <td>213031348</td>\n",
       "      <td>144.899514</td>\n",
       "      <td>-37.798485</td>\n",
       "      <td>213031348.0</td>\n",
       "      <td>916.0</td>\n",
       "      <td>355.0</td>\n",
       "      <td>2296.0</td>\n",
       "      <td>1763.0</td>\n",
       "      <td>16695.0</td>\n",
       "      <td>Footscray</td>\n",
       "      <td>10.0</td>\n",
       "    </tr>\n",
       "  </tbody>\n",
       "</table>\n",
       "</div>"
      ],
      "text/plain": [
       "                                               index  \\\n",
       "0  https://www.domain.com.au/406a-62-66-nicholson...   \n",
       "\n",
       "                                             address  cost_text  Bed  Bath  \\\n",
       "0   406A/62 - 66 Nicholson Street Footscray VIC 3011      280.0    1     1   \n",
       "\n",
       "   Park            property_type     desc_head      LocID   longitude  \\\n",
       "0     0  Apartment / Unit / Flat  locat matter  213031348  144.899514   \n",
       "\n",
       "    latitude  SA2_CODE_2021  Median_tot_prsnl_inc_weekly  Median_rent_weekly  \\\n",
       "0 -37.798485    213031348.0                        916.0               355.0   \n",
       "\n",
       "   Median_tot_fam_inc_weekly  Median_tot_hhd_inc_weekly  total_population  \\\n",
       "0                     2296.0                     1763.0           16695.0   \n",
       "\n",
       "  SA2_NAME21  duration_mins  \n",
       "0  Footscray           10.0  "
      ]
     },
     "execution_count": 7,
     "metadata": {},
     "output_type": "execute_result"
    }
   ],
   "source": [
    "property_df.head(1)"
   ]
  },
  {
   "cell_type": "code",
   "execution_count": null,
   "id": "38336021",
   "metadata": {},
   "outputs": [],
   "source": []
  },
  {
   "cell_type": "code",
   "execution_count": null,
   "id": "2ce9ef21",
   "metadata": {},
   "outputs": [],
   "source": [
    "num_clusters = 3\n",
    "\n",
    "gmm = GaussianMixture(n_components=num_clusters, covariance_type='full')\n",
    "gmm.fit(data)\n",
    "\n",
    "plt.scatter(data[:,0], data[:,1])\n",
    "plt.xlabel('$x_1$')\n",
    "plt.ylabel('$x_2$')\n",
    "plt.scatter(gmm.means_[:,0],gmm.means_[:,1])\n",
    "plt.scatter(means[:,0],means[:,1])\n",
    "plt.legend(['Data','Estimated mean','True mean'])\n",
    "plt.show()\n",
    "\n",
    "print('weights:\\n {}\\n'.format(gmm.weights_))\n",
    "print('means:\\n {}\\n'.format(gmm.means_))\n",
    "print('covariances:\\n {}\\n'.format(gmm.covariances_))"
   ]
  }
 ],
 "metadata": {
  "kernelspec": {
   "display_name": "Python 3 (ipykernel)",
   "language": "python",
   "name": "python3"
  },
  "language_info": {
   "codemirror_mode": {
    "name": "ipython",
    "version": 3
   },
   "file_extension": ".py",
   "mimetype": "text/x-python",
   "name": "python",
   "nbconvert_exporter": "python",
   "pygments_lexer": "ipython3",
   "version": "3.9.12"
  }
 },
 "nbformat": 4,
 "nbformat_minor": 5
}

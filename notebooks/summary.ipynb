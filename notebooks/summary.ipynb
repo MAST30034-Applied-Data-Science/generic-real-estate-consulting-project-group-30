{
 "cells": [
  {
   "cell_type": "code",
   "execution_count": null,
   "metadata": {},
   "outputs": [],
   "source": [
    "# summary notebook"
   ]
  },
  {
   "cell_type": "markdown",
   "metadata": {},
   "source": [
    "## Preprocessing steps\n",
    "1. Used autocomplete in domain.com to get all the suburbs (web scraping)\n",
    "2. Sent 22364 requests across a few days to scrape every property by suburb, in particular by generating and scraping the links\n",
    "3. Download external datasets: crime, population and income from census, train station distances (## note: ischrone map)\n",
    "4. Found the location coordinates of property data and used the geospatial suburb data to pinpoint the location of the property\n",
    "5. Combined other datasets based on similar methods"
   ]
  },
  {
   "cell_type": "markdown",
   "metadata": {},
   "source": [
    "## Insights on modelling\n",
    "\n",
    "1. What are the most important internal and external features in predicting rental prices?\n",
    "feature analysis PCA\n",
    "Spearman correlation\n",
    "\n",
    "Internal\n",
    "\n",
    "The housing location (suburbs, distance to CBD)\n",
    "Number of bedrooms, baths, and park (area in general)\n",
    "\n",
    "External\n",
    "\n",
    "Distance to train stations\n",
    "Income, crime, etc need to look at the plots\n",
    "\n",
    "2. What are the top 10 suburbs with the highest predicted growth rate?\n",
    "Need to follow up with Ash on trees\n",
    "\n",
    "3. What are the most liveable and affordable suburbs according to your chosen metrics?\n",
    "Look for suburbs that has low crime rate, high income, low rent price, ideally closer to CBD and train stations that are well-spaced\n",
    "Might want to standardise by dividing income with rent price"
   ]
  },
  {
   "cell_type": "markdown",
   "metadata": {},
   "source": [
    "## Prediction\n",
    "Made linear models for each external dataset (crime, income, and population).\n",
    "Using data from previous years, predict growth rates and expected values of these statistics for each suburb in 2023 to 2025.\n",
    "Using these predictions, we can then input it into the rental data model to see which suburb has the greatest growth rates in terms of rental cost. This operates under the assumption that external dataset growth will give us a good indication on the rental price growth. We found that all features (crime, income, population) increase in the future, unsurprisingly."
   ]
  },
  {
   "cell_type": "code",
   "execution_count": null,
   "metadata": {},
   "outputs": [],
   "source": [
    "## import images"
   ]
  },
  {
   "cell_type": "markdown",
   "metadata": {},
   "source": [
    "## Modelling\n",
    "\n",
    "1. Neural Network - Multi layer perceptron\n",
    "Low accuracy on the overall dataset (R^2 = 0.31).\n",
    "When suburbs were divided into groups based on distance to CBD, and NN was trained on each of these groups, R^2 increased to 0.51.\n",
    "Additional feature was created for this, which is the distance between suburb and CBD. The data was also stratified for testing, and grid search was used to find optimal parameters.\n",
    "\n",
    "2. Tree\n",
    "Used an xgboost tree to model all features and tie them into rent prices by suburb. We ended up with a high R^2 (0.98).\n",
    "\n",
    "\n",
    "Both tree and neural network automatically perform feature selections. Our finding on the neural network is not the ideal model, and so it was used to inform us that a different model might be better, so we did an xgboost. \n",
    "\n",
    "While there are a lot of property data, the number of properties per suburb ends up being quite low since there are many subrubs in Victoria. This explains why NN does not work well when stratified. When we divide these into four rings based on distance to CBD instead of suburbs, we get much better performance. However, this diminishes our ability to predict which subrub grows the most."
   ]
  },
  {
   "cell_type": "markdown",
   "metadata": {},
   "source": [
    "for each suburb, we find the average house (average number of beds, baths, etc and round it to nearest int), and from the average house we can make predictions for the price for 2022. Once we have those predictions, we can predict on the average house again with the same number of average beds, baths. And using the crime, income, population data predictions by suburb, this will give us a second value for rent for 2023. Since we have two numbers, we can calculate the growth rate for 2024 and 2025."
   ]
  }
 ],
 "metadata": {
  "kernelspec": {
   "display_name": "Python 3.8.10 64-bit",
   "language": "python",
   "name": "python3"
  },
  "language_info": {
   "codemirror_mode": {
    "name": "ipython",
    "version": 3
   },
   "file_extension": ".py",
   "mimetype": "text/x-python",
   "name": "python",
   "nbconvert_exporter": "python",
   "pygments_lexer": "ipython3",
   "version": "3.8.10"
  },
  "orig_nbformat": 4,
  "vscode": {
   "interpreter": {
    "hash": "916dbcbb3f70747c44a77c7bcd40155683ae19c65e1c03b4aa3499c5328201f1"
   }
  }
 },
 "nbformat": 4,
 "nbformat_minor": 2
}

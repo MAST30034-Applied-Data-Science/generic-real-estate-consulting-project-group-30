{
 "cells": [
  {
   "cell_type": "code",
   "execution_count": 20,
   "metadata": {},
   "outputs": [],
   "source": [
    "import pandas as pd\n",
    "import numpy as np\n",
    "\n",
    "df = pd.read_json('../data/raw/full_property.json')"
   ]
  },
  {
   "cell_type": "code",
   "execution_count": 21,
   "metadata": {},
   "outputs": [
    {
     "data": {
      "text/plain": [
       "(12, 11206)"
      ]
     },
     "execution_count": 21,
     "metadata": {},
     "output_type": "execute_result"
    }
   ],
   "source": [
    "# take a look at the size of the data\n",
    "df.shape"
   ]
  },
  {
   "cell_type": "code",
   "execution_count": 22,
   "metadata": {},
   "outputs": [
    {
     "data": {
      "text/html": [
       "<div>\n",
       "<style scoped>\n",
       "    .dataframe tbody tr th:only-of-type {\n",
       "        vertical-align: middle;\n",
       "    }\n",
       "\n",
       "    .dataframe tbody tr th {\n",
       "        vertical-align: top;\n",
       "    }\n",
       "\n",
       "    .dataframe thead th {\n",
       "        text-align: right;\n",
       "    }\n",
       "</style>\n",
       "<table border=\"1\" class=\"dataframe\">\n",
       "  <thead>\n",
       "    <tr style=\"text-align: right;\">\n",
       "      <th></th>\n",
       "      <th>name</th>\n",
       "      <th>cost_text</th>\n",
       "      <th>coordinates</th>\n",
       "      <th>Bed</th>\n",
       "      <th>Bath</th>\n",
       "      <th>Park</th>\n",
       "      <th>property_type</th>\n",
       "      <th>desc_head</th>\n",
       "      <th>desc</th>\n",
       "      <th>additional features</th>\n",
       "      <th>internal_area_sqkm</th>\n",
       "      <th>land_area_sqkm</th>\n",
       "    </tr>\n",
       "  </thead>\n",
       "  <tbody>\n",
       "    <tr>\n",
       "      <th>https://www.domain.com.au/unit-503-466-swanston-street-carlton-vic-3053-16066115</th>\n",
       "      <td>unit 503/466 Swanston Street Carlton VIC 3053</td>\n",
       "      <td>$320</td>\n",
       "      <td>[-37.8059838, 144.9632701]</td>\n",
       "      <td>1</td>\n",
       "      <td>1</td>\n",
       "      <td>0</td>\n",
       "      <td>Apartment / Unit / Flat</td>\n",
       "      <td>Fully Furnished Studio Apartment in Swanston</td>\n",
       "      <td>class=\"css-dxogle\"&gt;* Unverified feature&lt;svg a...</td>\n",
       "      <td>[Alarm System, Built in wardrobes, Intercom]</td>\n",
       "      <td>[]</td>\n",
       "      <td>[]</td>\n",
       "    </tr>\n",
       "    <tr>\n",
       "      <th>https://www.domain.com.au/61-rowans-road-highett-vic-3190-16080336</th>\n",
       "      <td>61 Rowans Road Highett VIC 3190</td>\n",
       "      <td>$460.00</td>\n",
       "      <td>[-37.9475765, 145.0509956]</td>\n",
       "      <td>3</td>\n",
       "      <td>1</td>\n",
       "      <td>1</td>\n",
       "      <td>House</td>\n",
       "      <td>Quaint three bedroom in a great location!</td>\n",
       "      <td>class=\"css-dxogle\"&gt;* Unverified feature&lt;svg a...</td>\n",
       "      <td>[Split System Air Con, Split System Heating, E...</td>\n",
       "      <td>NaN</td>\n",
       "      <td>[]</td>\n",
       "    </tr>\n",
       "    <tr>\n",
       "      <th>https://www.domain.com.au/29-caspian-circuit-point-cook-vic-3030-16023583</th>\n",
       "      <td>29 Caspian Circuit Point Cook VIC 3030</td>\n",
       "      <td>$430.00 per week</td>\n",
       "      <td>[-37.9002294, 144.7452156]</td>\n",
       "      <td>3</td>\n",
       "      <td>2</td>\n",
       "      <td>2</td>\n",
       "      <td>House</td>\n",
       "      <td>Life at Your Fingertips</td>\n",
       "      <td>class=\"css-dxogle\"&gt;* Unverified feature&lt;svg a...</td>\n",
       "      <td>[]</td>\n",
       "      <td>NaN</td>\n",
       "      <td>[]</td>\n",
       "    </tr>\n",
       "    <tr>\n",
       "      <th>https://www.domain.com.au/36-bradleys-lane-north-warrandyte-vic-3113-16038589</th>\n",
       "      <td>36 Bradleys Lane North Warrandyte VIC 3113</td>\n",
       "      <td>$720 per week</td>\n",
       "      <td>[-37.7370336, 145.2124356]</td>\n",
       "      <td>4</td>\n",
       "      <td>3</td>\n",
       "      <td>3</td>\n",
       "      <td>House</td>\n",
       "      <td>Bradleys Lane</td>\n",
       "      <td>class=\"css-dxogle\"&gt;* Unverified feature&lt;svg a...</td>\n",
       "      <td>[]</td>\n",
       "      <td>NaN</td>\n",
       "      <td>[]</td>\n",
       "    </tr>\n",
       "    <tr>\n",
       "      <th>https://www.domain.com.au/12-isaac-road-keysborough-vic-3173-16020786</th>\n",
       "      <td>12 Isaac Road Keysborough VIC 3173</td>\n",
       "      <td>$515 pw</td>\n",
       "      <td>[-37.9840266, 145.1782469]</td>\n",
       "      <td>3</td>\n",
       "      <td>3</td>\n",
       "      <td>1</td>\n",
       "      <td>House</td>\n",
       "      <td>LUXURY SUBURBAN LIVING</td>\n",
       "      <td>class=\"css-dxogle\"&gt;* Unverified feature&lt;svg a...</td>\n",
       "      <td>[Built in wardrobes, Dishwasher]</td>\n",
       "      <td>NaN</td>\n",
       "      <td>[]</td>\n",
       "    </tr>\n",
       "  </tbody>\n",
       "</table>\n",
       "</div>"
      ],
      "text/plain": [
       "                                                                                             name  \\\n",
       "https://www.domain.com.au/unit-503-466-swanston...  unit 503/466 Swanston Street Carlton VIC 3053   \n",
       "https://www.domain.com.au/61-rowans-road-highet...                61 Rowans Road Highett VIC 3190   \n",
       "https://www.domain.com.au/29-caspian-circuit-po...         29 Caspian Circuit Point Cook VIC 3030   \n",
       "https://www.domain.com.au/36-bradleys-lane-nort...     36 Bradleys Lane North Warrandyte VIC 3113   \n",
       "https://www.domain.com.au/12-isaac-road-keysbor...             12 Isaac Road Keysborough VIC 3173   \n",
       "\n",
       "                                                           cost_text  \\\n",
       "https://www.domain.com.au/unit-503-466-swanston...              $320   \n",
       "https://www.domain.com.au/61-rowans-road-highet...           $460.00   \n",
       "https://www.domain.com.au/29-caspian-circuit-po...  $430.00 per week   \n",
       "https://www.domain.com.au/36-bradleys-lane-nort...     $720 per week   \n",
       "https://www.domain.com.au/12-isaac-road-keysbor...           $515 pw   \n",
       "\n",
       "                                                                   coordinates  \\\n",
       "https://www.domain.com.au/unit-503-466-swanston...  [-37.8059838, 144.9632701]   \n",
       "https://www.domain.com.au/61-rowans-road-highet...  [-37.9475765, 145.0509956]   \n",
       "https://www.domain.com.au/29-caspian-circuit-po...  [-37.9002294, 144.7452156]   \n",
       "https://www.domain.com.au/36-bradleys-lane-nort...  [-37.7370336, 145.2124356]   \n",
       "https://www.domain.com.au/12-isaac-road-keysbor...  [-37.9840266, 145.1782469]   \n",
       "\n",
       "                                                   Bed Bath Park  \\\n",
       "https://www.domain.com.au/unit-503-466-swanston...   1    1    0   \n",
       "https://www.domain.com.au/61-rowans-road-highet...   3    1    1   \n",
       "https://www.domain.com.au/29-caspian-circuit-po...   3    2    2   \n",
       "https://www.domain.com.au/36-bradleys-lane-nort...   4    3    3   \n",
       "https://www.domain.com.au/12-isaac-road-keysbor...   3    3    1   \n",
       "\n",
       "                                                              property_type  \\\n",
       "https://www.domain.com.au/unit-503-466-swanston...  Apartment / Unit / Flat   \n",
       "https://www.domain.com.au/61-rowans-road-highet...                    House   \n",
       "https://www.domain.com.au/29-caspian-circuit-po...                    House   \n",
       "https://www.domain.com.au/36-bradleys-lane-nort...                    House   \n",
       "https://www.domain.com.au/12-isaac-road-keysbor...                    House   \n",
       "\n",
       "                                                                                       desc_head  \\\n",
       "https://www.domain.com.au/unit-503-466-swanston...  Fully Furnished Studio Apartment in Swanston   \n",
       "https://www.domain.com.au/61-rowans-road-highet...     Quaint three bedroom in a great location!   \n",
       "https://www.domain.com.au/29-caspian-circuit-po...                       Life at Your Fingertips   \n",
       "https://www.domain.com.au/36-bradleys-lane-nort...                                 Bradleys Lane   \n",
       "https://www.domain.com.au/12-isaac-road-keysbor...                        LUXURY SUBURBAN LIVING   \n",
       "\n",
       "                                                                                                 desc  \\\n",
       "https://www.domain.com.au/unit-503-466-swanston...   class=\"css-dxogle\">* Unverified feature<svg a...   \n",
       "https://www.domain.com.au/61-rowans-road-highet...   class=\"css-dxogle\">* Unverified feature<svg a...   \n",
       "https://www.domain.com.au/29-caspian-circuit-po...   class=\"css-dxogle\">* Unverified feature<svg a...   \n",
       "https://www.domain.com.au/36-bradleys-lane-nort...   class=\"css-dxogle\">* Unverified feature<svg a...   \n",
       "https://www.domain.com.au/12-isaac-road-keysbor...   class=\"css-dxogle\">* Unverified feature<svg a...   \n",
       "\n",
       "                                                                                  additional features  \\\n",
       "https://www.domain.com.au/unit-503-466-swanston...       [Alarm System, Built in wardrobes, Intercom]   \n",
       "https://www.domain.com.au/61-rowans-road-highet...  [Split System Air Con, Split System Heating, E...   \n",
       "https://www.domain.com.au/29-caspian-circuit-po...                                                 []   \n",
       "https://www.domain.com.au/36-bradleys-lane-nort...                                                 []   \n",
       "https://www.domain.com.au/12-isaac-road-keysbor...                   [Built in wardrobes, Dishwasher]   \n",
       "\n",
       "                                                   internal_area_sqkm  \\\n",
       "https://www.domain.com.au/unit-503-466-swanston...                 []   \n",
       "https://www.domain.com.au/61-rowans-road-highet...                NaN   \n",
       "https://www.domain.com.au/29-caspian-circuit-po...                NaN   \n",
       "https://www.domain.com.au/36-bradleys-lane-nort...                NaN   \n",
       "https://www.domain.com.au/12-isaac-road-keysbor...                NaN   \n",
       "\n",
       "                                                   land_area_sqkm  \n",
       "https://www.domain.com.au/unit-503-466-swanston...             []  \n",
       "https://www.domain.com.au/61-rowans-road-highet...             []  \n",
       "https://www.domain.com.au/29-caspian-circuit-po...             []  \n",
       "https://www.domain.com.au/36-bradleys-lane-nort...             []  \n",
       "https://www.domain.com.au/12-isaac-road-keysbor...             []  "
      ]
     },
     "execution_count": 22,
     "metadata": {},
     "output_type": "execute_result"
    }
   ],
   "source": [
    "# there are 12 rows in the data, but we have 12 features,\n",
    "# so data needs to have 12 columns instead -- need to transpose this data\n",
    "df = df.transpose()\n",
    "df.head()"
   ]
  },
  {
   "cell_type": "markdown",
   "metadata": {},
   "source": [
    "### 1: Cost"
   ]
  },
  {
   "cell_type": "code",
   "execution_count": 23,
   "metadata": {},
   "outputs": [],
   "source": [
    "# the cost of a real estate property is in dollars per week.\n",
    "# I will transform all the values in the cost_text column into integers.\n",
    "\n",
    "df2 = df.copy()\n",
    "import re\n",
    "\n",
    "for i in range(df2.shape[0]):\n",
    "    cost = re.findall(r\"[\\d,]+\", df2.iat[i, 1])\n",
    "\n",
    "    if len(cost) == 0:\n",
    "        df2.iat[i, 1] = np.nan\n",
    "\n",
    "    else:\n",
    "        # find the element with length 3, since it's the most likely one\n",
    "        cost2 = [i for i in cost if len(i) == 3]\n",
    "\n",
    "        if len(cost2) == 1:\n",
    "            # if there's only one, then it's very likely that it's the correct price we want\n",
    "            df2.iat[i, 1] = int(cost2[0])\n",
    "\n",
    "        else:\n",
    "            # otherwise, this is where things get wacky\n",
    "            # might have to clean the data manually\n",
    "            \n",
    "            # some possibilities: really cheap price ($60 per week),\n",
    "            # really expensive price ($1000+ per week),\n",
    "            # only the monthly price is listed, while the weekly price is unknown,\n",
    "            # only the annual price is listed, while the weekly price is unknown,\n",
    "            # some other gibberish text that contains numbers that isn't the weekly price.\n",
    "            #print(df2.iat[i, 1])\n",
    "            #print(cost)\n",
    "            #print(\"\")\n",
    "            pass\n",
    "        \n",
    "            # TODO: after the real estate data is finalised, we can either clean this part manually, or simply ditch it"
   ]
  },
  {
   "cell_type": "markdown",
   "metadata": {},
   "source": [
    "### 2: Description"
   ]
  },
  {
   "cell_type": "code",
   "execution_count": 24,
   "metadata": {},
   "outputs": [],
   "source": [
    "# might need to install these libraries first\n",
    "import enchant   \n",
    "import nltk\n",
    "from nltk.stem import PorterStemmer\n",
    "\n",
    "def preprocess_text(text):\n",
    "    # preprocesses a string of texts :)\n",
    "    \n",
    "    # step 1: remove non-alphabetic characters\n",
    "    text = re.sub(r'[^a-z\\sA-Z]', ' ', text)\n",
    "    # step 2: convert all spacing characters such as tabs and newlines to \n",
    "    # whitespace and ensure that only one whitespace character exists between each word\n",
    "    text = re.sub(r'\\s+', ' ', text)\n",
    "    # step 3: Change all uppercase characters to lower case\n",
    "    text = text.lower()\n",
    "    # step 4: tokenise into words\n",
    "    words = text.split()\n",
    "    # step 5: remove invalid English words and single-letter words, and then stemming\n",
    "    d = enchant.Dict('en')\n",
    "    ps = PorterStemmer()\n",
    "    words = [ps.stem(i) for i in words if(d.check(i) == True) and (len(i) > 1)]\n",
    "    return words"
   ]
  },
  {
   "cell_type": "code",
   "execution_count": 25,
   "metadata": {},
   "outputs": [
    {
     "data": {
      "text/plain": [
       "name                   13\n",
       "cost_text               0\n",
       "coordinates            13\n",
       "Bed                    13\n",
       "Bath                   13\n",
       "Park                   13\n",
       "property_type          13\n",
       "desc_head              13\n",
       "desc                   11\n",
       "additional features    13\n",
       "internal_area_sqkm      0\n",
       "land_area_sqkm         13\n",
       "dtype: int64"
      ]
     },
     "execution_count": 25,
     "metadata": {},
     "output_type": "execute_result"
    }
   ],
   "source": [
    "df3 = df2.copy()\n",
    "\n",
    "\n",
    "for i in range(df3.shape[0]):\n",
    "    # there are many instances with invalid descriptions, \n",
    "    # and fortunately, they seem relatively easy to find.\n",
    "    invalid = re.findall(r'class=\"', df3.iat[i, 8])\n",
    "    if invalid:\n",
    "        df3.iat[i, 8] = np.nan\n",
    "\n",
    "    # text preprocessing\n",
    "    # I'm not sure how useful this \"desc\" attribute is going to be,\n",
    "    # so if you wanna use this attribute, just uncomment this part of the code\n",
    "    # just note that it will take a while to run\n",
    "    #else:\n",
    "    #    df3.iat[i, 8] = preprocess_text(df3.iat[i, 8])\n",
    "\n",
    "#df3.head(3)\n",
    "df3.where(df3['coordinates'] == \"Not Listed\").count()"
   ]
  },
  {
   "cell_type": "markdown",
   "metadata": {},
   "source": [
    "### Final 3 features"
   ]
  },
  {
   "cell_type": "code",
   "execution_count": 26,
   "metadata": {},
   "outputs": [
    {
     "ename": "TypeError",
     "evalue": "object of type 'float' has no len()",
     "output_type": "error",
     "traceback": [
      "\u001b[0;31m---------------------------------------------------------------------------\u001b[0m",
      "\u001b[0;31mTypeError\u001b[0m                                 Traceback (most recent call last)",
      "Input \u001b[0;32mIn [26]\u001b[0m, in \u001b[0;36m<cell line: 2>\u001b[0;34m()\u001b[0m\n\u001b[1;32m      7\u001b[0m \u001b[38;5;28;01mexcept\u001b[39;00m:\n\u001b[1;32m      8\u001b[0m     \u001b[38;5;28;01mpass\u001b[39;00m\n\u001b[0;32m----> 9\u001b[0m \u001b[38;5;28;01mif\u001b[39;00m \u001b[38;5;28;43mlen\u001b[39;49m\u001b[43m(\u001b[49m\u001b[43mdf3\u001b[49m\u001b[38;5;241;43m.\u001b[39;49m\u001b[43miat\u001b[49m\u001b[43m[\u001b[49m\u001b[43mi\u001b[49m\u001b[43m,\u001b[49m\u001b[43m \u001b[49m\u001b[38;5;241;43m-\u001b[39;49m\u001b[38;5;241;43m2\u001b[39;49m\u001b[43m]\u001b[49m\u001b[43m)\u001b[49m \u001b[38;5;241m==\u001b[39m \u001b[38;5;241m0\u001b[39m:\n\u001b[1;32m     10\u001b[0m     df3\u001b[38;5;241m.\u001b[39miat[i, \u001b[38;5;241m-\u001b[39m\u001b[38;5;241m2\u001b[39m] \u001b[38;5;241m=\u001b[39m np\u001b[38;5;241m.\u001b[39mnan\n\u001b[1;32m     11\u001b[0m \u001b[38;5;28;01mif\u001b[39;00m \u001b[38;5;28mlen\u001b[39m(df3\u001b[38;5;241m.\u001b[39miat[i, \u001b[38;5;241m-\u001b[39m\u001b[38;5;241m3\u001b[39m]) \u001b[38;5;241m==\u001b[39m \u001b[38;5;241m0\u001b[39m:\n",
      "\u001b[0;31mTypeError\u001b[0m: object of type 'float' has no len()"
     ]
    }
   ],
   "source": [
    "# only need to replace empty list with NaN values\n",
    "for i in range(df3.shape[0]):\n",
    "    try:\n",
    "        # there is definitely a better way to do this than try except, but this works so\n",
    "        if len(df3.iat[i, -1]) == 0:\n",
    "            df3.iat[i, -1] = np.nan\n",
    "    except:\n",
    "        pass\n",
    "    if len(df3.iat[i, -2]) == 0:\n",
    "        df3.iat[i, -2] = np.nan\n",
    "    if len(df3.iat[i, -3]) == 0:\n",
    "        df3.iat[i, -3] = np.nan\n",
    "\n",
    "df3.head()"
   ]
  },
  {
   "cell_type": "markdown",
   "metadata": {},
   "source": [
    "Before saving the dataframe to csv, additional preprocessing might be required"
   ]
  },
  {
   "cell_type": "code",
   "execution_count": 39,
   "metadata": {},
   "outputs": [
    {
     "ename": "ValueError",
     "evalue": "Invalid file path or buffer object type: <class 'ellipsis'>",
     "output_type": "error",
     "traceback": [
      "\u001b[0;31m---------------------------------------------------------------------------\u001b[0m",
      "\u001b[0;31mValueError\u001b[0m                                Traceback (most recent call last)",
      "\u001b[1;32m/mnt/c/Users/andre/Downloads/Unimelb/MAST30034 Applied Data Science/Project 2/notebooks/preprocess.ipynb Cell 11\u001b[0m in \u001b[0;36m<cell line: 3>\u001b[0;34m()\u001b[0m\n\u001b[1;32m      <a href='vscode-notebook-cell://wsl%2Bubuntu/mnt/c/Users/andre/Downloads/Unimelb/MAST30034%20Applied%20Data%20Science/Project%202/notebooks/preprocess.ipynb#X21sdnNjb2RlLXJlbW90ZQ%3D%3D?line=0'>1</a>\u001b[0m \u001b[39m# save to csv\u001b[39;00m\n\u001b[1;32m      <a href='vscode-notebook-cell://wsl%2Bubuntu/mnt/c/Users/andre/Downloads/Unimelb/MAST30034%20Applied%20Data%20Science/Project%202/notebooks/preprocess.ipynb#X21sdnNjb2RlLXJlbW90ZQ%3D%3D?line=1'>2</a>\u001b[0m filename \u001b[39m=\u001b[39m \u001b[39m.\u001b[39m\u001b[39m.\u001b[39m\u001b[39m.\u001b[39m\n\u001b[0;32m----> <a href='vscode-notebook-cell://wsl%2Bubuntu/mnt/c/Users/andre/Downloads/Unimelb/MAST30034%20Applied%20Data%20Science/Project%202/notebooks/preprocess.ipynb#X21sdnNjb2RlLXJlbW90ZQ%3D%3D?line=2'>3</a>\u001b[0m df3\u001b[39m.\u001b[39;49mto_csv(filename)\n",
      "File \u001b[0;32m~/.local/lib/python3.8/site-packages/pandas/core/generic.py:3551\u001b[0m, in \u001b[0;36mNDFrame.to_csv\u001b[0;34m(self, path_or_buf, sep, na_rep, float_format, columns, header, index, index_label, mode, encoding, compression, quoting, quotechar, line_terminator, chunksize, date_format, doublequote, escapechar, decimal, errors, storage_options)\u001b[0m\n\u001b[1;32m   3540\u001b[0m df \u001b[39m=\u001b[39m \u001b[39mself\u001b[39m \u001b[39mif\u001b[39;00m \u001b[39misinstance\u001b[39m(\u001b[39mself\u001b[39m, ABCDataFrame) \u001b[39melse\u001b[39;00m \u001b[39mself\u001b[39m\u001b[39m.\u001b[39mto_frame()\n\u001b[1;32m   3542\u001b[0m formatter \u001b[39m=\u001b[39m DataFrameFormatter(\n\u001b[1;32m   3543\u001b[0m     frame\u001b[39m=\u001b[39mdf,\n\u001b[1;32m   3544\u001b[0m     header\u001b[39m=\u001b[39mheader,\n\u001b[0;32m   (...)\u001b[0m\n\u001b[1;32m   3548\u001b[0m     decimal\u001b[39m=\u001b[39mdecimal,\n\u001b[1;32m   3549\u001b[0m )\n\u001b[0;32m-> 3551\u001b[0m \u001b[39mreturn\u001b[39;00m DataFrameRenderer(formatter)\u001b[39m.\u001b[39;49mto_csv(\n\u001b[1;32m   3552\u001b[0m     path_or_buf,\n\u001b[1;32m   3553\u001b[0m     line_terminator\u001b[39m=\u001b[39;49mline_terminator,\n\u001b[1;32m   3554\u001b[0m     sep\u001b[39m=\u001b[39;49msep,\n\u001b[1;32m   3555\u001b[0m     encoding\u001b[39m=\u001b[39;49mencoding,\n\u001b[1;32m   3556\u001b[0m     errors\u001b[39m=\u001b[39;49merrors,\n\u001b[1;32m   3557\u001b[0m     compression\u001b[39m=\u001b[39;49mcompression,\n\u001b[1;32m   3558\u001b[0m     quoting\u001b[39m=\u001b[39;49mquoting,\n\u001b[1;32m   3559\u001b[0m     columns\u001b[39m=\u001b[39;49mcolumns,\n\u001b[1;32m   3560\u001b[0m     index_label\u001b[39m=\u001b[39;49mindex_label,\n\u001b[1;32m   3561\u001b[0m     mode\u001b[39m=\u001b[39;49mmode,\n\u001b[1;32m   3562\u001b[0m     chunksize\u001b[39m=\u001b[39;49mchunksize,\n\u001b[1;32m   3563\u001b[0m     quotechar\u001b[39m=\u001b[39;49mquotechar,\n\u001b[1;32m   3564\u001b[0m     date_format\u001b[39m=\u001b[39;49mdate_format,\n\u001b[1;32m   3565\u001b[0m     doublequote\u001b[39m=\u001b[39;49mdoublequote,\n\u001b[1;32m   3566\u001b[0m     escapechar\u001b[39m=\u001b[39;49mescapechar,\n\u001b[1;32m   3567\u001b[0m     storage_options\u001b[39m=\u001b[39;49mstorage_options,\n\u001b[1;32m   3568\u001b[0m )\n",
      "File \u001b[0;32m~/.local/lib/python3.8/site-packages/pandas/io/formats/format.py:1180\u001b[0m, in \u001b[0;36mDataFrameRenderer.to_csv\u001b[0;34m(self, path_or_buf, encoding, sep, columns, index_label, mode, compression, quoting, quotechar, line_terminator, chunksize, date_format, doublequote, escapechar, errors, storage_options)\u001b[0m\n\u001b[1;32m   1159\u001b[0m     created_buffer \u001b[39m=\u001b[39m \u001b[39mFalse\u001b[39;00m\n\u001b[1;32m   1161\u001b[0m csv_formatter \u001b[39m=\u001b[39m CSVFormatter(\n\u001b[1;32m   1162\u001b[0m     path_or_buf\u001b[39m=\u001b[39mpath_or_buf,\n\u001b[1;32m   1163\u001b[0m     line_terminator\u001b[39m=\u001b[39mline_terminator,\n\u001b[0;32m   (...)\u001b[0m\n\u001b[1;32m   1178\u001b[0m     formatter\u001b[39m=\u001b[39m\u001b[39mself\u001b[39m\u001b[39m.\u001b[39mfmt,\n\u001b[1;32m   1179\u001b[0m )\n\u001b[0;32m-> 1180\u001b[0m csv_formatter\u001b[39m.\u001b[39;49msave()\n\u001b[1;32m   1182\u001b[0m \u001b[39mif\u001b[39;00m created_buffer:\n\u001b[1;32m   1183\u001b[0m     \u001b[39massert\u001b[39;00m \u001b[39misinstance\u001b[39m(path_or_buf, StringIO)\n",
      "File \u001b[0;32m~/.local/lib/python3.8/site-packages/pandas/io/formats/csvs.py:241\u001b[0m, in \u001b[0;36mCSVFormatter.save\u001b[0;34m(self)\u001b[0m\n\u001b[1;32m    237\u001b[0m \u001b[39m\"\"\"\u001b[39;00m\n\u001b[1;32m    238\u001b[0m \u001b[39mCreate the writer & save.\u001b[39;00m\n\u001b[1;32m    239\u001b[0m \u001b[39m\"\"\"\u001b[39;00m\n\u001b[1;32m    240\u001b[0m \u001b[39m# apply compression and byte/text conversion\u001b[39;00m\n\u001b[0;32m--> 241\u001b[0m \u001b[39mwith\u001b[39;00m get_handle(\n\u001b[1;32m    242\u001b[0m     \u001b[39mself\u001b[39;49m\u001b[39m.\u001b[39;49mfilepath_or_buffer,\n\u001b[1;32m    243\u001b[0m     \u001b[39mself\u001b[39;49m\u001b[39m.\u001b[39;49mmode,\n\u001b[1;32m    244\u001b[0m     encoding\u001b[39m=\u001b[39;49m\u001b[39mself\u001b[39;49m\u001b[39m.\u001b[39;49mencoding,\n\u001b[1;32m    245\u001b[0m     errors\u001b[39m=\u001b[39;49m\u001b[39mself\u001b[39;49m\u001b[39m.\u001b[39;49merrors,\n\u001b[1;32m    246\u001b[0m     compression\u001b[39m=\u001b[39;49m\u001b[39mself\u001b[39;49m\u001b[39m.\u001b[39;49mcompression,\n\u001b[1;32m    247\u001b[0m     storage_options\u001b[39m=\u001b[39;49m\u001b[39mself\u001b[39;49m\u001b[39m.\u001b[39;49mstorage_options,\n\u001b[1;32m    248\u001b[0m ) \u001b[39mas\u001b[39;00m handles:\n\u001b[1;32m    249\u001b[0m \n\u001b[1;32m    250\u001b[0m     \u001b[39m# Note: self.encoding is irrelevant here\u001b[39;00m\n\u001b[1;32m    251\u001b[0m     \u001b[39mself\u001b[39m\u001b[39m.\u001b[39mwriter \u001b[39m=\u001b[39m csvlib\u001b[39m.\u001b[39mwriter(\n\u001b[1;32m    252\u001b[0m         handles\u001b[39m.\u001b[39mhandle,\n\u001b[1;32m    253\u001b[0m         lineterminator\u001b[39m=\u001b[39m\u001b[39mself\u001b[39m\u001b[39m.\u001b[39mline_terminator,\n\u001b[0;32m   (...)\u001b[0m\n\u001b[1;32m    258\u001b[0m         quotechar\u001b[39m=\u001b[39m\u001b[39mself\u001b[39m\u001b[39m.\u001b[39mquotechar,\n\u001b[1;32m    259\u001b[0m     )\n\u001b[1;32m    261\u001b[0m     \u001b[39mself\u001b[39m\u001b[39m.\u001b[39m_save()\n",
      "File \u001b[0;32m~/.local/lib/python3.8/site-packages/pandas/io/common.py:667\u001b[0m, in \u001b[0;36mget_handle\u001b[0;34m(path_or_buf, mode, encoding, compression, memory_map, is_text, errors, storage_options)\u001b[0m\n\u001b[1;32m    664\u001b[0m     codecs\u001b[39m.\u001b[39mlookup_error(errors)\n\u001b[1;32m    666\u001b[0m \u001b[39m# open URLs\u001b[39;00m\n\u001b[0;32m--> 667\u001b[0m ioargs \u001b[39m=\u001b[39m _get_filepath_or_buffer(\n\u001b[1;32m    668\u001b[0m     path_or_buf,\n\u001b[1;32m    669\u001b[0m     encoding\u001b[39m=\u001b[39;49mencoding,\n\u001b[1;32m    670\u001b[0m     compression\u001b[39m=\u001b[39;49mcompression,\n\u001b[1;32m    671\u001b[0m     mode\u001b[39m=\u001b[39;49mmode,\n\u001b[1;32m    672\u001b[0m     storage_options\u001b[39m=\u001b[39;49mstorage_options,\n\u001b[1;32m    673\u001b[0m )\n\u001b[1;32m    675\u001b[0m handle \u001b[39m=\u001b[39m ioargs\u001b[39m.\u001b[39mfilepath_or_buffer\n\u001b[1;32m    676\u001b[0m handles: \u001b[39mlist\u001b[39m[BaseBuffer]\n",
      "File \u001b[0;32m~/.local/lib/python3.8/site-packages/pandas/io/common.py:424\u001b[0m, in \u001b[0;36m_get_filepath_or_buffer\u001b[0;34m(filepath_or_buffer, encoding, compression, mode, storage_options)\u001b[0m\n\u001b[1;32m    420\u001b[0m \u001b[39mif\u001b[39;00m \u001b[39mnot\u001b[39;00m (\n\u001b[1;32m    421\u001b[0m     \u001b[39mhasattr\u001b[39m(filepath_or_buffer, \u001b[39m\"\u001b[39m\u001b[39mread\u001b[39m\u001b[39m\"\u001b[39m) \u001b[39mor\u001b[39;00m \u001b[39mhasattr\u001b[39m(filepath_or_buffer, \u001b[39m\"\u001b[39m\u001b[39mwrite\u001b[39m\u001b[39m\"\u001b[39m)\n\u001b[1;32m    422\u001b[0m ):\n\u001b[1;32m    423\u001b[0m     msg \u001b[39m=\u001b[39m \u001b[39mf\u001b[39m\u001b[39m\"\u001b[39m\u001b[39mInvalid file path or buffer object type: \u001b[39m\u001b[39m{\u001b[39;00m\u001b[39mtype\u001b[39m(filepath_or_buffer)\u001b[39m}\u001b[39;00m\u001b[39m\"\u001b[39m\n\u001b[0;32m--> 424\u001b[0m     \u001b[39mraise\u001b[39;00m \u001b[39mValueError\u001b[39;00m(msg)\n\u001b[1;32m    426\u001b[0m \u001b[39mreturn\u001b[39;00m IOArgs(\n\u001b[1;32m    427\u001b[0m     filepath_or_buffer\u001b[39m=\u001b[39mfilepath_or_buffer,\n\u001b[1;32m    428\u001b[0m     encoding\u001b[39m=\u001b[39mencoding,\n\u001b[0;32m   (...)\u001b[0m\n\u001b[1;32m    431\u001b[0m     mode\u001b[39m=\u001b[39mmode,\n\u001b[1;32m    432\u001b[0m )\n",
      "\u001b[0;31mValueError\u001b[0m: Invalid file path or buffer object type: <class 'ellipsis'>"
     ]
    }
   ],
   "source": [
    "# save to csv\n",
    "filename = \"full_property_data\"\n",
    "df3.to_csv(filename)"
   ]
  }
 ],
 "metadata": {
  "kernelspec": {
   "display_name": "Python 3 (ipykernel)",
   "language": "python",
   "name": "python3"
  },
  "language_info": {
   "codemirror_mode": {
    "name": "ipython",
    "version": 3
   },
   "file_extension": ".py",
   "mimetype": "text/x-python",
   "name": "python",
   "nbconvert_exporter": "python",
   "pygments_lexer": "ipython3",
   "version": "3.9.12"
  },
  "vscode": {
   "interpreter": {
    "hash": "916dbcbb3f70747c44a77c7bcd40155683ae19c65e1c03b4aa3499c5328201f1"
   }
  }
 },
 "nbformat": 4,
 "nbformat_minor": 2
}
